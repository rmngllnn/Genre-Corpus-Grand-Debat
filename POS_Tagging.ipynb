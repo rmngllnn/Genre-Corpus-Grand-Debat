{
 "cells": [
  {
   "cell_type": "markdown",
   "metadata": {
    "colab_type": "text",
    "id": "view-in-github"
   },
   "source": [
    "<a href=\"https://colab.research.google.com/github/rmngllnn/Stage2021/blob/main/POS_Tagging.ipynb\" target=\"_parent\"><img src=\"https://colab.research.google.com/assets/colab-badge.svg\" alt=\"Open In Colab\"/></a>"
   ]
  },
  {
   "cell_type": "markdown",
   "metadata": {},
   "source": [
    "# POS-Tagging  \n",
    "\n",
    "Ce notebook permet :  \n",
    "- d'extraire les données d'un fichier CSV  \n",
    "- Nettoyer les données. \n",
    "- POS-Tagger les phrases extraites  \n",
    "- Obtenir la liste des noms, adjectifs et pronoms"
   ]
  },
  {
   "cell_type": "code",
   "execution_count": null,
   "metadata": {
    "id": "jnfv1phPKlm2"
   },
   "outputs": [],
   "source": [
    "google_colab = False"
   ]
  },
  {
   "cell_type": "code",
   "execution_count": null,
   "metadata": {
    "id": "i6y73tm5LQeM"
   },
   "outputs": [],
   "source": [
    "import pandas as pd\n",
    "import spacy\n",
    "import csv\n",
    "import json\n",
    "\n",
    "from ipynb.fs.defs.fonctions_preprocess import *"
   ]
  },
  {
   "cell_type": "markdown",
   "metadata": {
    "id": "UjWt2pzRLQeV"
   },
   "source": [
    "## Aperçu des données"
   ]
  },
  {
   "cell_type": "code",
   "execution_count": null,
   "metadata": {
    "colab": {
     "base_uri": "https://localhost:8080/",
     "height": 504
    },
    "id": "m6DLO21MLQeW",
    "outputId": "044cc19e-6045-44d6-d48f-d1a726484d26"
   },
   "outputs": [],
   "source": [
    "df = pd.read_csv(\"../DEMOCRATIE_ET_CITOYENNETE.csv\", low_memory = False)\n",
    "df.shape\n",
    "\n",
    "#df.head()"
   ]
  },
  {
   "cell_type": "markdown",
   "metadata": {
    "id": "VybnfNRNLQeZ"
   },
   "source": [
    "## Extraction et Nettoyage des données\n",
    "\n",
    "https://docs.python.org/fr/3/library/csv.htmlhttps://docs.python.org/fr/3/library/csv.html"
   ]
  },
  {
   "cell_type": "markdown",
   "metadata": {
    "id": "ekyjQPVkKH-I"
   },
   "source": [
    "### Extraction des données"
   ]
  },
  {
   "cell_type": "code",
   "execution_count": null,
   "metadata": {
    "id": "UdsMqrFrLQeb"
   },
   "outputs": [],
   "source": [
    "#Extraction des données dans une liste de listes\n",
    "#len(ex) = 28385 soit le nombre d’observation\n",
    "\n",
    "csv.field_size_limit(100000000) # Adapte la taille limite autorisée\n",
    "\n",
    "data = open_doc_csv (\"../DEMOCRATIE_ET_CITOYENNETE.csv\")"
   ]
  },
  {
   "cell_type": "code",
   "execution_count": null,
   "metadata": {
    "colab": {
     "base_uri": "https://localhost:8080/"
    },
    "id": "Gvf8Dd7lq5mG",
    "outputId": "9d71394c-f2c2-4c77-b4ad-14aa3d58369d"
   },
   "outputs": [],
   "source": [
    "print(len(data))"
   ]
  },
  {
   "cell_type": "code",
   "execution_count": null,
   "metadata": {
    "id": "GecOiDpbGoKA",
    "outputId": "b4c952a8-5dad-4ff0-fcd5-4fda95efbe39",
    "tags": []
   },
   "outputs": [],
   "source": [
    "for obs in data[1500:1700]:\n",
    "    print(obs)"
   ]
  },
  {
   "cell_type": "markdown",
   "metadata": {
    "id": "662zAlKZKPLJ"
   },
   "source": [
    "### Nettoyage des données"
   ]
  },
  {
   "cell_type": "code",
   "execution_count": null,
   "metadata": {
    "id": "gAZTVKHcKTjq"
   },
   "outputs": [],
   "source": [
    "cleaned_data = clean_data(data)"
   ]
  },
  {
   "cell_type": "code",
   "execution_count": null,
   "metadata": {},
   "outputs": [],
   "source": [
    "for obs in cleaned_data[1500:1800]:\n",
    "    print(obs)"
   ]
  },
  {
   "cell_type": "code",
   "execution_count": null,
   "metadata": {},
   "outputs": [],
   "source": [
    "def serialisation_data (data, title):\n",
    "  \"\"\"\n",
    "  Serialize data in a json file\n",
    "  -> Title mus be a string : title.json\n",
    "  <- Save a file in desktop\n",
    "  \"\"\"\n",
    "\n",
    "  with open(title, \"w+\") as file:\n",
    "    json.dump(data, file)"
   ]
  },
  {
   "cell_type": "code",
   "execution_count": null,
   "metadata": {},
   "outputs": [],
   "source": [
    "serialisation_data(cleaned_data, \"all_data_cleaned.json\")"
   ]
  },
  {
   "cell_type": "code",
   "execution_count": null,
   "metadata": {},
   "outputs": [],
   "source": [
    "#Runner que cette cellule si les données viennent d'un fichier json\n",
    "\n",
    "data = open_file(\"all_data_cleaned.json\")"
   ]
  },
  {
   "cell_type": "code",
   "execution_count": null,
   "metadata": {},
   "outputs": [],
   "source": [
    "print(len(data))\n",
    "print(type(data))"
   ]
  },
  {
   "cell_type": "markdown",
   "metadata": {
    "id": "O5SZvlZ7LQek"
   },
   "source": [
    "## POS-Tagging using SpaCy"
   ]
  },
  {
   "cell_type": "code",
   "execution_count": null,
   "metadata": {
    "colab": {
     "base_uri": "https://localhost:8080/"
    },
    "id": "XM2jpqycMXSE",
    "outputId": "3029dd03-064c-40d3-ae0f-796a1d17e4c7"
   },
   "outputs": [],
   "source": [
    "#NE PAS RUN cette cellule sauf sur Google Colab\n",
    "#Permet d'installer le module sur le serveur distant utilisé.\n",
    "\n",
    "if google_colab:\n",
    "  try:\n",
    "    nlp = spacy.load(\"fr_core_news_lg\")\n",
    "  except:\n",
    "    from spacy.cli import download\n",
    "    download('fr_core_news_sm')\n",
    "    nlp = spacy.load(\"fr_core_news_lg\")"
   ]
  },
  {
   "cell_type": "code",
   "execution_count": null,
   "metadata": {},
   "outputs": [],
   "source": [
    "nlp = spacy.load(\"fr_core_news_lg\")"
   ]
  },
  {
   "cell_type": "code",
   "execution_count": null,
   "metadata": {
    "id": "FAC9pb3iLQem"
   },
   "outputs": [],
   "source": [
    "#doc = nlp(d) # /!\\ Doit être de type String\n",
    "\n",
    "def pos_tagger(data_list):\n",
    "    \n",
    "    \"\"\" Tag each token of data in input\n",
    "    -> list of sentences\n",
    "    <- lists of nouns, adjectives and pronouns with lemma of each token\n",
    "    \"\"\"\n",
    "  \n",
    "    nouns = []\n",
    "    adj = []\n",
    "    pronouns = []\n",
    "    \n",
    "    loop = 100000\n",
    "    \n",
    "    def tag(data_item):\n",
    "        doc = nlp(data_item)\n",
    "        for token in doc:\n",
    "            if token.pos_ == \"NOUN\" : nouns.append((token.text, token.lemma_))\n",
    "            elif token.pos_ == \"ADJ\" : adj.append((token.text, token.lemma_))\n",
    "            elif token.pos_ == \"PRON\" : pronouns.append((token.text, token.lemma_))\n",
    "                \n",
    "    for i in range (0, len(data_list)-loop, loop):\n",
    "        print(\"Nous en sommes à\" , i, \"/\", len(data_list))\n",
    "        for j in range (i, i+loop):\n",
    "            tag(data_list[j])\n",
    "    print(\"Nous en sommes à\" , loop*(len(data_list)//loop), \"/\", len(data_list))\n",
    "    for j in range(loop*(len(data_list)//loop), len(data_list)):\n",
    "        tag(data_list[j])\n",
    "    \n",
    "    return nouns, adj, pronouns"
   ]
  },
  {
   "cell_type": "markdown",
   "metadata": {},
   "source": [
    "#### Séparation en trois groupes pour faciliter les calculs"
   ]
  },
  {
   "cell_type": "code",
   "execution_count": null,
   "metadata": {
    "colab": {
     "base_uri": "https://localhost:8080/",
     "height": 395
    },
    "id": "tnj8HByZrj_I",
    "outputId": "45a07d66-3a75-4ba1-925e-5ee2cd6cf7ab"
   },
   "outputs": [],
   "source": [
    "print(\"tag slice 1\")\n",
    "tags_1 = pos_tagger(cleaned_data[0:1000000])\n",
    "serialisation_data(tags_1, \"pos1.json\")"
   ]
  },
  {
   "cell_type": "code",
   "execution_count": null,
   "metadata": {},
   "outputs": [],
   "source": [
    "print(\"slice tag 2\")\n",
    "tags_2 = pos_tagger(data[1000000:2000000])\n",
    "serialisation_data(tags_2, \"pos2.json\")\n",
    "print(\"DONE !\")"
   ]
  },
  {
   "cell_type": "code",
   "execution_count": null,
   "metadata": {},
   "outputs": [],
   "source": [
    "print(tags_2[0][0:10])"
   ]
  },
  {
   "cell_type": "code",
   "execution_count": null,
   "metadata": {},
   "outputs": [],
   "source": [
    "print(\"tag slice 3\")\n",
    "tags_3 = pos_tagger(data[2000000:len(data)])\n",
    "serialisation_data(tags_3, \"pos3.json\")\n",
    "print(\"DONE !\")"
   ]
  },
  {
   "cell_type": "markdown",
   "metadata": {},
   "source": [
    "#### Récupération des trois fichiers et concaténation des listes pour avoir trois listes : nouns, pronouns, adjectives"
   ]
  },
  {
   "cell_type": "code",
   "execution_count": null,
   "metadata": {},
   "outputs": [],
   "source": [
    "pos1 = open_file(\"pos1.json\")\n",
    "print(len(pos1))\n",
    "print(len(pos1[0]))\n",
    "print(len(pos1[1]))\n",
    "print(len(pos1[2]))"
   ]
  },
  {
   "cell_type": "code",
   "execution_count": null,
   "metadata": {},
   "outputs": [],
   "source": [
    "pos2 = open_file(\"pos2.json\")\n",
    "print(len(pos2))"
   ]
  },
  {
   "cell_type": "code",
   "execution_count": null,
   "metadata": {},
   "outputs": [],
   "source": [
    "pos3 = open_file(\"pos3.json\")\n",
    "print(len(pos3))"
   ]
  },
  {
   "cell_type": "code",
   "execution_count": null,
   "metadata": {},
   "outputs": [],
   "source": [
    "print(len(pos1[0]+pos2[0]+pos3[0]))\n",
    "print(len(pos1[1]+pos2[1]+pos3[1]))\n",
    "print(len(pos1[2]+pos2[2]+pos3[2]))"
   ]
  },
  {
   "cell_type": "code",
   "execution_count": null,
   "metadata": {},
   "outputs": [],
   "source": [
    "nouns = pos1[0] + pos2[0] + pos3[0]"
   ]
  },
  {
   "cell_type": "markdown",
   "metadata": {},
   "source": [
    "#### Sérialisation des trois listes"
   ]
  },
  {
   "cell_type": "code",
   "execution_count": null,
   "metadata": {
    "id": "89nF3jIBoKXk"
   },
   "outputs": [],
   "source": [
    "serialisation_data(nouns, \"nouns.json\")"
   ]
  },
  {
   "cell_type": "markdown",
   "metadata": {
    "id": "r-4xk6GnlNtn"
   },
   "source": [
    "## Sérialisation des données\n",
    "\n",
    "Données sérialisées au format json car facilement lisible hors programmation  \n",
    "\n",
    "https://www.codeflow.site/fr/article/python-json  \n",
    "\n",
    "La cellule ci-dssous ne doit être runé qu'une seule fois"
   ]
  },
  {
   "cell_type": "code",
   "execution_count": null,
   "metadata": {
    "colab": {
     "base_uri": "https://localhost:8080/",
     "height": 72
    },
    "id": "KiDnF9C2LQeq",
    "outputId": "4269b787-0cfe-4789-bffd-56fdb2bd34ed"
   },
   "outputs": [],
   "source": [
    "def serialisation_data (data, title):\n",
    "  \"\"\"\n",
    "  Serialize data in a json file\n",
    "  -> Title mus be a string : title.json\n",
    "  <- Save a file in desktop\n",
    "  \"\"\"\n",
    "\n",
    "  with open(title, \"w+\") as file:\n",
    "    json.dump(data, file)"
   ]
  },
  {
   "cell_type": "code",
   "execution_count": null,
   "metadata": {
    "id": "89nF3jIBoKXk"
   },
   "outputs": [],
   "source": [
    "serialisation_data(a, \"test.json\")"
   ]
  }
 ],
 "metadata": {
  "colab": {
   "collapsed_sections": [],
   "include_colab_link": true,
   "name": "POS_Tagging.ipynb",
   "provenance": [],
   "toc_visible": true
  },
  "kernelspec": {
   "display_name": "Python 3",
   "language": "python",
   "name": "python3"
  },
  "language_info": {
   "codemirror_mode": {
    "name": "ipython",
    "version": 3
   },
   "file_extension": ".py",
   "mimetype": "text/x-python",
   "name": "python",
   "nbconvert_exporter": "python",
   "pygments_lexer": "ipython3",
   "version": "3.9.5"
  }
 },
 "nbformat": 4,
 "nbformat_minor": 4
}
