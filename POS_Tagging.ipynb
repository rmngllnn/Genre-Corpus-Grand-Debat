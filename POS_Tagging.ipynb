{
 "cells": [
  {
   "cell_type": "markdown",
   "metadata": {
    "colab_type": "text",
    "id": "view-in-github"
   },
   "source": [
    "<a href=\"https://colab.research.google.com/github/rmngllnn/Stage2021/blob/main/POS_Tagging.ipynb\" target=\"_parent\"><img src=\"https://colab.research.google.com/assets/colab-badge.svg\" alt=\"Open In Colab\"/></a>"
   ]
  },
  {
   "cell_type": "code",
   "execution_count": 1,
   "metadata": {
    "id": "jnfv1phPKlm2"
   },
   "outputs": [],
   "source": [
    "google_colab = False"
   ]
  },
  {
   "cell_type": "code",
   "execution_count": 2,
   "metadata": {
    "id": "i6y73tm5LQeM"
   },
   "outputs": [],
   "source": [
    "import pandas as pd\n",
    "import spacy\n",
    "import csv\n",
    "import string as str\n",
    "import json\n",
    "\n",
    "from ipynb.fs.defs.fonctions_preprocess import * # à installer\n",
    "\n",
    "#TODO : importer les fonctions de fonctions_preprocess"
   ]
  },
  {
   "cell_type": "markdown",
   "metadata": {
    "id": "UjWt2pzRLQeV"
   },
   "source": [
    "## Aperçu des données\n",
    "\n",
    "28 834 entrées et 46 variables par entrée"
   ]
  },
  {
   "cell_type": "code",
   "execution_count": 10,
   "metadata": {
    "colab": {
     "base_uri": "https://localhost:8080/",
     "height": 504
    },
    "id": "m6DLO21MLQeW",
    "outputId": "044cc19e-6045-44d6-d48f-d1a726484d26"
   },
   "outputs": [
    {
     "data": {
      "text/plain": [
       "(116549, 48)"
      ]
     },
     "execution_count": 10,
     "metadata": {},
     "output_type": "execute_result"
    }
   ],
   "source": [
    "df = pd.read_csv(\"../DEMOCRATIE_ET_CITOYENNETE.csv\", low_memory = False)\n",
    "df.shape\n",
    "\n",
    "#df.head()"
   ]
  },
  {
   "cell_type": "markdown",
   "metadata": {
    "id": "VybnfNRNLQeZ"
   },
   "source": [
    "## Extraction et Nettoyage des données\n",
    "\n",
    "https://docs.python.org/fr/3/library/csv.htmlhttps://docs.python.org/fr/3/library/csv.html"
   ]
  },
  {
   "cell_type": "markdown",
   "metadata": {
    "id": "ekyjQPVkKH-I"
   },
   "source": [
    "### Extraction des données"
   ]
  },
  {
   "cell_type": "code",
   "execution_count": 3,
   "metadata": {
    "id": "UdsMqrFrLQeb"
   },
   "outputs": [],
   "source": [
    "#Extraction des données dans une liste de listes\n",
    "#len(ex) = 28385 soit le nombre d’observation\n",
    "\n",
    "csv.field_size_limit(100000000) # Adapte la taille limite autorisée\n",
    "\n",
    "data = open_doc_csv (\"../DEMOCRATIE_ET_CITOYENNETE.csv\")"
   ]
  },
  {
   "cell_type": "code",
   "execution_count": 4,
   "metadata": {
    "colab": {
     "base_uri": "https://localhost:8080/"
    },
    "id": "Gvf8Dd7lq5mG",
    "outputId": "9d71394c-f2c2-4c77-b4ad-14aa3d58369d"
   },
   "outputs": [
    {
     "name": "stdout",
     "output_type": "stream",
     "text": [
      "116550\n"
     ]
    }
   ],
   "source": [
    "print(len(data))"
   ]
  },
  {
   "cell_type": "code",
   "execution_count": 5,
   "metadata": {
    "id": "GecOiDpbGoKA",
    "outputId": "b4c952a8-5dad-4ff0-fcd5-4fda95efbe39",
    "tags": []
   },
   "outputs": [
    {
     "name": "stdout",
     "output_type": "stream",
     "text": [
      "id\n",
      "reference\n",
      "title\n",
      "createdAt\n",
      "publishedAt\n",
      "updatedAt\n",
      "trashed\n",
      "trashedStatus\n",
      "authorId\n",
      "authorType\n",
      "authorZipCode\n",
      "QUXVlc3Rpb246MTA3 - En qui faites-vous le plus confiance pour vous faire représenter dans la société et pourquoi ?\n",
      "QUXVlc3Rpb246MTA4 - En dehors des élus politiques, faut-il donner un rôle plus important aux associations et aux organisations syndicales et professionnelles ?\n",
      "QUXVlc3Rpb246MTA5 - Si oui, à quel type d'associations ou d'organisations ? Et avec quel rôle ?\n",
      "QUXVlc3Rpb246MTEw - Que faudrait-il faire pour renouer le lien entre les citoyens et les élus qui les représentent ?\n",
      "QUXVlc3Rpb246MTEx - Le non-cumul des mandats instauré en 2017 pour les parlementaires (députés et sénateurs) est :\n",
      "QUXVlc3Rpb246MTEy - Pourquoi ?\n",
      "QUXVlc3Rpb246MTEz - Que faudrait-il faire pour mieux représenter les différentes sensibilités politiques ?\n",
      "QUXVlc3Rpb246MTE0 - Pensez-vous qu'il serait souhaitable de réduire le nombre d'élus (hors députés et sénateurs) ?\n",
      "QUXVlc3Rpb246MTE1 - Si oui, lesquels ?\n",
      "QUXVlc3Rpb246MTE2 - Que pensez-vous de la participation des citoyens aux élections et comment les inciter à y participer davantage ?\n",
      "QUXVlc3Rpb246MTE3 - Faut-il prendre en compte le vote blanc ?\n",
      "QUXVlc3Rpb246MTE4 - Si oui, de quelle manière ?\n",
      "QUXVlc3Rpb246MTE5 - Que faudrait-il faire aujourd'hui pour mieux associer les citoyens aux grandes orientations et à la décision publique ? Comment mettre en place une démocratie plus participative ?\n",
      "QUXVlc3Rpb246MTIw - Faut-il faciliter le déclenchement du référendum d'initiative partagée (le RIP est organisé à l'initiative de membres du Parlement soutenu par une partie du corps électoral) qui est applicable depuis 2015 ?\n",
      "QUXVlc3Rpb246MTIx - Si oui, comment ?\n",
      "QUXVlc3Rpb246MTIy - Que faudrait-il faire pour consulter plus directement les citoyens sur l'utilisation de l'argent public, par l'Etat et les collectivités ?\n",
      "QUXVlc3Rpb246MTIz - Quel rôle nos assemblées, dont le Sénat et le Conseil économique, social et environnemental, doivent-elles jouer pour représenter nos territoires et la société civile ?\n",
      "QUXVlc3Rpb246MTI0 - Faut-il les transformer ?\n",
      "QUXVlc3Rpb246MTI1 - Si oui, comment ?\n",
      "QUXVlc3Rpb246MTI3 - Que proposez-vous pour renforcer les principes de la laïcité dans le rapport entre l'Etat et les religions de notre pays ?\n",
      "QUXVlc3Rpb246MTI4 - Comment garantir le respect par tous de la compréhension réciproque et des valeurs intangibles de la République ?\n",
      "QUXVlc3Rpb246MTI5 - Que faudrait-il faire aujourd'hui pour renforcer l'engagement citoyen dans la société ?\n",
      "QUXVlc3Rpb246MTMw - Quels sont les comportements civiques qu'il faut promouvoir dans notre vie quotidienne ou collective ?\n",
      "QUXVlc3Rpb246MTMx - Que faudrait-il faire pour favoriser le développement de ces comportements civiques et par quels engagements concrets chacun peut-il y participer ?\n",
      "QUXVlc3Rpb246MTMy - Que faudrait-il faire pour valoriser l'engagement citoyen dans les parcours de vie, dans les relations avec l'administration et les pouvoirs publics ?\n",
      "QUXVlc3Rpb246MTMz - Quelles sont les incivilités les plus pénibles dans la vie quotidienne et que faudrait-il faire pour lutter contre ces incivilités ?\n",
      "QUXVlc3Rpb246MTM0 - Que peuvent et doivent faire les pouvoirs publics pour répondre aux incivilités ?\n",
      "QUXVlc3Rpb246MTM1 - Quel pourrait être le rôle de chacun pour faire reculer les incivilités dans la société ?\n",
      "QUXVlc3Rpb246MTM2 - Quelles sont les discriminations les plus répandues dont vous êtes témoin ou victime ?\n",
      "QUXVlc3Rpb246MTM3 - Que faudrait-il faire pour lutter contre ces discriminations et construire une société plus solidaire et plus tolérante ?\n",
      "QUXVlc3Rpb246MTM4 - Pensez-vous qu'il faille instaurer des contreparties aux différentes allocations de solidarité ?\n",
      "QUXVlc3Rpb246MTM5 - Si oui, lesquelles ?\n",
      "QUXVlc3Rpb246MTQx - Que pensez-vous de la situation de l'immigration en France aujourd'hui et de la politique migratoire ? Quelles sont, selon vous, les critères à mettre en place pour définir la politique migratoire ?\n",
      "QUXVlc3Rpb246MTQy - En matière d'immigration, une fois nos obligations d'asile remplies, souhaitez-vous que nous puissions nous fixer des objectifs annuels définis par le Parlement ?\n",
      "QUXVlc3Rpb246MTQz - Que proposez-vous afin de répondre à ce défi qui va durer ?\n",
      "QUXVlc3Rpb246MTQ0 - Quelles sont, selon vous, les modalités d'intégration les plus efficaces et les plus justes à mettre en place aujourd'hui dans la société ?\n",
      "QUXVlc3Rpb246MTQ1 - Y a-t-il d'autres points sur la démocratie et la citoyenneté sur lesquels vous souhaiteriez vous exprimer ?\n"
     ]
    }
   ],
   "source": [
    "for obs in data[0]:\n",
    "    print(obs)"
   ]
  },
  {
   "cell_type": "markdown",
   "metadata": {
    "id": "662zAlKZKPLJ"
   },
   "source": [
    "### Nettoyage des données"
   ]
  },
  {
   "cell_type": "code",
   "execution_count": 6,
   "metadata": {
    "id": "gAZTVKHcKTjq"
   },
   "outputs": [],
   "source": [
    "cleaned_data = clean_data(data)"
   ]
  },
  {
   "cell_type": "markdown",
   "metadata": {
    "id": "O5SZvlZ7LQek"
   },
   "source": [
    "## POS-Tagging using SpaCy"
   ]
  },
  {
   "cell_type": "code",
   "execution_count": null,
   "metadata": {
    "colab": {
     "base_uri": "https://localhost:8080/"
    },
    "id": "XM2jpqycMXSE",
    "outputId": "3029dd03-064c-40d3-ae0f-796a1d17e4c7"
   },
   "outputs": [
    {
     "name": "stdout",
     "output_type": "stream",
     "text": [
      "\u001b[38;5;2m✔ Download and installation successful\u001b[0m\n",
      "You can now load the model via spacy.load('fr_core_news_sm')\n"
     ]
    }
   ],
   "source": [
    "#NE PAS RUN cette cellule sauf sur Google Colab\n",
    "#Permet d'installer le module sur le serveur distant utilisé.\n",
    "\n",
    "if google_colab:\n",
    "  try:\n",
    "    nlp = spacy.load(\"fr_core_news_sm\", disable=['ner'])\n",
    "  except:\n",
    "    from spacy.cli import download\n",
    "    download('fr_core_news_sm')\n",
    "    nlp = spacy.load(\"fr_core_news_sm\", disable=['ner'])"
   ]
  },
  {
   "cell_type": "code",
   "execution_count": 48,
   "metadata": {
    "id": "FAC9pb3iLQem"
   },
   "outputs": [],
   "source": [
    "nlp = spacy.load(\"fr_core_news_sm\")\n",
    "#doc = nlp(d) # /!\\ Doit être de type String\n",
    "\n",
    "def pos_tagger(data_list):\n",
    "    \n",
    "    \"\"\" Tag each token of data in input\n",
    "    -> list of sentences\n",
    "    <- list of nouns, adjectives and pronouns with lemma of each token\n",
    "    \"\"\"\n",
    "  \n",
    "    nouns = []\n",
    "    adj = []\n",
    "    pronouns = []\n",
    "    \n",
    "    loop = 100000\n",
    "    \n",
    "    def tag(data_item):\n",
    "        doc = nlp(data_item)\n",
    "        for token in doc:\n",
    "            if token.pos_ == \"NOUN\" : nouns.append((token.text, token.lemma_))\n",
    "            elif token.pos_ == \"ADJ\" : adj.append((token.text, token.lemma_))\n",
    "            elif token.pos_ == \"PRON\" : pronouns.append((token.text, token.lemma_))\n",
    "                \n",
    "    for i in range (0, len(data_list)-loop, loop):\n",
    "        print(\"Nous en sommes à\" , i, \"/\", len(data_list))\n",
    "        for j in range (i, i+loop):\n",
    "            tag(data_list[j])\n",
    "    print(\"Nous en sommes à\" , loop*(len(data_list)//loop), \"/\", len(data_list))\n",
    "    for j in range(loop*(len(data_list)//loop), len(data_list)):\n",
    "        tag(data_list[j])\n",
    "    #if i%100000 == 0 : print(i, \"/\", len(data_list))\n",
    "    \n",
    "    return nouns, adj, pronouns"
   ]
  },
  {
   "cell_type": "code",
   "execution_count": 47,
   "metadata": {
    "colab": {
     "base_uri": "https://localhost:8080/",
     "height": 395
    },
    "id": "tnj8HByZrj_I",
    "outputId": "45a07d66-3a75-4ba1-925e-5ee2cd6cf7ab"
   },
   "outputs": [
    {
     "ename": "NameError",
     "evalue": "name 'message' is not defined",
     "output_type": "error",
     "traceback": [
      "\u001b[0;31m---------------------------------------------------------------------------\u001b[0m",
      "\u001b[0;31mNameError\u001b[0m                                 Traceback (most recent call last)",
      "\u001b[0;32m<ipython-input-47-a8c3ea33cff5>\u001b[0m in \u001b[0;36m<module>\u001b[0;34m\u001b[0m\n\u001b[0;32m----> 1\u001b[0;31m \u001b[0mpos_tagger\u001b[0m\u001b[0;34m(\u001b[0m\u001b[0mcleaned_data\u001b[0m\u001b[0;34m)\u001b[0m\u001b[0;34m\u001b[0m\u001b[0;34m\u001b[0m\u001b[0m\n\u001b[0m",
      "\u001b[0;32m<ipython-input-46-611f53cc713c>\u001b[0m in \u001b[0;36mpos_tagger\u001b[0;34m(data_list)\u001b[0m\n\u001b[1;32m     24\u001b[0m     \u001b[0;32mfor\u001b[0m \u001b[0mi\u001b[0m \u001b[0;32min\u001b[0m \u001b[0mrange\u001b[0m \u001b[0;34m(\u001b[0m\u001b[0;36m0\u001b[0m\u001b[0;34m,\u001b[0m \u001b[0mlen\u001b[0m\u001b[0;34m(\u001b[0m\u001b[0mdata_list\u001b[0m\u001b[0;34m)\u001b[0m\u001b[0;34m-\u001b[0m\u001b[0mloop\u001b[0m\u001b[0;34m,\u001b[0m \u001b[0mloop\u001b[0m\u001b[0;34m)\u001b[0m\u001b[0;34m:\u001b[0m\u001b[0;34m\u001b[0m\u001b[0;34m\u001b[0m\u001b[0m\n\u001b[1;32m     25\u001b[0m         \u001b[0;31m#print(\"Nous en sommes à\" , i, \"/\", len(data_list))\u001b[0m\u001b[0;34m\u001b[0m\u001b[0;34m\u001b[0m\u001b[0;34m\u001b[0m\u001b[0m\n\u001b[0;32m---> 26\u001b[0;31m         \u001b[0mprint\u001b[0m\u001b[0;34m(\u001b[0m\u001b[0mmessage\u001b[0m\u001b[0;34m)\u001b[0m\u001b[0;34m\u001b[0m\u001b[0;34m\u001b[0m\u001b[0m\n\u001b[0m\u001b[1;32m     27\u001b[0m         \u001b[0;32mfor\u001b[0m \u001b[0mj\u001b[0m \u001b[0;32min\u001b[0m \u001b[0mrange\u001b[0m \u001b[0;34m(\u001b[0m\u001b[0mi\u001b[0m\u001b[0;34m,\u001b[0m \u001b[0mi\u001b[0m\u001b[0;34m+\u001b[0m\u001b[0mloop\u001b[0m\u001b[0;34m)\u001b[0m\u001b[0;34m:\u001b[0m\u001b[0;34m\u001b[0m\u001b[0;34m\u001b[0m\u001b[0m\n\u001b[1;32m     28\u001b[0m             \u001b[0mtag\u001b[0m\u001b[0;34m(\u001b[0m\u001b[0mdata_list\u001b[0m\u001b[0;34m[\u001b[0m\u001b[0mj\u001b[0m\u001b[0;34m]\u001b[0m\u001b[0;34m)\u001b[0m\u001b[0;34m\u001b[0m\u001b[0;34m\u001b[0m\u001b[0m\n",
      "\u001b[0;31mNameError\u001b[0m: name 'message' is not defined"
     ]
    }
   ],
   "source": [
    "pos_tagger(cleaned_data)"
   ]
  },
  {
   "cell_type": "markdown",
   "metadata": {
    "id": "r-4xk6GnlNtn"
   },
   "source": [
    "## Sérialisation des données\n",
    "\n",
    "Données sérialisées au format json car facilement lisible hors programmation  \n",
    "\n",
    "https://www.codeflow.site/fr/article/python-json  \n",
    "\n",
    "La cellule ci-dssous ne doit être runé qu'une seule fois"
   ]
  },
  {
   "cell_type": "code",
   "execution_count": null,
   "metadata": {
    "colab": {
     "base_uri": "https://localhost:8080/",
     "height": 72
    },
    "id": "KiDnF9C2LQeq",
    "outputId": "4269b787-0cfe-4789-bffd-56fdb2bd34ed"
   },
   "outputs": [
    {
     "data": {
      "application/vnd.google.colaboratory.intrinsic+json": {
       "type": "string"
      },
      "text/plain": [
       "'with open(\"nouns.json\", \"w+\") as fichier:\\n  json.dump(nouns, fichier)\\n\\nwith open(\"adjectives.json\", \"w+\") as fichier:\\n  json.dump(adj, fichier)\\n \\nwith open(\"pronouns.json\", \"w+\") as fichier:\\n  json.dump(pronouns, fichier)\\n  #fichier.write(pronouns)'"
      ]
     },
     "execution_count": 6,
     "metadata": {
      "tags": []
     },
     "output_type": "execute_result"
    }
   ],
   "source": [
    "def serialisation_data (data, title):\n",
    "  \"\"\"\n",
    "  Serialize data in a json file\n",
    "  -> Title mus be a string : title.json\n",
    "  <- Save a file in desktop\n",
    "  \"\"\"\n",
    "\n",
    "  with open(title, \"w+\") as file:\n",
    "    json.dump(data, file)"
   ]
  },
  {
   "cell_type": "code",
   "execution_count": null,
   "metadata": {
    "id": "89nF3jIBoKXk"
   },
   "outputs": [],
   "source": [
    "serialisation_data(a, \"test.json\")"
   ]
  }
 ],
 "metadata": {
  "colab": {
   "collapsed_sections": [],
   "include_colab_link": true,
   "name": "POS_Tagging.ipynb",
   "provenance": [],
   "toc_visible": true
  },
  "kernelspec": {
   "display_name": "Python 3",
   "language": "python",
   "name": "python3"
  },
  "language_info": {
   "codemirror_mode": {
    "name": "ipython",
    "version": 3
   },
   "file_extension": ".py",
   "mimetype": "text/x-python",
   "name": "python",
   "nbconvert_exporter": "python",
   "pygments_lexer": "ipython3",
   "version": "3.9.5"
  }
 },
 "nbformat": 4,
 "nbformat_minor": 4
}
