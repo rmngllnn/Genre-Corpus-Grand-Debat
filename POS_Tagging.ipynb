{
 "cells": [
  {
   "cell_type": "code",
   "execution_count": 19,
   "metadata": {
    "id": "i6y73tm5LQeM"
   },
   "outputs": [],
   "source": [
    "import pandas as pd\n",
    "import spacy\n",
    "import csv\n",
    "import string as str\n",
    "import json"
   ]
  },
  {
   "cell_type": "markdown",
   "metadata": {
    "id": "UjWt2pzRLQeV"
   },
   "source": [
    "## Aperçu des données\n",
    "\n",
    "28 834 entrées et 46 variables par entrée"
   ]
  },
  {
   "cell_type": "code",
   "execution_count": 3,
   "metadata": {
    "colab": {
     "base_uri": "https://localhost:8080/",
     "height": 504
    },
    "id": "m6DLO21MLQeW",
    "outputId": "044cc19e-6045-44d6-d48f-d1a726484d26"
   },
   "outputs": [
    {
     "ename": "ParserError",
     "evalue": "ignored",
     "output_type": "error",
     "traceback": [
      "\u001b[0;31m---------------------------------------------------------------------------\u001b[0m",
      "\u001b[0;31mParserError\u001b[0m                               Traceback (most recent call last)",
      "\u001b[0;32m<ipython-input-3-a4cf799b6995>\u001b[0m in \u001b[0;36m<module>\u001b[0;34m()\u001b[0m\n\u001b[0;32m----> 1\u001b[0;31m \u001b[0mdf\u001b[0m \u001b[0;34m=\u001b[0m \u001b[0mpd\u001b[0m\u001b[0;34m.\u001b[0m\u001b[0mread_csv\u001b[0m\u001b[0;34m(\u001b[0m\u001b[0;34m\"DEMOCRATIE_ET_CITOYENNETE.csv\"\u001b[0m\u001b[0;34m,\u001b[0m \u001b[0mlow_memory\u001b[0m \u001b[0;34m=\u001b[0m \u001b[0;32mFalse\u001b[0m\u001b[0;34m)\u001b[0m\u001b[0;34m\u001b[0m\u001b[0;34m\u001b[0m\u001b[0m\n\u001b[0m\u001b[1;32m      2\u001b[0m \u001b[0mdf\u001b[0m\u001b[0;34m.\u001b[0m\u001b[0mshape\u001b[0m\u001b[0;34m\u001b[0m\u001b[0;34m\u001b[0m\u001b[0m\n\u001b[1;32m      3\u001b[0m \u001b[0;34m\u001b[0m\u001b[0m\n\u001b[1;32m      4\u001b[0m \u001b[0mdf\u001b[0m\u001b[0;34m.\u001b[0m\u001b[0mhead\u001b[0m\u001b[0;34m(\u001b[0m\u001b[0;34m)\u001b[0m\u001b[0;34m\u001b[0m\u001b[0;34m\u001b[0m\u001b[0m\n\u001b[1;32m      5\u001b[0m \u001b[0;34m\u001b[0m\u001b[0m\n",
      "\u001b[0;32m/usr/local/lib/python3.7/dist-packages/pandas/io/parsers.py\u001b[0m in \u001b[0;36mread_csv\u001b[0;34m(filepath_or_buffer, sep, delimiter, header, names, index_col, usecols, squeeze, prefix, mangle_dupe_cols, dtype, engine, converters, true_values, false_values, skipinitialspace, skiprows, skipfooter, nrows, na_values, keep_default_na, na_filter, verbose, skip_blank_lines, parse_dates, infer_datetime_format, keep_date_col, date_parser, dayfirst, cache_dates, iterator, chunksize, compression, thousands, decimal, lineterminator, quotechar, quoting, doublequote, escapechar, comment, encoding, dialect, error_bad_lines, warn_bad_lines, delim_whitespace, low_memory, memory_map, float_precision)\u001b[0m\n\u001b[1;32m    686\u001b[0m     )\n\u001b[1;32m    687\u001b[0m \u001b[0;34m\u001b[0m\u001b[0m\n\u001b[0;32m--> 688\u001b[0;31m     \u001b[0;32mreturn\u001b[0m \u001b[0m_read\u001b[0m\u001b[0;34m(\u001b[0m\u001b[0mfilepath_or_buffer\u001b[0m\u001b[0;34m,\u001b[0m \u001b[0mkwds\u001b[0m\u001b[0;34m)\u001b[0m\u001b[0;34m\u001b[0m\u001b[0;34m\u001b[0m\u001b[0m\n\u001b[0m\u001b[1;32m    689\u001b[0m \u001b[0;34m\u001b[0m\u001b[0m\n\u001b[1;32m    690\u001b[0m \u001b[0;34m\u001b[0m\u001b[0m\n",
      "\u001b[0;32m/usr/local/lib/python3.7/dist-packages/pandas/io/parsers.py\u001b[0m in \u001b[0;36m_read\u001b[0;34m(filepath_or_buffer, kwds)\u001b[0m\n\u001b[1;32m    458\u001b[0m \u001b[0;34m\u001b[0m\u001b[0m\n\u001b[1;32m    459\u001b[0m     \u001b[0;32mtry\u001b[0m\u001b[0;34m:\u001b[0m\u001b[0;34m\u001b[0m\u001b[0;34m\u001b[0m\u001b[0m\n\u001b[0;32m--> 460\u001b[0;31m         \u001b[0mdata\u001b[0m \u001b[0;34m=\u001b[0m \u001b[0mparser\u001b[0m\u001b[0;34m.\u001b[0m\u001b[0mread\u001b[0m\u001b[0;34m(\u001b[0m\u001b[0mnrows\u001b[0m\u001b[0;34m)\u001b[0m\u001b[0;34m\u001b[0m\u001b[0;34m\u001b[0m\u001b[0m\n\u001b[0m\u001b[1;32m    461\u001b[0m     \u001b[0;32mfinally\u001b[0m\u001b[0;34m:\u001b[0m\u001b[0;34m\u001b[0m\u001b[0;34m\u001b[0m\u001b[0m\n\u001b[1;32m    462\u001b[0m         \u001b[0mparser\u001b[0m\u001b[0;34m.\u001b[0m\u001b[0mclose\u001b[0m\u001b[0;34m(\u001b[0m\u001b[0;34m)\u001b[0m\u001b[0;34m\u001b[0m\u001b[0;34m\u001b[0m\u001b[0m\n",
      "\u001b[0;32m/usr/local/lib/python3.7/dist-packages/pandas/io/parsers.py\u001b[0m in \u001b[0;36mread\u001b[0;34m(self, nrows)\u001b[0m\n\u001b[1;32m   1196\u001b[0m     \u001b[0;32mdef\u001b[0m \u001b[0mread\u001b[0m\u001b[0;34m(\u001b[0m\u001b[0mself\u001b[0m\u001b[0;34m,\u001b[0m \u001b[0mnrows\u001b[0m\u001b[0;34m=\u001b[0m\u001b[0;32mNone\u001b[0m\u001b[0;34m)\u001b[0m\u001b[0;34m:\u001b[0m\u001b[0;34m\u001b[0m\u001b[0;34m\u001b[0m\u001b[0m\n\u001b[1;32m   1197\u001b[0m         \u001b[0mnrows\u001b[0m \u001b[0;34m=\u001b[0m \u001b[0m_validate_integer\u001b[0m\u001b[0;34m(\u001b[0m\u001b[0;34m\"nrows\"\u001b[0m\u001b[0;34m,\u001b[0m \u001b[0mnrows\u001b[0m\u001b[0;34m)\u001b[0m\u001b[0;34m\u001b[0m\u001b[0;34m\u001b[0m\u001b[0m\n\u001b[0;32m-> 1198\u001b[0;31m         \u001b[0mret\u001b[0m \u001b[0;34m=\u001b[0m \u001b[0mself\u001b[0m\u001b[0;34m.\u001b[0m\u001b[0m_engine\u001b[0m\u001b[0;34m.\u001b[0m\u001b[0mread\u001b[0m\u001b[0;34m(\u001b[0m\u001b[0mnrows\u001b[0m\u001b[0;34m)\u001b[0m\u001b[0;34m\u001b[0m\u001b[0;34m\u001b[0m\u001b[0m\n\u001b[0m\u001b[1;32m   1199\u001b[0m \u001b[0;34m\u001b[0m\u001b[0m\n\u001b[1;32m   1200\u001b[0m         \u001b[0;31m# May alter columns / col_dict\u001b[0m\u001b[0;34m\u001b[0m\u001b[0;34m\u001b[0m\u001b[0;34m\u001b[0m\u001b[0m\n",
      "\u001b[0;32m/usr/local/lib/python3.7/dist-packages/pandas/io/parsers.py\u001b[0m in \u001b[0;36mread\u001b[0;34m(self, nrows)\u001b[0m\n\u001b[1;32m   2155\u001b[0m     \u001b[0;32mdef\u001b[0m \u001b[0mread\u001b[0m\u001b[0;34m(\u001b[0m\u001b[0mself\u001b[0m\u001b[0;34m,\u001b[0m \u001b[0mnrows\u001b[0m\u001b[0;34m=\u001b[0m\u001b[0;32mNone\u001b[0m\u001b[0;34m)\u001b[0m\u001b[0;34m:\u001b[0m\u001b[0;34m\u001b[0m\u001b[0;34m\u001b[0m\u001b[0m\n\u001b[1;32m   2156\u001b[0m         \u001b[0;32mtry\u001b[0m\u001b[0;34m:\u001b[0m\u001b[0;34m\u001b[0m\u001b[0;34m\u001b[0m\u001b[0m\n\u001b[0;32m-> 2157\u001b[0;31m             \u001b[0mdata\u001b[0m \u001b[0;34m=\u001b[0m \u001b[0mself\u001b[0m\u001b[0;34m.\u001b[0m\u001b[0m_reader\u001b[0m\u001b[0;34m.\u001b[0m\u001b[0mread\u001b[0m\u001b[0;34m(\u001b[0m\u001b[0mnrows\u001b[0m\u001b[0;34m)\u001b[0m\u001b[0;34m\u001b[0m\u001b[0;34m\u001b[0m\u001b[0m\n\u001b[0m\u001b[1;32m   2158\u001b[0m         \u001b[0;32mexcept\u001b[0m \u001b[0mStopIteration\u001b[0m\u001b[0;34m:\u001b[0m\u001b[0;34m\u001b[0m\u001b[0;34m\u001b[0m\u001b[0m\n\u001b[1;32m   2159\u001b[0m             \u001b[0;32mif\u001b[0m \u001b[0mself\u001b[0m\u001b[0;34m.\u001b[0m\u001b[0m_first_chunk\u001b[0m\u001b[0;34m:\u001b[0m\u001b[0;34m\u001b[0m\u001b[0;34m\u001b[0m\u001b[0m\n",
      "\u001b[0;32mpandas/_libs/parsers.pyx\u001b[0m in \u001b[0;36mpandas._libs.parsers.TextReader.read\u001b[0;34m()\u001b[0m\n",
      "\u001b[0;32mpandas/_libs/parsers.pyx\u001b[0m in \u001b[0;36mpandas._libs.parsers.TextReader._read_rows\u001b[0;34m()\u001b[0m\n",
      "\u001b[0;32mpandas/_libs/parsers.pyx\u001b[0m in \u001b[0;36mpandas._libs.parsers.raise_parser_error\u001b[0;34m()\u001b[0m\n",
      "\u001b[0;31mParserError\u001b[0m: Error tokenizing data. C error: EOF inside string starting at row 2035"
     ]
    }
   ],
   "source": [
    "df = pd.read_csv(\"DEMOCRATIE_ET_CITOYENNETE.csv\", low_memory = False)\n",
    "df.shape\n",
    "\n",
    "df.head()\n",
    "\n"
   ]
  },
  {
   "cell_type": "markdown",
   "metadata": {
    "id": "VybnfNRNLQeZ"
   },
   "source": [
    "## Extraction des données\n",
    "\n",
    "https://docs.python.org/fr/3/library/csv.htmlhttps://docs.python.org/fr/3/library/csv.html"
   ]
  },
  {
   "cell_type": "code",
   "execution_count": null,
   "metadata": {
    "id": "lGiA7mUULQea"
   },
   "outputs": [],
   "source": [
    "def ponctuation(texte):\n",
    "    for p in str.punctuation:\n",
    "        texte = texte.replace(p, \" \")\n",
    "    return texte"
   ]
  },
  {
   "cell_type": "code",
   "execution_count": 5,
   "metadata": {
    "id": "UdsMqrFrLQeb"
   },
   "outputs": [],
   "source": [
    "#Extraction des données dans une liste de listes\n",
    "#len(ex) = 28385 soit le nombre d’observation\n",
    "\n",
    "observations = []\n",
    "with open(\"DEMOCRATIE_ET_CITOYENNETE.csv\", newline='') as csvfile:\n",
    "    reader = csv.reader(csvfile)\n",
    "    for row in reader:\n",
    "        if row != []:\n",
    "            observations.append(row)"
   ]
  },
  {
   "cell_type": "markdown",
   "metadata": {
    "id": "O5SZvlZ7LQek"
   },
   "source": [
    "## POS-Tagging using SpaCy"
   ]
  },
  {
   "cell_type": "code",
   "execution_count": 8,
   "metadata": {
    "colab": {
     "base_uri": "https://localhost:8080/"
    },
    "id": "XM2jpqycMXSE",
    "outputId": "6546580a-f283-4b2e-a2ce-15717627debc"
   },
   "outputs": [
    {
     "name": "stdout",
     "output_type": "stream",
     "text": [
      "\u001b[38;5;2m✔ Download and installation successful\u001b[0m\n",
      "You can now load the model via spacy.load('fr_core_news_sm')\n"
     ]
    }
   ],
   "source": [
    "#NE PAS RUN cette cellule sauf sur Google Colab\n",
    "\n",
    "try:\n",
    "  nlp = spacy.load(\"fr_core_news_sm\", disable=['ner'])\n",
    "except:\n",
    "  from spacy.cli import download\n",
    "  download('fr_core_news_sm')\n",
    "  nlp = spacy.load(\"fr_core_news_sm\", disable=['ner'])"
   ]
  },
  {
   "cell_type": "code",
   "execution_count": 9,
   "metadata": {
    "id": "FAC9pb3iLQem"
   },
   "outputs": [],
   "source": [
    "nlp = spacy.load(\"fr_core_news_sm\")\n",
    "#doc = nlp(d) # /!\\ Doit être de type String\n",
    "\n",
    "doc = []\n",
    "nouns = []\n",
    "adj = []\n",
    "pronouns = []\n",
    "for obs in observations:\n",
    "    for sent in obs:\n",
    "        d = nlp(sent)\n",
    "        for token in d:\n",
    "            if token.pos_ == \"NOUN\" : nouns.append((token.text, token.pos_))\n",
    "            elif token.pos_ == \"ADJ\" : adj.append((token.text, token.pos_))\n",
    "            elif token.pos_ == \"PRON\" : pronouns.append((token.text, token.pos_))\n",
    "            #doc.append((token.text, token.pos_))"
   ]
  },
  {
   "cell_type": "code",
   "execution_count": 17,
   "metadata": {
    "colab": {
     "base_uri": "https://localhost:8080/"
    },
    "id": "nj4TZC7bLQeo",
    "outputId": "9979df19-5729-47b2-e2c0-b3a427af85bb"
   },
   "outputs": [
    {
     "name": "stdout",
     "output_type": "stream",
     "text": [
      "399875\n",
      "399875\n"
     ]
    }
   ],
   "source": [
    "print(len(nouns))"
   ]
  },
  {
   "cell_type": "code",
   "execution_count": null,
   "metadata": {
    "id": "DNKJykpRLQep",
    "outputId": "7bf6958c-7043-47d8-ef49-20c4b0aa0f7c"
   },
   "outputs": [
    {
     "name": "stdout",
     "output_type": "stream",
     "text": [
      "[('publishedAt', 'ADJ'), ('faites', 'ADJ'), ('politiques', 'ADJ'), ('important', 'ADJ'), ('syndicales', 'ADJ'), ('professionnelles', 'ADJ'), ('sénateurs', 'ADJ'), ('différentes', 'ADJ'), ('politiques', 'ADJ'), ('souhaitable', 'ADJ'), ('sénateurs', 'ADJ'), ('blanc', 'ADJ'), ('grandes', 'ADJ'), ('publique', 'ADJ'), ('électoral', 'ADJ'), ('applicable', 'ADJ'), ('public', 'ADJ'), ('économique', 'ADJ'), ('social', 'ADJ'), ('environnemental', 'ADJ'), ('civile', 'ADJ'), ('tous', 'ADJ'), ('réciproque', 'ADJ'), ('intangibles', 'ADJ'), ('Quels', 'ADJ'), ('civiques', 'ADJ'), ('quotidienne', 'ADJ'), ('collective', 'ADJ'), ('civiques', 'ADJ'), ('quels', 'ADJ'), ('concrets', 'ADJ'), ('publics', 'ADJ'), ('Quelles', 'ADJ'), ('pénibles', 'ADJ'), ('quotidienne', 'ADJ'), ('publics', 'ADJ'), ('Quelles', 'ADJ'), ('répandues', 'ADJ'), ('victime', 'ADJ'), ('solidaire', 'ADJ'), ('tolérante', 'ADJ'), ('différentes', 'ADJ'), ('migratoire', 'ADJ'), ('Quelles', 'ADJ'), ('migratoire', 'ADJ'), ('annuels', 'ADJ'), ('Quelles', 'ADJ'), ('justes', 'ADJ'), ('autres', 'ADJ')]\n"
     ]
    }
   ],
   "source": [
    "print(adj)"
   ]
  },
  {
   "cell_type": "code",
   "execution_count": null,
   "metadata": {
    "id": "eqOTZb_VLQep",
    "outputId": "07f35896-f737-4bfc-c869-5fcee624057f"
   },
   "outputs": [
    {
     "name": "stdout",
     "output_type": "stream",
     "text": [
      "[('trashedStatus', 'PRON'), ('qui', 'PRON'), ('-vous', 'PRON'), ('vous', 'PRON'), ('-il', 'PRON'), ('Que', 'PRON'), ('-il', 'PRON'), ('qui', 'PRON'), ('les', 'PRON'), ('Que', 'PRON'), ('-il', 'PRON'), ('-vous', 'PRON'), ('il', 'PRON'), ('lesquels', 'PRON'), ('Que', 'PRON'), ('-vous', 'PRON'), ('les', 'PRON'), ('y', 'PRON'), ('-il', 'PRON'), ('Que', 'PRON'), ('-il', 'PRON'), ('-il', 'PRON'), ('qui', 'PRON'), ('Que', 'PRON'), ('-il', 'PRON'), ('dont', 'PRON'), ('elles', 'PRON'), ('-il', 'PRON'), ('les', 'PRON'), ('Que', 'PRON'), ('Que', 'PRON'), ('-il', 'PRON'), ('il', 'PRON'), ('Que', 'PRON'), ('-il', 'PRON'), ('chacun', 'PRON'), ('-il', 'PRON'), ('y', 'PRON'), ('Que', 'PRON'), ('-il', 'PRON'), ('-il', 'PRON'), ('Que', 'PRON'), ('chacun', 'PRON'), ('dont', 'PRON'), ('vous', 'PRON'), ('Que', 'PRON'), ('-il', 'PRON'), ('-vous', 'PRON'), ('il', 'PRON'), ('lesquelles', 'PRON'), ('Que', 'PRON'), ('-vous', 'PRON'), ('vous', 'PRON'), ('-vous', 'PRON'), ('nous', 'PRON'), ('nous', 'PRON'), ('Que', 'PRON'), ('-vous', 'PRON'), ('qui', 'PRON'), ('vous', 'PRON'), ('-il', 'PRON'), ('lesquels', 'PRON'), ('vous', 'PRON'), ('vous', 'PRON')]\n"
     ]
    }
   ],
   "source": [
    "print(pronouns)"
   ]
  },
  {
   "cell_type": "markdown",
   "metadata": {},
   "source": [
    "## Sérialisation des données\n",
    "\n",
    "Données sérialisées au format json car facilement lisible hors programmation  \n",
    "\n",
    "https://www.codeflow.site/fr/article/python-json  \n",
    "\n",
    "La cellule ci-dssous ne doit être runé qu'une seule fois"
   ]
  },
  {
   "cell_type": "code",
   "execution_count": 22,
   "metadata": {
    "id": "KiDnF9C2LQeq"
   },
   "outputs": [],
   "source": [
    "with open(\"nouns.json\", \"w+\") as fichier:\n",
    "  json.dump(nouns, fichier)\n",
    "\n",
    "with open(\"adjectives.json\", \"w+\") as fichier:\n",
    "  json.dump(adj, fichier)\n",
    " \n",
    "with open(\"pronouns.json\", \"w+\") as fichier:\n",
    "  json.dump(pronouns, fichier)\n",
    "  #fichier.write(pronouns)"
   ]
  }
 ],
 "metadata": {
  "colab": {
   "name": "POS_Tagging.ipynb",
   "provenance": [],
   "toc_visible": true
  },
  "kernelspec": {
   "display_name": "Python 3",
   "language": "python",
   "name": "python3"
  },
  "language_info": {
   "codemirror_mode": {
    "name": "ipython",
    "version": 3
   },
   "file_extension": ".py",
   "mimetype": "text/x-python",
   "name": "python",
   "nbconvert_exporter": "python",
   "pygments_lexer": "ipython3",
   "version": "3.8.5"
  }
 },
 "nbformat": 4,
 "nbformat_minor": 4
}
