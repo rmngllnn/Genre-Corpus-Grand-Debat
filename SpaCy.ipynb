{
 "cells": [
  {
   "cell_type": "code",
   "execution_count": 1,
   "metadata": {},
   "outputs": [],
   "source": [
    "import spacy\n",
    "#from spacy.lang.fr.examples import sentences "
   ]
  },
  {
   "cell_type": "code",
   "execution_count": 7,
   "metadata": {},
   "outputs": [
    {
     "name": "stdout",
     "output_type": "stream",
     "text": [
      "Que pensez-vous de la situation de l'immigration en France aujourd'hui et de la politique migratoire ? Quelles sont, selon vous, les critères à mettre en place pour définir la politique migratoire ?\tEn matière d'immigration, une fois nos obligations d'asile remplies, souhaitez-vous que nous puissions nous fixer des objectifs annuels définis par le Parlement ?\n",
      "Que PRON\n",
      "pensez VERB\n",
      "-vous PRON\n",
      "de ADP\n",
      "la DET\n",
      "situation NOUN\n",
      "de ADP\n",
      "l' DET\n",
      "immigration NOUN\n",
      "en ADP\n",
      "France PROPN\n",
      "aujourd'hui ADV\n",
      "et CCONJ\n",
      "de ADP\n",
      "la DET\n",
      "politique NOUN\n",
      "migratoire ADJ\n",
      "? PUNCT\n",
      "Quelles ADJ\n",
      "sont AUX\n",
      ", PUNCT\n",
      "selon ADP\n",
      "vous PRON\n",
      ", PUNCT\n",
      "les DET\n",
      "critères NOUN\n",
      "à ADP\n",
      "mettre VERB\n",
      "en ADP\n",
      "place NOUN\n",
      "pour ADP\n",
      "définir VERB\n",
      "la DET\n",
      "politique NOUN\n",
      "migratoire ADJ\n",
      "? PUNCT\n",
      "\t SPACE\n",
      "En ADP\n",
      "matière NOUN\n",
      "d' ADP\n",
      "immigration NOUN\n",
      ", PUNCT\n",
      "une DET\n",
      "fois NOUN\n",
      "nos DET\n",
      "obligations NOUN\n",
      "d' ADP\n",
      "asile NOUN\n",
      "remplies NOUN\n",
      ", PUNCT\n",
      "souhaitez VERB\n",
      "-vous PRON\n",
      "que SCONJ\n",
      "nous PRON\n",
      "puissions VERB\n",
      "nous PRON\n",
      "fixer VERB\n",
      "des DET\n",
      "objectifs NOUN\n",
      "annuels ADJ\n",
      "définis VERB\n",
      "par ADP\n",
      "le DET\n",
      "Parlement NOUN\n",
      "? PUNCT\n"
     ]
    }
   ],
   "source": [
    "nlp = spacy.load(\"fr_core_news_sm\")\n",
    "doc = nlp(\"Que pensez-vous de la situation de l'immigration en France aujourd'hui et de la politique migratoire ? Quelles sont, selon vous, les critères à mettre en place pour définir la politique migratoire ?\tEn matière d'immigration, une fois nos obligations d'asile remplies, souhaitez-vous que nous puissions nous fixer des objectifs annuels définis par le Parlement ?\")\n",
    "print(doc)\n",
    "for token in doc:\n",
    "    print(token.text, token.pos_)"
   ]
  },
  {
   "cell_type": "code",
   "execution_count": null,
   "metadata": {},
   "outputs": [],
   "source": []
  }
 ],
 "metadata": {
  "kernelspec": {
   "display_name": "Python 3",
   "language": "python",
   "name": "python3"
  },
  "language_info": {
   "codemirror_mode": {
    "name": "ipython",
    "version": 3
   },
   "file_extension": ".py",
   "mimetype": "text/x-python",
   "name": "python",
   "nbconvert_exporter": "python",
   "pygments_lexer": "ipython3",
   "version": "3.8.5"
  }
 },
 "nbformat": 4,
 "nbformat_minor": 4
}
