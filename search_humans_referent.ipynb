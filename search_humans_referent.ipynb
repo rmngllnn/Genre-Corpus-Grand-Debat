{
 "cells": [
  {
   "cell_type": "code",
   "execution_count": 5,
   "id": "34e232c8-8167-482b-b3f4-51ad906964ae",
   "metadata": {},
   "outputs": [],
   "source": [
    "import spacy\n",
    "import json\n",
    "#from ipynb.fs.defs.fonctions_preprocess import open_file"
   ]
  },
  {
   "cell_type": "code",
   "execution_count": 3,
   "id": "740f348b-6ea0-4630-bd9f-5313ef2eb01c",
   "metadata": {},
   "outputs": [],
   "source": [
    "def open_file(file):\n",
    "    with open(file) as json_data:\n",
    "        data = json.load(json_data)\n",
    "    return data\n",
    "#ata_str = json.dumps(data_dict)"
   ]
  },
  {
   "cell_type": "code",
   "execution_count": 6,
   "id": "2f15ea64-e6aa-4215-9696-19140ddee2ec",
   "metadata": {},
   "outputs": [],
   "source": [
    "data = open_file(\"nouns.json\")"
   ]
  },
  {
   "cell_type": "code",
   "execution_count": 15,
   "id": "725743ff-4645-4290-8c8e-38f3e14788e4",
   "metadata": {},
   "outputs": [],
   "source": [
    "extract = []\n",
    "extract_s = \"\"\n",
    "\n",
    "for tuple in data[0:1000]:\n",
    "    extract.append(tuple[0])\n",
    "    extract_s += tuple[0]\n",
    "    extract_s += \" \""
   ]
  },
  {
   "cell_type": "code",
   "execution_count": null,
   "id": "8f760518-59e1-4c26-8a75-fa3ef0a9f7b1",
   "metadata": {},
   "outputs": [],
   "source": [
    "print(extract_s)"
   ]
  },
  {
   "cell_type": "code",
   "execution_count": 18,
   "id": "7dd625e2-acf4-4be6-90b2-d2c53dae1372",
   "metadata": {},
   "outputs": [],
   "source": [
    "nlp = spacy.load(\"fr_core_news_md\")"
   ]
  },
  {
   "cell_type": "code",
   "execution_count": 53,
   "id": "c85e1c7c-5692-4a91-b7eb-eb2a71df8d4b",
   "metadata": {},
   "outputs": [],
   "source": [
    "doc1 = nlp(extract_s)\n",
    "doc2 = nlp(extract_s)"
   ]
  },
  {
   "cell_type": "code",
   "execution_count": 26,
   "id": "282c53bf-1ff1-4387-91d5-b70e468f1a25",
   "metadata": {},
   "outputs": [
    {
     "name": "stdout",
     "output_type": "stream",
     "text": [
      "député <-> changer -0.033489127\n",
      "député <-> changer -0.033489127\n"
     ]
    }
   ],
   "source": [
    "print(doc[1], \"<->\", doc[4], doc[1].similarity(doc[4]))\n",
    "print(doc[1], \"<->\", doc[4], doc[4].similarity(doc[1]))"
   ]
  },
  {
   "cell_type": "code",
   "execution_count": 54,
   "id": "6be1b941-eac2-4ee5-afc5-34c249eebd84",
   "metadata": {},
   "outputs": [
    {
     "name": "stdout",
     "output_type": "stream",
     "text": [
      "1045\n"
     ]
    }
   ],
   "source": [
    "token = doc1[2]\n",
    "\n",
    "similarities = []\n",
    "\n",
    "for i in range (1, len(doc1)):\n",
    "    if doc1[i].has_vector != False:\n",
    "        similarities.append((token, \"<->\", doc[i], token.similarity(doc1[i])))\n",
    "        \n",
    "print(len(similarities))"
   ]
  },
  {
   "cell_type": "code",
   "execution_count": null,
   "id": "1a85be26-20c9-4b28-a8f8-fc28667ed870",
   "metadata": {},
   "outputs": [],
   "source": [
    "for i in range (len(doc1)):\n",
    "    tok = doc[i]\n",
    "    for k in range(len(doc2)):\n",
    "        \n",
    "    "
   ]
  },
  {
   "cell_type": "code",
   "execution_count": 51,
   "id": "08be2357-c83e-4db5-a8cb-40ae8205c777",
   "metadata": {},
   "outputs": [
    {
     "name": "stdout",
     "output_type": "stream",
     "text": [
      "(élus, '<->', citoyens, 0.6504473)\n",
      "(élus, '<->', mandats, 0.5441664)\n",
      "(élus, '<->', parlementaires, 0.65867287)\n",
      "(élus, '<->', députés, 0.7705656)\n",
      "(élus, '<->', députés, 0.7705656)\n",
      "(élus, '<->', citoyens, 0.6504473)\n",
      "(élus, '<->', citoyens, 0.6504473)\n",
      "(élus, '<->', membres, 0.62267023)\n",
      "(élus, '<->', citoyens, 0.6504473)\n",
      "(élus, '<->', fonctionnaires, 0.5425997)\n",
      "(élus, '<->', officiers, 0.5105129)\n",
      "(élus, '<->', partenaires, 0.5110353)\n",
      "(élus, '<->', commissaires, 0.5840372)\n",
      "(élus, '<->', commissaires, 0.5840372)\n",
      "(élus, '<->', Commissaires, 0.5840372)\n",
      "(élus, '<->', habitants, 0.5351231)\n",
      "(élus, '<->', acteurs, 0.5277875)\n",
      "(élus, '<->', acteurs, 0.5277875)\n",
      "(élus, '<->', automobilistes, 0.520203)\n",
      "(élus, '<->', acteurs, 0.5277875)\n",
      "(élus, '<->', maires, 0.74382687)\n",
      "(élus, '<->', présidents, 0.70790905)\n",
      "(élus, '<->', départements, 0.538357)\n",
      "(élus, '<->', acteurs, 0.5277875)\n",
      "(élus, '<->', citoyens, 0.6504473)\n",
      "(élus, '<->', citoyens, 0.6504473)\n",
      "(élus, '<->', citoyens, 0.6504473)\n",
      "(élus, '<->', citoyens, 0.6504473)\n",
      "(élus, '<->', citoyens, 0.6504473)\n",
      "(élus, '<->', citoyens, 0.6504473)\n",
      "(élus, '<->', citoyens, 0.6504473)\n",
      "(élus, '<->', partis, 0.62439847)\n",
      "(élus, '<->', citoyens, 0.6504473)\n",
      "(élus, '<->', maire, 0.5086413)\n",
      "(élus, '<->', citoyens, 0.6504473)\n",
      "(élus, '<->', citoyens, 0.6504473)\n",
      "(élus, '<->', citoyens, 0.6504473)\n",
      "(élus, '<->', habitants, 0.5351231)\n",
      "(élus, '<->', Députés, 0.7705656)\n",
      "(élus, '<->', Sénateurs, 0.7590111)\n",
      "(élus, '<->', citoyens, 0.6504473)\n"
     ]
    }
   ],
   "source": [
    "for tuple in similarities:\n",
    "    if tuple[3] >= 0.5 and tuple[3] != 1:\n",
    "        print(tuple)"
   ]
  },
  {
   "cell_type": "code",
   "execution_count": null,
   "id": "851e844d-d289-4764-bdc1-5da0c5e2acac",
   "metadata": {},
   "outputs": [],
   "source": []
  }
 ],
 "metadata": {
  "kernelspec": {
   "display_name": "Python 3",
   "language": "python",
   "name": "python3"
  },
  "language_info": {
   "codemirror_mode": {
    "name": "ipython",
    "version": 3
   },
   "file_extension": ".py",
   "mimetype": "text/x-python",
   "name": "python",
   "nbconvert_exporter": "python",
   "pygments_lexer": "ipython3",
   "version": "3.9.5"
  }
 },
 "nbformat": 4,
 "nbformat_minor": 5
}
