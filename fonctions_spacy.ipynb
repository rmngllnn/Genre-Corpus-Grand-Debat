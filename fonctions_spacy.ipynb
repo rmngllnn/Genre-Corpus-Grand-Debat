{
 "cells": [
  {
   "cell_type": "code",
   "execution_count": 8,
   "metadata": {
    "colab": {
     "base_uri": "https://localhost:8080/",
     "height": 334
    },
    "id": "Y5CybHB_YaaI",
    "outputId": "395fd41e-c309-4039-e633-42f802949382"
   },
   "outputs": [
    {
     "ename": "ModuleNotFoundError",
     "evalue": "ignored",
     "output_type": "error",
     "traceback": [
      "\u001b[0;31m---------------------------------------------------------------------------\u001b[0m",
      "\u001b[0;31mModuleNotFoundError\u001b[0m                       Traceback (most recent call last)",
      "\u001b[0;32m<ipython-input-8-8d3d6baf3d9a>\u001b[0m in \u001b[0;36m<module>\u001b[0;34m()\u001b[0m\n\u001b[1;32m      1\u001b[0m \u001b[0;32mimport\u001b[0m \u001b[0mspacy\u001b[0m\u001b[0;34m\u001b[0m\u001b[0;34m\u001b[0m\u001b[0m\n\u001b[0;32m----> 2\u001b[0;31m \u001b[0;32mfrom\u001b[0m \u001b[0mipynb\u001b[0m\u001b[0;34m.\u001b[0m\u001b[0mfs\u001b[0m\u001b[0;34m.\u001b[0m\u001b[0mdefs\u001b[0m\u001b[0;34m.\u001b[0m\u001b[0mLecture_doc_csv\u001b[0m \u001b[0;32mimport\u001b[0m \u001b[0mopen_doc_csv\u001b[0m\u001b[0;34m\u001b[0m\u001b[0;34m\u001b[0m\u001b[0m\n\u001b[0m\u001b[1;32m      3\u001b[0m \u001b[0;31m#from spacy.lang.fr.examples import sentences\u001b[0m\u001b[0;34m\u001b[0m\u001b[0;34m\u001b[0m\u001b[0;34m\u001b[0m\u001b[0m\n",
      "\u001b[0;31mModuleNotFoundError\u001b[0m: No module named 'ipynb'",
      "",
      "\u001b[0;31m---------------------------------------------------------------------------\u001b[0;32m\nNOTE: If your import is failing due to a missing package, you can\nmanually install dependencies using either !pip or !apt.\n\nTo view examples of installing some common dependencies, click the\n\"Open Examples\" button below.\n\u001b[0;31m---------------------------------------------------------------------------\u001b[0m\n"
     ]
    }
   ],
   "source": [
    "import spacy\n",
    "from ipynb.fs.defs.Lecture_doc_csv import open_doc_csv # à installer\n",
    "#from spacy.lang.fr.examples import sentences "
   ]
  },
  {
   "cell_type": "code",
   "execution_count": null,
   "metadata": {
    "id": "ph6RBK57YaaJ"
   },
   "outputs": [],
   "source": [
    "\"\"\"\n",
    "nlp = spacy.load(\"fr_core_news_sm\")\n",
    "doc = nlp(\"Que pensez-vous de la situation de l'immigration en France aujourd'hui et de la politique migratoire ? Quelles sont, selon vous, les critères à mettre en place pour définir la politique migratoire ?\tEn matière d'immigration, une fois nos obligations d'asile remplies, souhaitez-vous que nous puissions nous fixer des objectifs annuels définis par le Parlement ?\")\n",
    "print(doc)\n",
    "for token in doc:\n",
    "    print(token.text, token.pos_)\n",
    "\"\"\""
   ]
  },
  {
   "cell_type": "code",
   "execution_count": 5,
   "metadata": {
    "id": "IrucXQGiDoKj"
   },
   "outputs": [],
   "source": [
    "#NE PAS RUN cette cellule sauf sur Google Colab\n",
    "#Permet d'installer le module sur le serveur distant utilisé.\n",
    "\n",
    "try:\n",
    "  nlp = spacy.load(\"fr_core_news_sm\", disable=['ner'])\n",
    "except:\n",
    "  from spacy.cli import download\n",
    "  download('fr_core_news_sm')\n",
    "  nlp = spacy.load(\"fr_core_news_sm\", disable=['ner'])"
   ]
  },
  {
   "cell_type": "markdown",
   "metadata": {
    "id": "r91bfLwTFEfz"
   },
   "source": [
    "# Fonction pour tagguer les mots\n",
    "\n",
    "On souhaite récupérer les noms, adjectifs et pronoms.  \n",
    "Pour chaque mot taggué comme nom, adjectif ou pronom, on récupère le token et son lemme (pour lier plus tard les mots qui ont le même lemme)."
   ]
  },
  {
   "cell_type": "code",
   "execution_count": 7,
   "metadata": {
    "id": "DQ3vc5KzYaaK"
   },
   "outputs": [],
   "source": [
    "def pos_tagger(data_list):\n",
    "  \"\"\" Tag each token of data in input\n",
    "  -> list of sentences\n",
    "  <- list of nouns, adjectives and pronouns with lemma of each token\n",
    "  \"\"\"\n",
    "\n",
    "  nouns = []\n",
    "  adj = []\n",
    "  pronouns = []\n",
    "  \n",
    "  for sent in data_list:\n",
    "    doc = nlp(sent)\n",
    "    for token in doc:\n",
    "      if token.pos_ == \"NOUN\" : nouns.append((token.text, token.lemma_))\n",
    "      elif token.pos_ == \"ADJ\" : adj.append((token.text, token.lemma_))\n",
    "      elif token.pos_ == \"PRON\" : pronouns.append((token.text, token.lemma_))\n",
    "  \n",
    "  return nouns, adj, pronouns"
   ]
  }
 ],
 "metadata": {
  "colab": {
   "name": "SpaCy.ipynb",
   "provenance": []
  },
  "kernelspec": {
   "display_name": "Python 3",
   "language": "python",
   "name": "python3"
  },
  "language_info": {
   "codemirror_mode": {
    "name": "ipython",
    "version": 3
   },
   "file_extension": ".py",
   "mimetype": "text/x-python",
   "name": "python",
   "nbconvert_exporter": "python",
   "pygments_lexer": "ipython3",
   "version": "3.9.5"
  }
 },
 "nbformat": 4,
 "nbformat_minor": 1
}
