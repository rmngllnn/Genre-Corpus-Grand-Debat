{
  "nbformat": 4,
  "nbformat_minor": 0,
  "metadata": {
    "kernelspec": {
      "display_name": "Python 3",
      "language": "python",
      "name": "python3"
    },
    "language_info": {
      "codemirror_mode": {
        "name": "ipython",
        "version": 3
      },
      "file_extension": ".py",
      "mimetype": "text/x-python",
      "name": "python",
      "nbconvert_exporter": "python",
      "pygments_lexer": "ipython3",
      "version": "3.8.5"
    },
    "colab": {
      "name": "Lecture_doc_csv.ipynb",
      "provenance": []
    }
  },
  "cells": [
    {
      "cell_type": "code",
      "metadata": {
        "id": "Tya9y2rgX72A"
      },
      "source": [
        "import pandas as pd\n",
        "import csv\n",
        "import re"
      ],
      "execution_count": 1,
      "outputs": []
    },
    {
      "cell_type": "code",
      "metadata": {
        "colab": {
          "base_uri": "https://localhost:8080/",
          "height": 466
        },
        "id": "mbzeKuwSX72E",
        "outputId": "fe5b3dfa-9331-4e3d-bf87-adee2e124272"
      },
      "source": [
        "#exemple = open('/Documents/hubic/Cours/M1_LI/Stage/DEMOCRATIE_ET_CITOYENNETE.csv', 'r')\n",
        "\n",
        "\n",
        "df = pd.read_csv(\"DEMOCRATIE_ET_CITOYENNETE.csv\", low_memory = False)\n",
        "df.shape\n",
        "\n",
        "df.head()\n"
      ],
      "execution_count": 5,
      "outputs": [
        {
          "output_type": "error",
          "ename": "ParserError",
          "evalue": "ignored",
          "traceback": [
            "\u001b[0;31m---------------------------------------------------------------------------\u001b[0m",
            "\u001b[0;31mParserError\u001b[0m                               Traceback (most recent call last)",
            "\u001b[0;32m<ipython-input-5-879a842791fc>\u001b[0m in \u001b[0;36m<module>\u001b[0;34m()\u001b[0m\n\u001b[1;32m      2\u001b[0m \u001b[0;34m\u001b[0m\u001b[0m\n\u001b[1;32m      3\u001b[0m \u001b[0;34m\u001b[0m\u001b[0m\n\u001b[0;32m----> 4\u001b[0;31m \u001b[0mdf\u001b[0m \u001b[0;34m=\u001b[0m \u001b[0mpd\u001b[0m\u001b[0;34m.\u001b[0m\u001b[0mread_csv\u001b[0m\u001b[0;34m(\u001b[0m\u001b[0;34m\"DEMOCRATIE_ET_CITOYENNETE.csv\"\u001b[0m\u001b[0;34m,\u001b[0m \u001b[0mlow_memory\u001b[0m \u001b[0;34m=\u001b[0m \u001b[0;32mFalse\u001b[0m\u001b[0;34m)\u001b[0m\u001b[0;34m\u001b[0m\u001b[0;34m\u001b[0m\u001b[0m\n\u001b[0m\u001b[1;32m      5\u001b[0m \u001b[0mdf\u001b[0m\u001b[0;34m.\u001b[0m\u001b[0mshape\u001b[0m\u001b[0;34m\u001b[0m\u001b[0;34m\u001b[0m\u001b[0m\n\u001b[1;32m      6\u001b[0m \u001b[0;34m\u001b[0m\u001b[0m\n",
            "\u001b[0;32m/usr/local/lib/python3.7/dist-packages/pandas/io/parsers.py\u001b[0m in \u001b[0;36mread_csv\u001b[0;34m(filepath_or_buffer, sep, delimiter, header, names, index_col, usecols, squeeze, prefix, mangle_dupe_cols, dtype, engine, converters, true_values, false_values, skipinitialspace, skiprows, skipfooter, nrows, na_values, keep_default_na, na_filter, verbose, skip_blank_lines, parse_dates, infer_datetime_format, keep_date_col, date_parser, dayfirst, cache_dates, iterator, chunksize, compression, thousands, decimal, lineterminator, quotechar, quoting, doublequote, escapechar, comment, encoding, dialect, error_bad_lines, warn_bad_lines, delim_whitespace, low_memory, memory_map, float_precision)\u001b[0m\n\u001b[1;32m    686\u001b[0m     )\n\u001b[1;32m    687\u001b[0m \u001b[0;34m\u001b[0m\u001b[0m\n\u001b[0;32m--> 688\u001b[0;31m     \u001b[0;32mreturn\u001b[0m \u001b[0m_read\u001b[0m\u001b[0;34m(\u001b[0m\u001b[0mfilepath_or_buffer\u001b[0m\u001b[0;34m,\u001b[0m \u001b[0mkwds\u001b[0m\u001b[0;34m)\u001b[0m\u001b[0;34m\u001b[0m\u001b[0;34m\u001b[0m\u001b[0m\n\u001b[0m\u001b[1;32m    689\u001b[0m \u001b[0;34m\u001b[0m\u001b[0m\n\u001b[1;32m    690\u001b[0m \u001b[0;34m\u001b[0m\u001b[0m\n",
            "\u001b[0;32m/usr/local/lib/python3.7/dist-packages/pandas/io/parsers.py\u001b[0m in \u001b[0;36m_read\u001b[0;34m(filepath_or_buffer, kwds)\u001b[0m\n\u001b[1;32m    458\u001b[0m \u001b[0;34m\u001b[0m\u001b[0m\n\u001b[1;32m    459\u001b[0m     \u001b[0;32mtry\u001b[0m\u001b[0;34m:\u001b[0m\u001b[0;34m\u001b[0m\u001b[0;34m\u001b[0m\u001b[0m\n\u001b[0;32m--> 460\u001b[0;31m         \u001b[0mdata\u001b[0m \u001b[0;34m=\u001b[0m \u001b[0mparser\u001b[0m\u001b[0;34m.\u001b[0m\u001b[0mread\u001b[0m\u001b[0;34m(\u001b[0m\u001b[0mnrows\u001b[0m\u001b[0;34m)\u001b[0m\u001b[0;34m\u001b[0m\u001b[0;34m\u001b[0m\u001b[0m\n\u001b[0m\u001b[1;32m    461\u001b[0m     \u001b[0;32mfinally\u001b[0m\u001b[0;34m:\u001b[0m\u001b[0;34m\u001b[0m\u001b[0;34m\u001b[0m\u001b[0m\n\u001b[1;32m    462\u001b[0m         \u001b[0mparser\u001b[0m\u001b[0;34m.\u001b[0m\u001b[0mclose\u001b[0m\u001b[0;34m(\u001b[0m\u001b[0;34m)\u001b[0m\u001b[0;34m\u001b[0m\u001b[0;34m\u001b[0m\u001b[0m\n",
            "\u001b[0;32m/usr/local/lib/python3.7/dist-packages/pandas/io/parsers.py\u001b[0m in \u001b[0;36mread\u001b[0;34m(self, nrows)\u001b[0m\n\u001b[1;32m   1196\u001b[0m     \u001b[0;32mdef\u001b[0m \u001b[0mread\u001b[0m\u001b[0;34m(\u001b[0m\u001b[0mself\u001b[0m\u001b[0;34m,\u001b[0m \u001b[0mnrows\u001b[0m\u001b[0;34m=\u001b[0m\u001b[0;32mNone\u001b[0m\u001b[0;34m)\u001b[0m\u001b[0;34m:\u001b[0m\u001b[0;34m\u001b[0m\u001b[0;34m\u001b[0m\u001b[0m\n\u001b[1;32m   1197\u001b[0m         \u001b[0mnrows\u001b[0m \u001b[0;34m=\u001b[0m \u001b[0m_validate_integer\u001b[0m\u001b[0;34m(\u001b[0m\u001b[0;34m\"nrows\"\u001b[0m\u001b[0;34m,\u001b[0m \u001b[0mnrows\u001b[0m\u001b[0;34m)\u001b[0m\u001b[0;34m\u001b[0m\u001b[0;34m\u001b[0m\u001b[0m\n\u001b[0;32m-> 1198\u001b[0;31m         \u001b[0mret\u001b[0m \u001b[0;34m=\u001b[0m \u001b[0mself\u001b[0m\u001b[0;34m.\u001b[0m\u001b[0m_engine\u001b[0m\u001b[0;34m.\u001b[0m\u001b[0mread\u001b[0m\u001b[0;34m(\u001b[0m\u001b[0mnrows\u001b[0m\u001b[0;34m)\u001b[0m\u001b[0;34m\u001b[0m\u001b[0;34m\u001b[0m\u001b[0m\n\u001b[0m\u001b[1;32m   1199\u001b[0m \u001b[0;34m\u001b[0m\u001b[0m\n\u001b[1;32m   1200\u001b[0m         \u001b[0;31m# May alter columns / col_dict\u001b[0m\u001b[0;34m\u001b[0m\u001b[0;34m\u001b[0m\u001b[0;34m\u001b[0m\u001b[0m\n",
            "\u001b[0;32m/usr/local/lib/python3.7/dist-packages/pandas/io/parsers.py\u001b[0m in \u001b[0;36mread\u001b[0;34m(self, nrows)\u001b[0m\n\u001b[1;32m   2155\u001b[0m     \u001b[0;32mdef\u001b[0m \u001b[0mread\u001b[0m\u001b[0;34m(\u001b[0m\u001b[0mself\u001b[0m\u001b[0;34m,\u001b[0m \u001b[0mnrows\u001b[0m\u001b[0;34m=\u001b[0m\u001b[0;32mNone\u001b[0m\u001b[0;34m)\u001b[0m\u001b[0;34m:\u001b[0m\u001b[0;34m\u001b[0m\u001b[0;34m\u001b[0m\u001b[0m\n\u001b[1;32m   2156\u001b[0m         \u001b[0;32mtry\u001b[0m\u001b[0;34m:\u001b[0m\u001b[0;34m\u001b[0m\u001b[0;34m\u001b[0m\u001b[0m\n\u001b[0;32m-> 2157\u001b[0;31m             \u001b[0mdata\u001b[0m \u001b[0;34m=\u001b[0m \u001b[0mself\u001b[0m\u001b[0;34m.\u001b[0m\u001b[0m_reader\u001b[0m\u001b[0;34m.\u001b[0m\u001b[0mread\u001b[0m\u001b[0;34m(\u001b[0m\u001b[0mnrows\u001b[0m\u001b[0;34m)\u001b[0m\u001b[0;34m\u001b[0m\u001b[0;34m\u001b[0m\u001b[0m\n\u001b[0m\u001b[1;32m   2158\u001b[0m         \u001b[0;32mexcept\u001b[0m \u001b[0mStopIteration\u001b[0m\u001b[0;34m:\u001b[0m\u001b[0;34m\u001b[0m\u001b[0;34m\u001b[0m\u001b[0m\n\u001b[1;32m   2159\u001b[0m             \u001b[0;32mif\u001b[0m \u001b[0mself\u001b[0m\u001b[0;34m.\u001b[0m\u001b[0m_first_chunk\u001b[0m\u001b[0;34m:\u001b[0m\u001b[0;34m\u001b[0m\u001b[0;34m\u001b[0m\u001b[0m\n",
            "\u001b[0;32mpandas/_libs/parsers.pyx\u001b[0m in \u001b[0;36mpandas._libs.parsers.TextReader.read\u001b[0;34m()\u001b[0m\n",
            "\u001b[0;32mpandas/_libs/parsers.pyx\u001b[0m in \u001b[0;36mpandas._libs.parsers.TextReader._read_rows\u001b[0;34m()\u001b[0m\n",
            "\u001b[0;32mpandas/_libs/parsers.pyx\u001b[0m in \u001b[0;36mpandas._libs.parsers.raise_parser_error\u001b[0;34m()\u001b[0m\n",
            "\u001b[0;31mParserError\u001b[0m: Error tokenizing data. C error: EOF inside string starting at row 5163"
          ]
        }
      ]
    },
    {
      "cell_type": "code",
      "metadata": {
        "id": "CBg6I-DuX72F"
      },
      "source": [
        "def open_doc_csv (infile):\n",
        "  \"\"\"Open csv file \n",
        "  -> csv file (must be a string)\n",
        "  <- list of lists of rows\"\"\"\n",
        "\n",
        "  complete_data = []\n",
        "  with open(infile, newline='') as csvfile:\n",
        "    reader = csv.reader(csvfile)\n",
        "    for row in reader:\n",
        "        complete_data.append(row)\n",
        "        \n",
        "  return complete_data"
      ],
      "execution_count": 2,
      "outputs": []
    },
    {
      "cell_type": "code",
      "metadata": {
        "id": "9c8xL8UJbpHF"
      },
      "source": [
        "data = open_doc_csv(\"DEMOCRATIE_ET_CITOYENNETE.csv\")"
      ],
      "execution_count": 68,
      "outputs": []
    },
    {
      "cell_type": "code",
      "metadata": {
        "id": "LnkuOMLN59Qt",
        "outputId": "3ed20db9-2cbe-4b1a-93ff-f071b9e27dcf",
        "colab": {
          "base_uri": "https://localhost:8080/"
        }
      },
      "source": [
        "print(len(data))"
      ],
      "execution_count": 69,
      "outputs": [
        {
          "output_type": "stream",
          "text": [
            "69254\n"
          ],
          "name": "stdout"
        }
      ]
    },
    {
      "cell_type": "code",
      "metadata": {
        "id": "L7rfHM6L5Z-z",
        "outputId": "61ecebcd-9b7c-4ef8-eee0-8a6408ea2ed7",
        "colab": {
          "base_uri": "https://localhost:8080/"
        }
      },
      "source": [
        "for obs in data[0]:\n",
        "  if obs != \"\":\n",
        "    print(len(obs), \" : \", obs)"
      ],
      "execution_count": 71,
      "outputs": [
        {
          "output_type": "stream",
          "text": [
            "2  :  id\n",
            "9  :  reference\n",
            "5  :  title\n",
            "9  :  createdAt\n",
            "11  :  publishedAt\n",
            "9  :  updatedAt\n",
            "7  :  trashed\n",
            "13  :  trashedStatus\n",
            "8  :  authorId\n",
            "10  :  authorType\n",
            "13  :  authorZipCode\n",
            "114  :  QUXVlc3Rpb246MTA3 - En qui faites-vous le plus confiance pour vous faire représenter dans la société et pourquoi ?\n",
            "159  :  QUXVlc3Rpb246MTA4 - En dehors des élus politiques, faut-il donner un rôle plus important aux associations et aux organisations syndicales et professionnelles ?\n",
            "95  :  QUXVlc3Rpb246MTA5 - Si oui, à quel type d'associations ou d'organisations ? Et avec quel rôle ?\n",
            "116  :  QUXVlc3Rpb246MTEw - Que faudrait-il faire pour renouer le lien entre les citoyens et les élus qui les représentent ?\n",
            "114  :  QUXVlc3Rpb246MTEx - Le non-cumul des mandats instauré en 2017 pour les parlementaires (députés et sénateurs) est :\n",
            "30  :  QUXVlc3Rpb246MTEy - Pourquoi ?\n",
            "106  :  QUXVlc3Rpb246MTEz - Que faudrait-il faire pour mieux représenter les différentes sensibilités politiques ?\n",
            "114  :  QUXVlc3Rpb246MTE0 - Pensez-vous qu'il serait souhaitable de réduire le nombre d'élus (hors députés et sénateurs) ?\n",
            "38  :  QUXVlc3Rpb246MTE1 - Si oui, lesquels ?\n",
            "132  :  QUXVlc3Rpb246MTE2 - Que pensez-vous de la participation des citoyens aux élections et comment les inciter à y participer davantage ?\n",
            "61  :  QUXVlc3Rpb246MTE3 - Faut-il prendre en compte le vote blanc ?\n",
            "47  :  QUXVlc3Rpb246MTE4 - Si oui, de quelle manière ?\n",
            "199  :  QUXVlc3Rpb246MTE5 - Que faudrait-il faire aujourd'hui pour mieux associer les citoyens aux grandes orientations et à la décision publique ? Comment mettre en place une démocratie plus participative ?\n",
            "226  :  QUXVlc3Rpb246MTIw - Faut-il faciliter le déclenchement du référendum d'initiative partagée (le RIP est organisé à l'initiative de membres du Parlement soutenu par une partie du corps électoral) qui est applicable depuis 2015 ?\n",
            "37  :  QUXVlc3Rpb246MTIx - Si oui, comment ?\n",
            "158  :  QUXVlc3Rpb246MTIy - Que faudrait-il faire pour consulter plus directement les citoyens sur l'utilisation de l'argent public, par l'Etat et les collectivités ?\n",
            "188  :  QUXVlc3Rpb246MTIz - Quel rôle nos assemblées, dont le Sénat et le Conseil économique, social et environnemental, doivent-elles jouer pour représenter nos territoires et la société civile ?\n",
            "45  :  QUXVlc3Rpb246MTI0 - Faut-il les transformer ?\n",
            "37  :  QUXVlc3Rpb246MTI1 - Si oui, comment ?\n",
            "142  :  QUXVlc3Rpb246MTI3 - Que proposez-vous pour renforcer les principes de la laïcité dans le rapport entre l'Etat et les religions de notre pays ?\n",
            "133  :  QUXVlc3Rpb246MTI4 - Comment garantir le respect par tous de la compréhension réciproque et des valeurs intangibles de la République ?\n",
            "107  :  QUXVlc3Rpb246MTI5 - Que faudrait-il faire aujourd'hui pour renforcer l'engagement citoyen dans la société ?\n",
            "122  :  QUXVlc3Rpb246MTMw - Quels sont les comportements civiques qu'il faut promouvoir dans notre vie quotidienne ou collective ?\n",
            "167  :  QUXVlc3Rpb246MTMx - Que faudrait-il faire pour favoriser le développement de ces comportements civiques et par quels engagements concrets chacun peut-il y participer ?\n",
            "170  :  QUXVlc3Rpb246MTMy - Que faudrait-il faire pour valoriser l'engagement citoyen dans les parcours de vie, dans les relations avec l'administration et les pouvoirs publics ?\n",
            "152  :  QUXVlc3Rpb246MTMz - Quelles sont les incivilités les plus pénibles dans la vie quotidienne et que faudrait-il faire pour lutter contre ces incivilités ?\n",
            "101  :  QUXVlc3Rpb246MTM0 - Que peuvent et doivent faire les pouvoirs publics pour répondre aux incivilités ?\n",
            "109  :  QUXVlc3Rpb246MTM1 - Quel pourrait être le rôle de chacun pour faire reculer les incivilités dans la société ?\n",
            "106  :  QUXVlc3Rpb246MTM2 - Quelles sont les discriminations les plus répandues dont vous êtes témoin ou victime ?\n",
            "141  :  QUXVlc3Rpb246MTM3 - Que faudrait-il faire pour lutter contre ces discriminations et construire une société plus solidaire et plus tolérante ?\n",
            "116  :  QUXVlc3Rpb246MTM4 - Pensez-vous qu'il faille instaurer des contreparties aux différentes allocations de solidarité ?\n",
            "40  :  QUXVlc3Rpb246MTM5 - Si oui, lesquelles ?\n",
            "218  :  QUXVlc3Rpb246MTQx - Que pensez-vous de la situation de l'immigration en France aujourd'hui et de la politique migratoire ? Quelles sont, selon vous, les critères à mettre en place pour définir la politique migratoire ?\n",
            "182  :  QUXVlc3Rpb246MTQy - En matière d'immigration, une fois nos obligations d'asile remplies, souhaitez-vous que nous puissions nous fixer des objectifs annuels définis par le Parlement ?\n",
            "79  :  QUXVlc3Rpb246MTQz - Que proposez-vous afin de répondre à ce défi qui va durer ?\n",
            "159  :  QUXVlc3Rpb246MTQ0 - Quelles sont, selon vous, les modalités d'intégration les plus efficaces et les plus justes à mettre en place aujourd'hui dans la société ?\n",
            "127  :  QUXVlc3Rpb246MTQ1 - Y a-t-il d'autres points sur la démocratie et la citoyenneté sur lesquels vous souhaiteriez vous exprimer ?\n"
          ],
          "name": "stdout"
        }
      ]
    },
    {
      "cell_type": "code",
      "metadata": {
        "id": "9-1XHFLRX72G"
      },
      "source": [
        "def clean_data (data):\n",
        "    \"\"\" Return cleaned list of non-words\n",
        "    -> List of lists of words\n",
        "    <- List of sentences\"\"\"\n",
        "    \n",
        "    #del data[0][0:11]\n",
        "\n",
        "    cleaned_data = []  \n",
        "    for obs in data:\n",
        "      for entry in obs:\n",
        "        if re.match(r\"QUXV(.)\", entry) is not None:\n",
        "          print(entry)\n",
        "        elif re.match(r\"VXNl(.)\", entry) is None and re.match(r\"UHJ(.)\") is None and re.match(r\"(\\d)*-(\\d)*-(\\d)* (\\d)*:(\\d)*:(\\d)*\", entry) is None and re.match(r\"false\", entry) is None:\n",
        "            cleaned_data.append(entry)\n",
        "        \"\"\"if re.match(r\"VXNl(.)\", entry) is None:\n",
        "            cleaned_data.append(entry)\n",
        "        elif re.match(r\"(\\d)*-(\\d)*-(\\d)* (\\d)*:(\\d)*:(\\d)*\", entry) is None:\n",
        "            cleaned_data.append(entry)\n",
        "        elif re.match(r\"false\", entry) is None:\n",
        "            cleaned_data.append(entry)\"\"\"\n",
        "        \"\"\"elif re.match(r\"QUXV(.)\", entry) is not None:\n",
        "            cleaned_data.append(entry[21:])\"\"\"\n",
        "    \n",
        "    return cleaned_data\n"
      ],
      "execution_count": 73,
      "outputs": []
    },
    {
      "cell_type": "code",
      "metadata": {
        "id": "3iFU9nLwcWFp",
        "outputId": "61c9cf57-ab3c-492a-d4ef-f138c656c03f",
        "colab": {
          "base_uri": "https://localhost:8080/",
          "height": 310
        }
      },
      "source": [
        "cleaned_data = clean_data(data)"
      ],
      "execution_count": 72,
      "outputs": [
        {
          "output_type": "error",
          "ename": "TypeError",
          "evalue": "ignored",
          "traceback": [
            "\u001b[0;31m---------------------------------------------------------------------------\u001b[0m",
            "\u001b[0;31mTypeError\u001b[0m                                 Traceback (most recent call last)",
            "\u001b[0;32m<ipython-input-72-b75e42777290>\u001b[0m in \u001b[0;36m<module>\u001b[0;34m()\u001b[0m\n\u001b[0;32m----> 1\u001b[0;31m \u001b[0mcleaned_data\u001b[0m \u001b[0;34m=\u001b[0m \u001b[0mclean_data\u001b[0m\u001b[0;34m(\u001b[0m\u001b[0mdata\u001b[0m\u001b[0;34m)\u001b[0m\u001b[0;34m\u001b[0m\u001b[0;34m\u001b[0m\u001b[0m\n\u001b[0m",
            "\u001b[0;32m<ipython-input-66-684f0066cd57>\u001b[0m in \u001b[0;36mclean_data\u001b[0;34m(data)\u001b[0m\n\u001b[1;32m      9\u001b[0m     \u001b[0;32mfor\u001b[0m \u001b[0mobs\u001b[0m \u001b[0;32min\u001b[0m \u001b[0mdata\u001b[0m\u001b[0;34m:\u001b[0m\u001b[0;34m\u001b[0m\u001b[0;34m\u001b[0m\u001b[0m\n\u001b[1;32m     10\u001b[0m       \u001b[0;32mfor\u001b[0m \u001b[0mentry\u001b[0m \u001b[0;32min\u001b[0m \u001b[0mobs\u001b[0m\u001b[0;34m:\u001b[0m\u001b[0;34m\u001b[0m\u001b[0;34m\u001b[0m\u001b[0m\n\u001b[0;32m---> 11\u001b[0;31m         \u001b[0;32mif\u001b[0m \u001b[0mre\u001b[0m\u001b[0;34m.\u001b[0m\u001b[0mmatch\u001b[0m\u001b[0;34m(\u001b[0m\u001b[0;34mr\"VXNl(.)\"\u001b[0m\u001b[0;34m,\u001b[0m \u001b[0mentry\u001b[0m\u001b[0;34m)\u001b[0m \u001b[0;32mand\u001b[0m \u001b[0mre\u001b[0m\u001b[0;34m.\u001b[0m\u001b[0mmatch\u001b[0m\u001b[0;34m(\u001b[0m\u001b[0;34mr\"UHJ(.)\"\u001b[0m\u001b[0;34m)\u001b[0m \u001b[0;32mis\u001b[0m \u001b[0;32mNone\u001b[0m \u001b[0;32mand\u001b[0m \u001b[0mre\u001b[0m\u001b[0;34m.\u001b[0m\u001b[0mmatch\u001b[0m\u001b[0;34m(\u001b[0m\u001b[0;34mr\"(\\d)*-(\\d)*-(\\d)* (\\d)*:(\\d)*:(\\d)*\"\u001b[0m\u001b[0;34m,\u001b[0m \u001b[0mentry\u001b[0m\u001b[0;34m)\u001b[0m \u001b[0;32mis\u001b[0m \u001b[0;32mNone\u001b[0m \u001b[0;32mand\u001b[0m \u001b[0mre\u001b[0m\u001b[0;34m.\u001b[0m\u001b[0mmatch\u001b[0m\u001b[0;34m(\u001b[0m\u001b[0;34mr\"false\"\u001b[0m\u001b[0;34m,\u001b[0m \u001b[0mentry\u001b[0m\u001b[0;34m)\u001b[0m \u001b[0;32mis\u001b[0m \u001b[0;32mNone\u001b[0m\u001b[0;34m:\u001b[0m\u001b[0;34m\u001b[0m\u001b[0;34m\u001b[0m\u001b[0m\n\u001b[0m\u001b[1;32m     12\u001b[0m             \u001b[0mcleaned_data\u001b[0m\u001b[0;34m.\u001b[0m\u001b[0mappend\u001b[0m\u001b[0;34m(\u001b[0m\u001b[0mentry\u001b[0m\u001b[0;34m)\u001b[0m\u001b[0;34m\u001b[0m\u001b[0;34m\u001b[0m\u001b[0m\n\u001b[1;32m     13\u001b[0m         \"\"\"if re.match(r\"VXNl(.)\", entry) is None:\n",
            "\u001b[0;31mTypeError\u001b[0m: match() missing 1 required positional argument: 'string'"
          ]
        }
      ]
    },
    {
      "cell_type": "code",
      "metadata": {
        "id": "rvgCbNh82dfX",
        "outputId": "a03efe22-f877-4d0a-ad9a-441cf31b084e",
        "colab": {
          "base_uri": "https://localhost:8080/"
        }
      },
      "source": [
        "print(len(cleaned_data))"
      ],
      "execution_count": 61,
      "outputs": [
        {
          "output_type": "stream",
          "text": [
            "1088405\n"
          ],
          "name": "stdout"
        }
      ]
    },
    {
      "cell_type": "code",
      "metadata": {
        "id": "3FpR4GX2xN3w",
        "outputId": "8e253f13-a694-4f95-c510-9ae8b11d1eab",
        "colab": {
          "base_uri": "https://localhost:8080/"
        }
      },
      "source": [
        "for obs in cleaned_data[0:100]:\n",
        "  if obs != \"\":\n",
        "    print(obs)"
      ],
      "execution_count": 62,
      "outputs": [
        {
          "output_type": "stream",
          "text": [
            "UHJvcG9zYWw6MWVjMTkxYjAtMWUyMS0xMWU5LTk0ZDItZmExNjNlZWIxMWUx\n",
            "1-2\n",
            "Les augmentations de rémunérations\n",
            "Citoyen / Citoyenne\n",
            "79190\n",
            "Le citoyen\n",
            "Non\n",
            "Afin d’éviter de creuser les inégalités ne plus augmenter les salaires, les pensions, le point d’indice des fonctionnaires, en pourcentage mais en euros. Ainsi celui qui gagne 1,000 euros percevra la même augmentation que celui qui gagne 10,000 euros. Alors que depuis des décennies l’augmentation par pourcentage avantage les plus gros revenus : 1 % est égal à 10 euros pour le premier et à 100 euros pour le second. Au bout de 10 augmentations le second aura eu l’intégralité de la valeur du salaire du premier… C’est comme ça que depuis 40 ans le fossé se creuse\n",
            "UHJvcG9zYWw6NTA4N2I3ZDEtMWUyMS0xMWU5LTk0ZDItZmExNjNlZWIxMWUx\n",
            "1-3\n",
            "rénover l'enquête publique pour en faire un vrai outil  d'aménagement du territoire et de dialogue social\n",
            "Citoyen / Citoyenne\n",
            "01800\n",
            "Un instrument de démocratie locale à moderniser : l’enquête publique.  Un certain nombre de grands projets d’aménagement du territoire se sont heurtés ces dernières années à une hostilité locale parfois très violente pouvant même aller jusqu’au drame : Notre-Dame des Landes, le barrage de Sylens, le projet de Roybon, la déviation de Strasbourg et autres « Zones à Défendre » moins médiatiques.  Pourtant, un instrument existe : l’enquête publique. Mais force est de constater qu’elle ne joue plus son rôle d’intermédiaire entre un apporteur de projet et la population locale. Le système des enquêtes publiques apparaît aujourd’hui sclérosé, coincé entre l’apporteur de projet, les milieux économiques, les lobbies environnementaux ou autres et, enfin, l’Etat, la Préfecture, les services déconcentrés de l’Etat, les Collectivités locales et les tribunaux administratifs. Les dossiers présentés aux enquêtes qui peuvent, parfois, peser plusieurs kilos, sont illisibles, inexploitables, incompréhensibles. Enfin, les enquêteurs publics, de plus en plus issus de la haute fonction publique, du corps des officiers supérieurs de l’armée ou de cabinets d’études environnementaux ou d’urbanisme, de notables et barons locaux, ne peuvent plus prétendre être en mesure de prendre en compte les aspirations locales. Les durées des enquêtes sont trop courtes pour avoir une influence quelconque sur le projet. Parfois même l’enquête publique arrive trop tard alors même que les concertations ont déjà été effectuées. Enfin, les dispositions du Code l’Environnement laissent aux enquêteurs publics une marge de manœuvre beaucoup trop étroite pour être efficace ; leurs avis et leurs recommandations ne sont que rarement suivis. Se souvient-on des enquêtes effectuées dans les affaires citées dans le 1er paragraphe ?   Cependant, moyennant une remise en cause en profondeur, le système des enquêtes publique pourrait être plus efficace et jouer un rôle majeur en matière d’aménagement du territoire en se faisant un intermédiaire dynamique et constructif entre les populations locales, les apporteurs de projets et les Pouvoirs publics.    On trouvera ci-dessous quelques pistes proposées pour rendre cet instrument plus efficace et en faire un vecteur essentiel du développement économique, social et culturel tout en consevant son rôle dans la protection de l’environnement.  1- L’enquête publique, un instrument d’aménagement du territoire.  •\tL’enquête publique, acteur majeur de l’aménagement du territoire, doit sortir du Code de l’environnement : l’enquête publique ne concerne pas que les aspects environnementaux, même si ceux-ci sont importants, mais également les aspects économiques, sociaux, culturels, etc. Les textes régissant les enquêtes publiques ne doivent plus être rattaché au Code l’environnement mais aux textes régissant l’aménagement du territoire.  •\tL’enquête publique doit concerner tout projet d’envergure : infrastructures routières, ferroviaires, canaux, ports, aéroports, industries lourdes, vastes zones d’entreposage, infrastructures sportives, grandes surfaces commerciales, etc. Seront également concernés les zonages liés à l’aménagement d’un territoire, à la protection de l’environnement et à la protection de sites protégés : créations de zones d’aménagement concerté, zones industrielles, zones de protection, SCOT, etc.   •\tL’enquête publique doit aussi concerner toutes opérations nécessitant une expropriation (sans le consentement du propriétaire) ou une modification substantielle du domaine de l’Etat. Le texte devra définir un champ d’intervention de l’enquête publique suffisamment vaste mais qui ne soit un obstacle au développement de projets.  2 – L’enquête publique doit être un instrument efficace au service des partenaires concernés : apporteur de projet, population, Pouvoirs publics.  •\tL’enquête publique doit commencer le plus haut possible et le plus tôt possible afin d’accompagner l’auteur du projet dans les différentes phases d’élaboration du projet. Ayant une bonne connaissance du terrain, l’enquêteur publique sera le lien entre la population, les Pouvoirs publics nationaux ou locaux et l’apporteur du projet. Bien que non technique (ou précisément parce non technique) Il sera également un partenaire entre l’apporteur de projet et  les services administratifs de l’Etat (Préfectures, DREAL etc…)  •\tL’enquête publique doit être menée la finalisation du projet (autorisation, rejet, poursuite ou renoncement…). Les échanges apporteur/public/administrations pourraient grâce à l’enquêteur public être continuels et permettre, au fur et  à mesure de l’avancement du dossier, l’amélioration de celui afin de trouver dans la mesure du possible, une solution aux différents problèmes rencontrés et révélés au cours de l’enquête soit par le public, soit par l’administration.  •\tLe but de l’enquête publique n’est pas, comme c’est le cas actuellement de donner simplement un avis (favorable/défavorable/favorable avec réserves) dont l’inutilité n’est plus à démontrer, mais de jouer   un rôle positif, concret et utile dans l’élaboration du projet et la finalisation de la décision par l’autorité détentrice de ce pouvoir. Le commissaire devrait avoir ainsi un rôle de « facilitateur » entre un apporteur de projet, la population locale et les pouvoirs publics.  3 – l’enquête publique un outil de démocratie locale.  •\tLes commissaires enquêteurs doivent être réellement indépendants non seulement de l’administration et non, comme c’est le cas actuellement être nommés par elle (jury  départemental), mais également des différents lobbies (associations de défense environnementale ou patrimoniale, lobbies industriels et commerciaux). Ils ne pourront donc pas être fonctionnaire actif, élu, salarié ou responsable de cabinets conseils, et s’engager, bien entendu à n’avoir aucun lien ni aucun intérêt avec le demandeur.   •\tLes commissaires enquêteurs seront rémunérés sur des critères clairs et fixés d’avance et non sur le bon vouloir d’un président de tribunal administratif. Le montant de cette rémunération sera public dès le début de l’enquête et payé directement par l’apporteur du projet à la fin de l’enquête.    •\tLes commissaires enquêteurs doivent être organisés au niveau de chaque intercommunalité. Les Commissaires enquêteurs auront une bonne connaissance du terrain, de la mentalité de ses habitants, des usages culturels et les coutumes locales et ainsi apprécier « l’acceptabilité » d’un projet et orienter l’apporteur de projet.  •\tLa décision d’ouverture d’une enquête doit être la plus large possible sur la base de critères à définir : Préfet, élus locaux concernés. Mais elle pourra l’être aussi par un collège intercommunautaire des commissaires enquêteurs, voire par le public. Elle pourra l’être enfin, par l’apporteur de projet lui-même afin de légitimer son projet et mieux l’insérer dans le tissu local (une aide financière de l’Etat pourrait alors être envisagée pour les entreprises débutantes).  Les dossiers devront être évolutifs, clairs et compréhensibles par tous sans s’enfermer dans des détails souvent disponibles par ailleurs (Internet).   •\tL’enquête publique pourrait se terminer par un constat écrit décrivant le déroulement de l’enquête, faisant ressortir les difficultés rencontrées et les moyens qui ont été mis en œuvre pour les résoudre, mettant en exergue les éventuelles oppositions qui se sont manifestées. Ce rapport se conclura par le constat du succès et de la mise en œuvre du projet ou au contraire par le constat d’un échec et analysera les raisons de cet échec. Ce rapport sera validé par le collège intercommunautaire des commissaires enquêteurs avant transmission aux différents acteurs (pouvoirs publics, public, etc).  Ces quelques pistes permettraient de construire un système moderne de démocratie locale au service de tous les acteurs de la vie collective.  Vaillant BIARD Ancien Commissaire Enquêteur (01) Vebe92@yahoo.fr\n",
            "UHJvcG9zYWw6ZGY2OWEyNTQtMWUyMS0xMWU5LTk0ZDItZmExNjNlZWIxMWUx\n",
            "1-4\n",
            "Limitations de vitesse et sécurité routière\n",
            "Citoyen / Citoyenne\n",
            "44300\n"
          ],
          "name": "stdout"
        }
      ]
    },
    {
      "cell_type": "code",
      "metadata": {
        "id": "iFwxG17PX72I"
      },
      "source": [
        ""
      ],
      "execution_count": null,
      "outputs": []
    }
  ]
}