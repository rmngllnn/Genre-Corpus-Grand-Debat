{
 "cells": [
  {
   "cell_type": "code",
   "execution_count": 7,
   "id": "73014e41-d1a4-47e7-b944-6dfe8bc0a28a",
   "metadata": {},
   "outputs": [],
   "source": [
    "interactive_mode = True\n",
    "similarities_done = False"
   ]
  },
  {
   "cell_type": "code",
   "execution_count": 3,
   "id": "04e0df68-af82-49dc-aa7b-562c3f84df07",
   "metadata": {},
   "outputs": [],
   "source": [
    "if interactive_mode:\n",
    "    from ipynb.fs.defs.fonctions_preprocess import open_file\n",
    "    from ipynb.fs.defs.fonctions_preprocess import serialisation_data\n",
    "    from ipynb.fs.defs.search_humans_referent import *\n",
    "\n",
    "import spacy\n",
    "import json"
   ]
  },
  {
   "cell_type": "code",
   "execution_count": 4,
   "id": "baf18b6e-ea20-48a1-b4d1-0ea96d06fc84",
   "metadata": {},
   "outputs": [],
   "source": [
    "if interactive_mode and not similarities_done:\n",
    "    data = open_file(\"lemme_form.json\")"
   ]
  },
  {
   "cell_type": "code",
   "execution_count": null,
   "id": "283bc319-e509-4ee3-a4b2-408e5ca372c8",
   "metadata": {},
   "outputs": [],
   "source": [
    "def open_file(file):\n",
    "    with open(file) as json_data:\n",
    "        data = json.load(json_data)\n",
    "    return data"
   ]
  },
  {
   "cell_type": "code",
   "execution_count": 3,
   "id": "9adea639-6266-4294-8f99-fd5f3bc83f8b",
   "metadata": {},
   "outputs": [
    {
     "name": "stdout",
     "output_type": "stream",
     "text": [
      "91054\n"
     ]
    }
   ],
   "source": [
    "if not similarities_done:\n",
    "    data = open_file(\"lemme_form.json\")\n",
    "    print(len(data))"
   ]
  },
  {
   "cell_type": "code",
   "execution_count": 4,
   "id": "740c2a5e-3a82-48bc-afd4-90e0af184bfd",
   "metadata": {},
   "outputs": [
    {
     "name": "stdout",
     "output_type": "stream",
     "text": [
      "<class 'dict'>\n"
     ]
    }
   ],
   "source": [
    "print(type(data))"
   ]
  },
  {
   "cell_type": "code",
   "execution_count": null,
   "id": "b58aef1f-c851-4cc5-9db5-37727498b655",
   "metadata": {},
   "outputs": [],
   "source": [
    "i = 100\n",
    "extract = []\n",
    "for dic in data:\n",
    "    if i == 300 :\n",
    "        break\n",
    "    extract.append(dic)\n",
    "    i+=1\n",
    "    \n",
    "print(extract)"
   ]
  },
  {
   "cell_type": "code",
   "execution_count": 4,
   "id": "03797473-c1a3-4103-9b40-fee9395747b2",
   "metadata": {},
   "outputs": [],
   "source": [
    "data = open_file(\"humans_occ.json\")"
   ]
  },
  {
   "cell_type": "code",
   "execution_count": 10,
   "id": "1e9a476d-1ecc-4470-8694-b57b665d22c0",
   "metadata": {},
   "outputs": [
    {
     "name": "stdout",
     "output_type": "stream",
     "text": [
      "23641\n"
     ]
    }
   ],
   "source": [
    "print(len(data))"
   ]
  },
  {
   "cell_type": "code",
   "execution_count": 11,
   "id": "70ddeb0a-8850-4106-a8be-ef0424cd5df4",
   "metadata": {},
   "outputs": [],
   "source": [
    "def list_into_string(dict_lemme):\n",
    "\n",
    "    extract = []\n",
    "    extract_s = \"\"\n",
    "\n",
    "    i = 0\n",
    "    for dic in dict_lemme:\n",
    "        if i == 700: break\n",
    "        extract.append(dic)\n",
    "        i+=1\n",
    "            \n",
    "    print(\"Taille des occurences uniques : \", len(extract))\n",
    "        \n",
    "    for word in extract:\n",
    "        extract_s += word\n",
    "        extract_s += \" \"\n",
    "        \n",
    "    return extract_s"
   ]
  },
  {
   "cell_type": "code",
   "execution_count": 12,
   "id": "0c444309-b5c2-4760-9ddc-81aa7b514bf4",
   "metadata": {},
   "outputs": [
    {
     "name": "stdout",
     "output_type": "stream",
     "text": [
      "Taille des occurences uniques :  700\n",
      "7163\n"
     ]
    }
   ],
   "source": [
    "if not similarities_done:\n",
    "    corpus_string = list_into_string(data) \n",
    "print(len(corpus_string))"
   ]
  },
  {
   "cell_type": "code",
   "execution_count": 13,
   "id": "6387d91c-2315-45a3-b997-76a6cd21a197",
   "metadata": {},
   "outputs": [],
   "source": [
    "if not similarities_done:\n",
    "    #nlp.max_length = 1500000\n",
    "    nlp = spacy.load(\"fr_core_news_lg\")\n",
    "    doc1 = nlp(corpus_string)\n",
    "    doc2 = nlp(corpus_string)"
   ]
  },
  {
   "cell_type": "code",
   "execution_count": 14,
   "id": "5f0c929e-ce0b-47ce-a88b-de7f743a418c",
   "metadata": {},
   "outputs": [],
   "source": [
    "def calculate_similarity (token1, token2):\n",
    "    \"\"\"Calculate Similarity between two tokens using SpaCy pre-trained model\n",
    "    -> Two tokens\n",
    "    <- similarity score between these two tokens\"\"\"\n",
    "\n",
    "    similarity = token1.similarity(token2)\n",
    "    \n",
    "    if similarity != None and similarity >= 0.5 and similarity != 1 : return (token1, token2, similarity) "
   ]
  },
  {
   "cell_type": "code",
   "execution_count": 15,
   "id": "dce883b4-c2d5-4364-9e56-2b0b023f9b8a",
   "metadata": {},
   "outputs": [],
   "source": [
    "def construction_liste_similarity(doc1, doc2):\n",
    "    \"\"\"Builds list of similarities. One element of the list is built so : (token1, token2, similarity)\n",
    "    -> doc1 : list of words\n",
    "    -> doc2 : other list of words\n",
    "    <- list of tuples made of two words and their similarities\n",
    "    \"\"\"\n",
    "    \n",
    "    similarities = []\n",
    "    \n",
    "    for i in range (len(doc1)):\n",
    "        if i%100 == 0 : print (\"mot n°\", i, \"/\", len(doc1))\n",
    "        if doc1[i].has_vector != False: tok = doc1[i]\n",
    "        for k in range(len(doc2)):\n",
    "            if doc2[k].has_vector != False : \n",
    "                similarity = calculate_similarity(tok, doc2[k])\n",
    "                \n",
    "            if similarity != None : similarities.append(similarity)\n",
    "            #if similarity != None : print(tok, doc2[k], similarity)\n",
    "                    \n",
    "    return similarities\n",
    "    "
   ]
  },
  {
   "cell_type": "code",
   "execution_count": 16,
   "id": "995f25c5-4a45-4611-9434-21e08e29b1d4",
   "metadata": {},
   "outputs": [],
   "source": [
    "def extract_unique_referents(doc1, doc2):\n",
    "    \"\"\"extract unique_referent using word_similarities\n",
    "    -> string of words\n",
    "    <- list of words and dictionnary of similarities\n",
    "    doc_sim = {word1: [(word, similarity), ..., (word, similarity)], word2 : [(word, similarity), ... (word, similarity)], ... wordn : [(word, similarity), (word, similarity)]}\n",
    "    \n",
    "    We use word similarities using spacy module. We take similarities >= 0.5 to delete low similarities and \"clean\" corpus) \n",
    "    \"\"\"\n",
    "    \n",
    "    humans_referent = []\n",
    "    doc_sim = {}\n",
    "\n",
    "    similarities = construction_liste_similarity(doc1, doc2)\n",
    "\n",
    "    print(\"Similarities are done !\")\n",
    "    \n",
    "    print(similarities[0:30])\n",
    "    \n",
    "    i=0\n",
    "    for sim in similarities:\n",
    "        i+=1\n",
    "        if i%10000 == 0: print(\"Similarité n°\", i, \"/\", len(similarities) )\n",
    "        if sim[1] not in humans_referent: humans_referent.append(sim[1])\n",
    "        if str(sim[0]) not in doc_sim : \n",
    "            doc_sim[str(sim[0])] = []\n",
    "        doc_sim[str(sim[0])].append((str(sim[1]), float(sim[2])))\n",
    "        \n",
    "\n",
    "    print(\"Taille de humans_referent : \", len(humans_referent), \" et taille de doc_sim : \", len(doc_sim))\n",
    "    return (humans_referent, doc_sim)"
   ]
  },
  {
   "cell_type": "code",
   "execution_count": 17,
   "id": "4989f150-a321-4bb7-a687-4a27d9a292a6",
   "metadata": {},
   "outputs": [
    {
     "name": "stdout",
     "output_type": "stream",
     "text": [
      "mot n° 0 / 700\n",
      "mot n° 100 / 700\n",
      "mot n° 200 / 700\n",
      "mot n° 300 / 700\n",
      "mot n° 400 / 700\n",
      "mot n° 500 / 700\n",
      "mot n° 600 / 700\n",
      "Similarities are done !\n",
      "[(non-confiance, l‘organisation, 0.5225424), (non-confiance, parlement, 0.5057618), (non-confiance, insensibilité, 0.63784087), (non-confiance, non-participation, 0.59623164), (non-confiance, co-décision, 0.6465865), (non-confiance, enclenchement, 0.50972414), (non-confiance, linitiative, 0.5300373), (non-confiance, parlementaire, 0.5287417), (non-confiance, partiellement, 0.5242985), (non-confiance, corporellement, 0.5228883), (non-confiance, communalité, 0.5416549), (non-confiance, fondement, 0.5713872), (non-confiance, religiosité, 0.50081515), (non-confiance, compréhensibilité, 0.67381513), (non-confiance, réengagement, 0.6556278), (non-confiance, comportemental, 0.5185476), (non-confiance, cheminement, 0.50257814), (non-confiance, interrelation, 0.5894332), (non-confiance, e-administration, 0.5240783), (non-confiance, pouvoire, 0.5323517), (non-confiance, non-discrimination, 0.64447397), (non-confiance, compensation, 0.5834619), (non-confiance, situtation, 0.50735927), (non-confiance, non-politique, 0.52877057), (non-confiance, matérialisation, 0.51673937), (non-confiance, lobligation, 0.6344374), (non-confiance, intermodalité, 0.52942884), (non-confiance, non-intégration, 0.5664408), (non-confiance, contre-point, 0.57368284), (non-confiance, rétribution, 0.5085753)]\n",
      "Similarité n° 10000 / 65736\n",
      "Similarité n° 20000 / 65736\n",
      "Similarité n° 30000 / 65736\n",
      "Similarité n° 40000 / 65736\n",
      "Similarité n° 50000 / 65736\n",
      "Similarité n° 60000 / 65736\n",
      "Taille de humans_referent :  605  et taille de doc_sim :  605\n",
      "605\n",
      "<class 'dict'>\n"
     ]
    }
   ],
   "source": [
    "if not similarities_done:\n",
    "    humans = extract_unique_referents(doc1, doc2)\n",
    "    print(len(humans[1]))\n",
    "    print(type(humans[1]))"
   ]
  },
  {
   "cell_type": "code",
   "execution_count": null,
   "id": "b9b5e38e-c77a-4aba-b654-88a7a105ee7c",
   "metadata": {},
   "outputs": [],
   "source": [
    "i = 1\n",
    "for h in humans[1]:\n",
    "    if i == 5 : break\n",
    "    print(h, humans[1][h])\n",
    "    print()\n",
    "    i+=1\n",
    "    "
   ]
  },
  {
   "cell_type": "code",
   "execution_count": 18,
   "id": "c30740b6-2d15-410f-ba2a-a98441dfa05d",
   "metadata": {},
   "outputs": [],
   "source": [
    "dict_ref = humans[1]\n",
    "#dict_occ = open_file(\"dict_occ.json\")"
   ]
  },
  {
   "cell_type": "code",
   "execution_count": 19,
   "id": "3beb88af-1826-4803-8105-e33a5d058a22",
   "metadata": {},
   "outputs": [],
   "source": [
    "def humans_occ (dict_sim):\n",
    "    \"\"\"Creates dict of occurences\n",
    "    -> dict_occ : dictionnary of occcurences of each occurence\n",
    "    -> dict_human_ref : dictionnary of similarities of each occurence\n",
    "    <- dictionnary of occurences of most occurence\n",
    "    \"\"\"\n",
    "    \n",
    "    humans_ref = []\n",
    "    #humans_occ = {}\n",
    "    \n",
    "    \n",
    "    for dic in dict_sim:\n",
    "       \n",
    "        sim_ord = sorted(dict_sim[dic], key=lambda x:x[1], reverse = True)\n",
    "        ref_max = sim_ord[0]\n",
    " \n",
    "        if ref_max[0] not in humans_ref : humans_ref.append(ref_max[0])\n",
    "        \n",
    "        \"\"\"\n",
    "        h = str(ref_max[0])\n",
    "        \n",
    "        if h not in humans_occ : \n",
    "            humans_occ[h]= 0\n",
    "        humans_occ[h] = dict_occ[h]\n",
    "        \"\"\"\n",
    "    \n",
    "    print(\"taille de humans_ref :\", len(humans_ref))\n",
    "\n",
    "    return humans_ref "
   ]
  },
  {
   "cell_type": "code",
   "execution_count": 20,
   "id": "4096290f-eb08-4567-91b1-afedf0326c7d",
   "metadata": {},
   "outputs": [
    {
     "name": "stdout",
     "output_type": "stream",
     "text": [
      "taille de humans_ref : 326\n"
     ]
    }
   ],
   "source": [
    "fromtest = humans_occ(dict_ref)"
   ]
  },
  {
   "cell_type": "code",
   "execution_count": 22,
   "id": "06d8e645-240f-48d9-9bf9-3bb1fc252f43",
   "metadata": {},
   "outputs": [
    {
     "name": "stdout",
     "output_type": "stream",
     "text": [
      "['-mise', '-retour', '..', '/enfant', '48h00', 'accidentalité', 'accidente', 'animosité', 'anthropologie', 'applicable', 'argente', 'arithmétique', 'arrivant', 'arrière-fond', 'assignation', 'atteind', 'attendant', 'audition', 'auto-limitation', 'auto-protection', 'auto-représentation', 'auto-surveillance', 'autoroutier', 'avril', 'aéroportuaire', 'bas-peuple', 'beau-parent', 'belgique', 'bien', 'bénévolat', 'bénévole', 'cagette', 'chanteur', 'chaussé', 'cheminement', 'claire', 'co-intervention', 'co-élaboration', 'codéveloppement', 'cofinancement', 'colmatage', 'comité', 'communale', 'communalité', 'communautée', 'commune', 'compensation', 'compréhensibilité', 'compréhensible', 'compte-rendu', 'conceptuel', 'concordat', 'condamnable', 'condescendance', 'conduire', 'confraternité', 'confédération', 'conscience', 'constatation', 'constitutionalité', 'consultant', 'conséquence', 'contestation', 'contractualisation', 'contrairement', 'contravention', 'contre-point', 'contre-proposition', 'corapporteur', 'coresponsable', 'corporellement', 'coupole', 'criminel', 'd', 'debordement', 'demandera', 'demanderesse', 'demi-succès', 'demi-échec', 'democratique', 'destabilisation', 'diagramme', 'dialogique', 'dialogue', 'digue', 'diminution', 'diposition', 'document', 'dogmatique', 'domaines', 'dommageable', 'dynamisation', 'début', 'déchargement', 'décret', 'défiance', 'dégalité', 'démoralisation', 'départements', 'dépense', 'dépensée', 'dérogation', 'e-administration', 'ect', 'enclenchement', 'enervement', 'eurodollar', 'eurométropole', 'ex-commissaire', 'ex-député', 'ex-route', 'ex-sénateur', 'excessive', 'expiration', 'explosive', 'fille', 'fin', 'fonctionnarisation', 'fondement', 'formalisation', 'formulation', 'franglais', 'français-', 'février', 'garantissant', 'garde-frontière', 'géologie', 'haine', 'idéologique', 'immigra', 'immigrant', 'impolitesse', 'importante', 'impossible', 'impôts', 'inconscience', 'incrimination', 'indicateur', 'indignation', 'indissociablement', 'infraction', 'infrastructures', 'insensibilité', 'instillation', 'institutionnelle', 'internet', 'interrelation', 'intervention', 'intrication', 'intérieur', 'invalidation', 'inégibilité', 'islamisme', 'jours', 'kilogramme', 'l', 'l\"\\'école', 'l\"année', 'l\"entreprise', 'l?image', 'l`information', 'laïcisme', 'lobjectif', 'lobligation', 'longueur', 'lycée', 'l´absence', 'l´opposition', 'légalité', 'l‘homme', 'l‘organisation', 'l‘éducation', 'l‘élection', 'mandature', 'matérialisation', 'mesurette', 'micro-organisme', 'milliard', 'moement', 'mois', 'mètre', 'méme', 'méta-modèle', 'nef', 'non-attribution', 'non-confiance', 'non-connaissance', 'non-consentement', 'non-discrimination', 'non-fonctionnement', 'non-obligatoire', 'non-participation', 'non-politique', 'non-satisfaction', 'non-validation', 'népotisme', 'objectif', 'objectivité', 'optimalisation', 'organisme', 'pact', 'pacte', 'pantalon', 'parlement', 'parlementaire', 'partiellement', 'paternelle', 'personalité', 'persécution', 'phot', 'pieuse', 'placette', 'plancher', 'pluralisation', 'poissonnerie', 'police', 'policière', 'politiste', 'pompage', 'pont', 'portion', 'portuaire', 'posent', 'possibilitée', 'pourcentage', 'poursuite', 'poursuivant', 'pouvoire', 'premise', 'prestataire', 'problématique', 'problême', 'professionnalisation', 'professionnalité', 'profondement', 'proportion', 'proportionelle', 'proposeriez', 'prorogation', 'pré-contrat', 'pré-rapport', 'préconisation', 'préretraite', 'présentielle', 'préstation', 'pèriode', 'quasi-impossibilité', 'quasi-majorité', 'questionnement', 'raisonnement', 'rechercher', 'reconsidération', 'reeducation', 'reflexion', 'religiosité', 'remobilisation', 'remonté', 'remontée', 'reniement', 'renouvellement', 'repopulation', 'ressentiment', 'ressortie', 'ressourcerie', 'resterait', 'revote', 'route', 'routier', 'ré-ouverture', 'réaffectation', 'réalisateur', 'réallocation', 'réaménagement', 'régiment', 'régional', 'rémunération', 'répondraient', 'rétribution', 'salaire', 'satisfaction', 'schéma', 'sentiment', 'sentimentalité', 'sexagénaire', 'situtation', 'sous-catégorie', 'sous-comité', 'sous-commission', 'sous-division', 'sous-dossier', 'sous-officier', 'sous-préfecture', 'sous-préfet', 'sous-rubrique', 'souverainete', 'standard', 'statutaire', 'strasbourg', 'suraccumulation', 'surpression', 'survitesse', 'syndical', 'syndicat', 'telle', 'territoir', 'terrrain', 'tirette', 'transports', 'tt', 'téléconsultation', 'téléfilm', 'versement', 'viaduc', 'ville', 'ville-', 'visse', 'voiturette', 'voiturier', 'vote', 'écrant', 'éditorialiste', 'égalité', 'élement', 'énaction', 'épaisseur', 'évidence']\n"
     ]
    }
   ],
   "source": [
    "print(sorted(fromtest))"
   ]
  },
  {
   "cell_type": "code",
   "execution_count": null,
   "id": "629cbded-48c7-4c21-9274-eb49d0f954b0",
   "metadata": {},
   "outputs": [],
   "source": [
    "def serialisation_data (data, title):\n",
    "  \"\"\"\n",
    "  Serialize data in a json file\n",
    "  -> Title mus be a string : title.json\n",
    "  <- Save a file in desktop\n",
    "  \"\"\"\n",
    "\n",
    "  with open(title, \"w+\") as file:\n",
    "    json.dump(data, file)"
   ]
  },
  {
   "cell_type": "code",
   "execution_count": 17,
   "id": "9adbefcf-ce26-4d17-870c-a1c791b64e6b",
   "metadata": {},
   "outputs": [],
   "source": [
    "serialisation_data(fromtest, \"humans_occ.json\")"
   ]
  },
  {
   "cell_type": "code",
   "execution_count": null,
   "id": "098fd1a9-a57a-4912-8326-a72cb7f4a3c5",
   "metadata": {},
   "outputs": [],
   "source": []
  },
  {
   "cell_type": "code",
   "execution_count": null,
   "id": "85bb146c-11f8-4fb1-a8ed-fafb2db17a2a",
   "metadata": {},
   "outputs": [],
   "source": []
  }
 ],
 "metadata": {
  "kernelspec": {
   "display_name": "Python 3",
   "language": "python",
   "name": "python3"
  },
  "language_info": {
   "codemirror_mode": {
    "name": "ipython",
    "version": 3
   },
   "file_extension": ".py",
   "mimetype": "text/x-python",
   "name": "python",
   "nbconvert_exporter": "python",
   "pygments_lexer": "ipython3",
   "version": "3.9.5"
  }
 },
 "nbformat": 4,
 "nbformat_minor": 5
}
