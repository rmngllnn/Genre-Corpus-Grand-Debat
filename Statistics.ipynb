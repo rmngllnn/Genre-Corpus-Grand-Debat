{
 "cells": [
  {
   "cell_type": "markdown",
   "metadata": {},
   "source": [
    "# Qu'est-ce qu'il y a dans ce notebook ?\n",
    "\n",
    "Il y a toutes les fonctions permettant l'analyse des données obtenues après le POS_Taaging\n",
    "\n",
    "1. Calcul des fréquences d'une liste de mots\n",
    "2. Récupérer les différentes formes d'un lemme"
   ]
  },
  {
   "cell_type": "code",
   "execution_count": 1,
   "metadata": {},
   "outputs": [],
   "source": [
    "import json\n",
    "from collections import Counter\n",
    "import collections\n",
    "import pandas as pd\n",
    "#from ipynb.fs.defs.POS_Tagging import serialisation_data\n",
    "import re"
   ]
  },
  {
   "cell_type": "markdown",
   "metadata": {},
   "source": [
    "## Ouverture des fichiers Json"
   ]
  },
  {
   "cell_type": "code",
   "execution_count": 2,
   "metadata": {},
   "outputs": [],
   "source": [
    "def open_file(file):\n",
    "    with open(file) as json_data:\n",
    "        data = json.load(json_data)\n",
    "    return data\n",
    "#ata_str = json.dumps(data_dict)"
   ]
  },
  {
   "cell_type": "code",
   "execution_count": 2,
   "metadata": {},
   "outputs": [],
   "source": [
    "nouns = open_file(\"nouns.json\")"
   ]
  },
  {
   "cell_type": "code",
   "execution_count": 10,
   "metadata": {},
   "outputs": [],
   "source": [
    "def extract_nouns(tuple_list):\n",
    "    \"\"\"extract different forms from tuple\n",
    "    -> tuple list\n",
    "    <- noun list\"\"\"\n",
    "    \n",
    "    form_list = []\n",
    "    \n",
    "    for tup in tuple_list:\n",
    "        form_list.append(tup[0])\n",
    "        \n",
    "    return form_list"
   ]
  },
  {
   "cell_type": "code",
   "execution_count": null,
   "metadata": {},
   "outputs": [],
   "source": [
    "nouns_list = extract_nouns(nouns)"
   ]
  },
  {
   "cell_type": "markdown",
   "metadata": {},
   "source": [
    "## Calcul des fréquences des noms"
   ]
  },
  {
   "cell_type": "markdown",
   "metadata": {},
   "source": [
    "### Calcul des occurences de chaque mot\n",
    "\n",
    "Format Dictionnaire (objet Counter)"
   ]
  },
  {
   "cell_type": "code",
   "execution_count": 2,
   "metadata": {},
   "outputs": [],
   "source": [
    "def dict_occ (words_list) :\n",
    "    \"\"\"Count occurencies of words\n",
    "    -> list of words\n",
    "    <- dictionary of word frequencies like {word_1 : occurence, word_2 : occurence, ... , word_n : occurence}\"\"\"\n",
    "\n",
    "    occ = collections.Counter(words_list)\n",
    "    \n",
    "    return occ"
   ]
  },
  {
   "cell_type": "code",
   "execution_count": 18,
   "metadata": {},
   "outputs": [
    {
     "name": "stdout",
     "output_type": "stream",
     "text": [
      "Nombre d‘occurences uniques : 69\n",
      "Counter({'oui': 6, 'société': 5, 'rôle': 4, 'citoyens': 4, 'incivilités': 4, 'élus': 3, 'vie': 3, 'associations': 2, 'organisations': 2, 'députés': 2, 'initiative': 2, 'Etat': 2, 'engagement': 2, 'comportements': 2, 'pouvoirs': 2, 'discriminations': 2, 'confiance': 1, 'type': 1, 'lien': 1, 'non-cumul': 1, 'mandats': 1, 'parlementaires': 1, 'sensibilités': 1, 'nombre': 1, 'participation': 1, 'élections': 1, 'compte': 1, 'vote': 1, 'manière': 1, 'orientations': 1, 'décision': 1, 'place': 1, 'démocratie': 1, 'participative': 1, 'déclenchement': 1, 'référendum': 1, 'membres': 1, 'Parlement': 1, 'partie': 1, 'corps': 1, 'utilisation': 1, 'argent': 1, 'collectivités': 1, 'assemblées': 1, 'Sénat': 1, 'Conseil': 1, 'territoires': 1, 'proposez': 1, '-vous': 1, 'principes': 1, 'laïcité': 1, 'rapport': 1, 'religions': 1, 'pays': 1, 'respect': 1, 'compréhension': 1, 'valeurs': 1, 'République': 1, 'développement': 1, 'engagements': 1, 'parcours': 1, 'relations': 1, 'administration': 1, 'témoin': 1, 'contreparties': 1, 'allocations': 1, 'solidarité': 1, 'situation': 1, 'immigration': 1})\n"
     ]
    }
   ],
   "source": [
    "occ = dict_occ(nouns_list)\n",
    "\n",
    "print(\"Nombre d‘occurences uniques :\", len(occ))\n",
    "print()\n",
    "print(occ[0:50])"
   ]
  },
  {
   "cell_type": "markdown",
   "metadata": {},
   "source": [
    "### Calcul des fréquences et tri par fréquence les plus élevées\n",
    "\n",
    "Stockée sous forme de dictionnaire"
   ]
  },
  {
   "cell_type": "code",
   "execution_count": null,
   "metadata": {},
   "outputs": [],
   "source": [
    "def dict_freq (dict_occurence):\n",
    "    \"\"\"calculates frequencies of words\n",
    "    <- dictionnary of occurences\n",
    "    -> dictionary of frequencies like {word_1 : frequence, word_2 : frequence, ... , word_n : frequence}\"\"\"\n",
    "\n",
    "    data_fq = {key : dict_occurence[key]/len(dict_occurence) for key in dict_occurence}\n",
    "    \n",
    "    return data_fq\n",
    "\n",
    "print(data_fq)\n"
   ]
  },
  {
   "cell_type": "code",
   "execution_count": 22,
   "metadata": {},
   "outputs": [
    {
     "name": "stdout",
     "output_type": "stream",
     "text": [
      "{'confiance': 0.014492753623188406, 'société': 0.07246376811594203, 'élus': 0.043478260869565216, 'rôle': 0.057971014492753624, 'associations': 0.028985507246376812, 'organisations': 0.028985507246376812, 'oui': 0.08695652173913043, 'type': 0.014492753623188406, 'lien': 0.014492753623188406, 'citoyens': 0.057971014492753624, 'non-cumul': 0.014492753623188406, 'mandats': 0.014492753623188406, 'parlementaires': 0.014492753623188406, 'députés': 0.028985507246376812, 'sensibilités': 0.014492753623188406, 'nombre': 0.014492753623188406, 'participation': 0.014492753623188406, 'élections': 0.014492753623188406, 'compte': 0.014492753623188406, 'vote': 0.014492753623188406, 'manière': 0.014492753623188406, 'orientations': 0.014492753623188406, 'décision': 0.014492753623188406, 'place': 0.014492753623188406, 'démocratie': 0.014492753623188406, 'participative': 0.014492753623188406, 'déclenchement': 0.014492753623188406, 'référendum': 0.014492753623188406, 'initiative': 0.028985507246376812, 'membres': 0.014492753623188406, 'Parlement': 0.014492753623188406, 'partie': 0.014492753623188406, 'corps': 0.014492753623188406, 'utilisation': 0.014492753623188406, 'argent': 0.014492753623188406, 'Etat': 0.028985507246376812, 'collectivités': 0.014492753623188406, 'assemblées': 0.014492753623188406, 'Sénat': 0.014492753623188406, 'Conseil': 0.014492753623188406, 'territoires': 0.014492753623188406, 'proposez': 0.014492753623188406, '-vous': 0.014492753623188406, 'principes': 0.014492753623188406, 'laïcité': 0.014492753623188406, 'rapport': 0.014492753623188406, 'religions': 0.014492753623188406, 'pays': 0.014492753623188406, 'respect': 0.014492753623188406, 'compréhension': 0.014492753623188406, 'valeurs': 0.014492753623188406, 'République': 0.014492753623188406, 'engagement': 0.028985507246376812, 'comportements': 0.028985507246376812, 'vie': 0.043478260869565216, 'développement': 0.014492753623188406, 'engagements': 0.014492753623188406, 'parcours': 0.014492753623188406, 'relations': 0.014492753623188406, 'administration': 0.014492753623188406, 'pouvoirs': 0.028985507246376812, 'incivilités': 0.057971014492753624, 'discriminations': 0.028985507246376812, 'témoin': 0.014492753623188406, 'contreparties': 0.014492753623188406, 'allocations': 0.014492753623188406, 'solidarité': 0.014492753623188406, 'situation': 0.014492753623188406, 'immigration': 0.014492753623188406}\n"
     ]
    }
   ],
   "source": [
    "freq = dict_freq(occ)\n",
    "\n",
    "print(freq[0:50])"
   ]
  },
  {
   "cell_type": "markdown",
   "metadata": {},
   "source": [
    "## Récupérer les différentes formes d'un mot"
   ]
  },
  {
   "cell_type": "code",
   "execution_count": 25,
   "metadata": {},
   "outputs": [],
   "source": [
    "def get_lemma_form (tuple_list):\n",
    "    \"\"\"creates a dictionnary of different forms for each lemma of the processed document\n",
    "    -> liste of tuples like [(word_form1, word_lemma1), ..., (word_formn, word_lemman)\n",
    "    <- dictionnary with as key a lemma and as values the different forms found in the text\n",
    "    dictionary form : {lemma1 : [form1,form2, formn], lemma2 : [form1,form2,formn], ..., lemman: [forma1,form2,formn]}\n",
    "    \"\"\"\n",
    "    \n",
    "    lemma_and_form = {}\n",
    "    \n",
    "    for tuple in tuple_list:\n",
    "        if tuple[1] not in lemma_and_form: lemma_and_form[tuple[1]] = []\n",
    "        if tuple[0] not in lemma_and_form[tuple[1]]: lemma_and_form[tuple[1]].append(tuple[0])\n",
    "        \n",
    "    return lemma_and_form"
   ]
  },
  {
   "cell_type": "code",
   "execution_count": 28,
   "metadata": {},
   "outputs": [
    {
     "name": "stdout",
     "output_type": "stream",
     "text": [
      "{'confiance': ['confiance'], 'société': ['société'], 'élu': ['élus', 'élu'], 'rôle': ['rôle'], 'association': ['associations'], 'organisation': ['organisations'], 'oui': ['oui'], 'type': ['type'], 'lien': ['lien'], 'citoyen': ['citoyens', 'Citoyen', 'citoyen'], 'non-cumul': ['non-cumul'], 'mandat': ['mandats'], 'parlementaire': ['parlementaires'], 'député': ['députés'], 'sensibilité': ['sensibilités'], 'nombre': ['nombre'], 'participation': ['participation'], 'élection': ['élections'], 'compte': ['compte'], 'vote': ['vote'], 'manière': ['manière'], 'orientation': ['orientations'], 'décision': ['décision'], 'place': ['place'], 'démocratie': ['démocratie'], 'participative': ['participative'], 'déclenchement': ['déclenchement'], 'référendum': ['référendum'], 'initiative': ['initiative'], 'membre': ['membres'], 'parlement': ['Parlement'], 'partie': ['partie'], 'corps': ['corps'], 'utilisation': ['utilisation'], 'argent': ['argent'], 'etat': ['Etat'], 'collectivité': ['collectivités', 'Collectivités'], 'assemblée': ['assemblées'], 'sénat': ['Sénat'], 'conseil': ['Conseil'], 'territoire': ['territoires', 'territoire'], 'proposez': ['proposez'], '-vou': ['-vous'], 'principe': ['principes'], 'laïcité': ['laïcité'], 'rapport': ['rapport'], 'religion': ['religions'], 'pays': ['pays'], 'respect': ['respect'], 'compréhension': ['compréhension'], 'valeur': ['valeurs', 'valeur'], 'république': ['République'], 'engagement': ['engagement', 'engagements'], 'comportement': ['comportements'], 'vie': ['vie'], 'développement': ['développement'], 'parcours': ['parcours'], 'relation': ['relations'], 'administration': ['administration', 'administrations'], 'pouvoir': ['pouvoirs', 'Pouvoirs', 'pouvoir'], 'incivilité': ['incivilités'], 'discrimination': ['discriminations'], 'témoin': ['témoin'], 'contrepartie': ['contreparties'], 'allocation': ['allocations'], 'solidarité': ['solidarité'], 'situation': ['situation'], 'immigration': ['immigration'], 'politique': ['politique'], 'critère': ['critères'], 'matière': ['matière'], 'fois': ['fois'], 'obligation': ['obligations'], 'asile': ['asile'], 'remplie': ['remplies'], 'objectif': ['objectifs'], 'défi': ['défi'], 'modalité': ['modalités'], 'intégration': ['intégration'], 'efficace': ['efficaces'], 'y': ['Y'], 'point': ['points', 'point'], 'citoyenneté': ['citoyenneté'], 'augmentation': ['augmentations', 'augmentation'], 'rémunération': ['rémunérations', 'rémunération'], 'inégalité': ['inégalités'], 'salaire': ['salaires', 'salaire'], 'pension': ['pensions'], 'indice': ['indice'], 'fonctionnaire': ['fonctionnaires'], 'pourcentage': ['pourcentage'], 'euro': ['euros'], 'celui': ['celui'], 'décennie': ['décennies'], 'pourcent': ['%'], 'bout': ['bout'], 'intégralité': ['intégralité'], '…': ['…'], 'an': ['ans'], 'fossé': ['fossé'], 'enquête': ['enquête', 'enquêtes'], 'outil': ['outil'], 'aménagement': ['aménagement'], 'dialogue': ['dialogue'], 'instrument': ['instrument'], 'projet': ['projets', 'projet'], 'année': ['années'], 'hostilité': ['hostilité'], 'drame': ['drame'], 'barrage': ['barrage'], 'déviation': ['déviation'], '«': ['«'], 'force': ['force'], 'apporteur': ['apporteur', 'apporteurs'], 'population': ['population', 'populations'], 'système': ['système'], 'aujourd’hui': ['aujourd’hui'], 'sclérosé': ['sclérosé'], 'l’': ['l’', 'L’'], 'milieu': ['milieux'], 'lobby': ['lobbies'], 'service': ['services', 'service'], 'tribunal': ['tribunaux', 'tribunal'], 'dossier': ['dossiers', 'dossier'], 'kilo': ['kilos'], 'inexploitable': ['inexploitables'], 'incompréhensible': ['incompréhensibles'], 'enquêteur': ['enquêteurs', 'enquêteur'], 'haute': ['haute'], 'fonction': ['fonction'], 'officier': ['officiers'], 'armée': ['armée'], 'cabinet': ['cabinets'], 'étude': ['études'], 'notable': ['notables'], 'baron': ['barons'], 'mesure': ['mesure'], 'aspiration': ['aspirations'], 'durée': ['durées'], 'influence': ['influence'], 'concertation': ['concertations'], 'disposition': ['dispositions'], 'code': ['Code'], 'environnement': ['Environnement', 'environnement'], 'marge': ['marge'], 'avis': ['avis'], 'recommandation': ['recommandations'], 'affaire': ['affaires'], 'paragraphe': ['paragraphe'], 'remise': ['remise'], 'cause': ['cause'], 'profondeur': ['profondeur'], 'intermédiaire': ['intermédiaire'], 'piste': ['pistes'], 'vecteur': ['vecteur'], 'culturel': ['culturel'], 'protection': ['protection'], 'd’': ['d’'], 'acteur': ['acteur'], 'aspect': ['aspects'], 'sociau': ['sociaux'], 'texte': ['textes', 'texte'], 'envergure': ['envergure'], 'infrastructure': ['infrastructures'], 'canal': ['canaux'], 'port': ['ports'], 'aéroport': ['aéroports'], 'industrie': ['industries'], 'vaste': ['vastes'], 'entreposage': ['entreposage'], 'surface': ['surfaces'], 'zonage': ['zonages'], 'site': ['sites'], 'création': ['créations'], 'zone': ['zones'], 'scot': ['SCOT'], 'opération': ['opérations'], 'expropriation': ['expropriation'], 'consentement': ['consentement'], 'propriétaire': ['propriétaire'], 'modification': ['modification'], 'domaine': ['domaine'], 'champ': ['champ'], 'intervention': ['intervention'], 'obstacle': ['obstacle'], '–': ['–'], 'partenaire': ['partenaires', 'partenaire'], 'auteur': ['auteur'], 'phase': ['phases'], 'élaboration': ['élaboration'], 'connaissance': ['connaissance'], 'terrain': ['terrain'], 'national': ['nationaux'], 'local': ['locaux'], 'préfecture': ['Préfectures'], 'dreal': ['DREAL'], '•': ['•'], 'finalisation': ['finalisation'], 'autorisation': ['autorisation'], 'rejet': ['rejet'], 'poursuite': ['poursuite'], 'renoncement': ['renoncement'], 'échange': ['échanges'], 'public': ['public'], 'grâce': ['grâce'], 'fur': ['fur'], 'avancement': ['avancement'], 'amélioration': ['amélioration'], 'possible': ['possible'], 'solution': ['solution'], 'problème': ['problèmes'], 'cours': ['cours'], 'but': ['but'], 'c’': ['c’'], 'cas': ['cas'], 'réserve': ['réserves'], 'inutilité': ['inutilité'], 'n’': ['n’'], 'concret': ['concret'], 'autorité': ['autorité'], 'commissaire': ['commissaire', 'commissaires', 'Commissaires'], 'jury': ['jury'], 'défense': ['défense'], 'salarié': ['salarié'], 'responsable': ['responsable'], 's’': ['s’'], 'intérêt': ['intérêt'], 'demandeur': ['demandeur'], 'avance': ['avance'], 'président': ['président'], 'montant': ['montant'], 'début': ['début'], 'fin': ['fin'], 'niveau': ['niveau'], 'intercommunalité': ['intercommunalité'], 'mentalité': ['mentalité'], 'habitant': ['habitants'], 'usage': ['usages'], 'coutume': ['coutumes'], 'acceptabilité': ['acceptabilité'], 'ouverture': ['ouverture'], 'base': ['base'], 'préfet': ['Préfet'], 'collège': ['collège'], 'tissu': ['tissu'], 'aide': ['aide'], 'entreprise': ['entreprises'], 'clair': ['clairs'], 'détail': ['détails']}\n"
     ]
    }
   ],
   "source": [
    "lemma_form = get_lemma_form(nouns)"
   ]
  },
  {
   "cell_type": "code",
   "execution_count": 60,
   "metadata": {},
   "outputs": [
    {
     "name": "stdout",
     "output_type": "stream",
     "text": [
      "Nombre de lemme différents :  249\n"
     ]
    }
   ],
   "source": [
    "print(\"Nombre de lemme différents : \", len(lemma_form))"
   ]
  },
  {
   "cell_type": "markdown",
   "metadata": {},
   "source": [
    "### Sérialisation des données\n",
    "\n",
    "Via la fonction serialisation_data de POS_tagging.ipynb"
   ]
  },
  {
   "cell_type": "code",
   "execution_count": 42,
   "metadata": {},
   "outputs": [],
   "source": [
    "def serialisation_data (data, title):\n",
    "  \"\"\"\n",
    "  Serialize data in a json file\n",
    "  -> Title mus be a string : title.json\n",
    "  <- Save a file in desktop\n",
    "  \"\"\"\n",
    "\n",
    "  with open(title, \"w+\") as file:\n",
    "    json.dump(data, file)"
   ]
  },
  {
   "cell_type": "code",
   "execution_count": 95,
   "metadata": {},
   "outputs": [],
   "source": [
    "#Sérialisation du dictionnaire d'occurence\n",
    "serialisation_data (occ, \"dict_occ.json\")\n",
    "\n",
    "#Sérialisation du dictionnaire de fréquence\n",
    "serialisation_data (freq, \"dict_freq.json\")\n",
    "\n",
    "#Sérialisation du dictionnaire de lemmes\n",
    "serialisation_data (lemma_form, \"lemme_form.json\")"
   ]
  },
  {
   "cell_type": "code",
   "execution_count": null,
   "metadata": {},
   "outputs": [],
   "source": []
  },
  {
   "cell_type": "code",
   "execution_count": null,
   "metadata": {},
   "outputs": [],
   "source": []
  },
  {
   "cell_type": "code",
   "execution_count": 30,
   "metadata": {},
   "outputs": [
    {
     "name": "stdout",
     "output_type": "stream",
     "text": [
      "                        0     1     2\n",
      "confiance       confiance  None  None\n",
      "société           société  None  None\n",
      "élu                  élus   élu  None\n",
      "rôle                 rôle  None  None\n",
      "association  associations  None  None\n",
      "...                   ...   ...   ...\n",
      "tissu               tissu  None  None\n",
      "aide                 aide  None  None\n",
      "entreprise    entreprises  None  None\n",
      "clair              clairs  None  None\n",
      "détail            détails  None  None\n",
      "\n",
      "[249 rows x 3 columns]\n"
     ]
    }
   ],
   "source": [
    "data_frame = pd.DataFrame.from_dict(lemma_form, orient='index')\n",
    "\n",
    "print(data_frame)"
   ]
  },
  {
   "cell_type": "code",
   "execution_count": 54,
   "metadata": {},
   "outputs": [
    {
     "name": "stdout",
     "output_type": "stream",
     "text": [
      "3\n"
     ]
    }
   ],
   "source": [
    "col = data_frame.shape[1]\n",
    "\n",
    "print(col)\n",
    "\n",
    "data_frame.to_csv(r\"./ test.csv\", header = [i for i in range(1,col+1)])"
   ]
  },
  {
   "cell_type": "code",
   "execution_count": null,
   "metadata": {},
   "outputs": [],
   "source": []
  }
 ],
 "metadata": {
  "kernelspec": {
   "display_name": "Python 3",
   "language": "python",
   "name": "python3"
  },
  "language_info": {
   "codemirror_mode": {
    "name": "ipython",
    "version": 3
   },
   "file_extension": ".py",
   "mimetype": "text/x-python",
   "name": "python",
   "nbconvert_exporter": "python",
   "pygments_lexer": "ipython3",
   "version": "3.9.5"
  }
 },
 "nbformat": 4,
 "nbformat_minor": 4
}
