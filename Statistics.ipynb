{
 "cells": [
  {
   "cell_type": "markdown",
   "metadata": {},
   "source": [
    "# Qu'est-ce qu'il y a dans ce notebook ?\n",
    "\n",
    "Il y a toutes les fonctions permettant l'analyse des données obtenues après le POS_Taaging\n",
    "\n",
    "1. Calcul des fréquences d'une liste de mots\n",
    "2. Récupérer les différentes formes d'un lemme"
   ]
  },
  {
   "cell_type": "code",
   "execution_count": 38,
   "metadata": {},
   "outputs": [],
   "source": [
    "import json\n",
    "from collections import Counter\n",
    "import collections\n",
    "import pandas as pd\n",
    "from ipynb.fs.defs.POS_Tagging import serialisation_data\n",
    "import re"
   ]
  },
  {
   "cell_type": "markdown",
   "metadata": {},
   "source": [
    "## Ouverture des fichiers Json"
   ]
  },
  {
   "cell_type": "code",
   "execution_count": 2,
   "metadata": {},
   "outputs": [],
   "source": [
    "def open_file(file):\n",
    "    with open(file) as json_data:\n",
    "        data = json.load(json_data)\n",
    "    return data\n",
    "#ata_str = json.dumps(data_dict)"
   ]
  },
  {
   "cell_type": "code",
   "execution_count": 3,
   "metadata": {},
   "outputs": [],
   "source": [
    "nouns = open_file(\"nouns.json\")"
   ]
  },
  {
   "cell_type": "code",
   "execution_count": 4,
   "metadata": {},
   "outputs": [],
   "source": [
    "def extract_nouns(tuple_list):\n",
    "    \"\"\"extract different forms from tuple\n",
    "    -> tuple list\n",
    "    <- noun list\"\"\"\n",
    "    \n",
    "    form_list = []\n",
    "    \n",
    "    for tup in tuple_list:\n",
    "        form_list.append(tup[0])\n",
    "        \n",
    "    return form_list"
   ]
  },
  {
   "cell_type": "code",
   "execution_count": 6,
   "metadata": {},
   "outputs": [],
   "source": [
    "nouns_list = extract_nouns(nouns)"
   ]
  },
  {
   "cell_type": "code",
   "execution_count": 7,
   "metadata": {},
   "outputs": [
    {
     "name": "stdout",
     "output_type": "stream",
     "text": [
      "['confiance', 'société', 'élus', 'rôle', 'associations', 'organisations', 'oui', 'type', 'associations', 'organisations', 'rôle', 'lien', 'citoyens', 'élus', 'non-cumul', 'mandats', 'parlementaires', 'députés', 'sensibilités', 'nombre', 'élus', 'députés', 'oui', 'participation', 'citoyens', 'élections', 'compte', 'vote', 'oui', 'manière', 'citoyens', 'orientations', 'décision', 'place', 'démocratie', 'participative', 'déclenchement', 'référendum', 'initiative', 'initiative', 'membres', 'Parlement', 'partie', 'corps', 'oui', 'citoyens', 'utilisation', 'argent', 'Etat', 'collectivités']\n"
     ]
    }
   ],
   "source": [
    "print(nouns_list[0:50])"
   ]
  },
  {
   "cell_type": "markdown",
   "metadata": {},
   "source": [
    "## Calcul des fréquences des noms"
   ]
  },
  {
   "cell_type": "markdown",
   "metadata": {},
   "source": [
    "### Calcul des occurences de chaque mot\n",
    "\n",
    "Format Dictionnaire (objet Counter)"
   ]
  },
  {
   "cell_type": "code",
   "execution_count": 8,
   "metadata": {},
   "outputs": [],
   "source": [
    "def dict_occ (words_list) :\n",
    "    \"\"\"Count occurencies of words\n",
    "    -> list of words\n",
    "    <- dictionary of word frequencies like {word_1 : occurence, word_2 : occurence, ... , word_n : occurence}\"\"\"\n",
    "\n",
    "    occ = collections.Counter(words_list)\n",
    "    \n",
    "    return occ"
   ]
  },
  {
   "cell_type": "code",
   "execution_count": 11,
   "metadata": {},
   "outputs": [
    {
     "name": "stdout",
     "output_type": "stream",
     "text": [
      "Nombre d‘occurences uniques : 132725\n"
     ]
    }
   ],
   "source": [
    "occ = dict_occ(nouns_list)\n",
    "\n",
    "print(\"Nombre d‘occurences uniques :\", len(occ))"
   ]
  },
  {
   "cell_type": "code",
   "execution_count": 36,
   "metadata": {},
   "outputs": [
    {
     "name": "stdout",
     "output_type": "stream",
     "text": [
      "[('citoyens', 181332), ('élus', 155028), ('vote', 131477), ('pays', 129567), ('chose', 102982), ('respect', 95574), ('Citoyen', 91105), ('personnes', 90165), ('vie', 85028), ('travail', 81378), ('l’', 78069), ('exemple', 75756), ('éducation', 72783), ('nombre', 67754), ('associations', 65427), ('place', 64475), ('école', 62695), ('société', 62044), ('temps', 60616), ('loi', 58543), ('compte', 57939), ('lois', 56294), ('gens', 53818), ('niveau', 53404), ('députés', 53388), ('%', 50739), ('politique', 49556), ('immigration', 49301), ('cas', 49236), ('démocratie', 46442), ('citoyen', 46082), ('rôle', 45388), ('proportionnelle', 45303), ('valeurs', 45242), ('élections', 43587), ('enfants', 42327), ('droit', 40788), ('état', 40549), ('service', 39462), ('intérêt', 39393), ('monde', 38243), ('mandat', 37200), ('ans', 37099), ('élection', 35675), ('question', 35557), ('élu', 35018), ('peuple', 32456), ('votes', 32169), ('pouvoir', 31109), ('décisions', 30846)]\n",
      "132725\n"
     ]
    }
   ],
   "source": [
    "ordered_occ_dict = sorted(occ.items(), key=lambda x:x[1], reverse = True)\n",
    "\n",
    "print(ordered_occ_dict[0:50])\n",
    "sort_dict = dict(ordered_occ_dict)\n",
    "print(len(ordered_occ_dict))"
   ]
  },
  {
   "cell_type": "code",
   "execution_count": null,
   "metadata": {},
   "outputs": [],
   "source": []
  },
  {
   "cell_type": "markdown",
   "metadata": {},
   "source": [
    "### Calcul des fréquences et tri par fréquence les plus élevées\n",
    "\n",
    "Stockée sous forme de dictionnaire"
   ]
  },
  {
   "cell_type": "code",
   "execution_count": 13,
   "metadata": {},
   "outputs": [],
   "source": [
    "def dict_freq (dict_occurence):\n",
    "    \"\"\"calculates frequencies of words\n",
    "    <- dictionnary of occurences\n",
    "    -> dictionary of frequencies like {word_1 : frequence, word_2 : frequence, ... , word_n : frequence}\"\"\"\n",
    "\n",
    "    data_fq = {key : dict_occurence[key]/len(dict_occurence) for key in dict_occurence}\n",
    "    \n",
    "    return data_fq\n"
   ]
  },
  {
   "cell_type": "code",
   "execution_count": 14,
   "metadata": {},
   "outputs": [],
   "source": [
    "freq = dict_freq(occ)"
   ]
  },
  {
   "cell_type": "markdown",
   "metadata": {},
   "source": [
    "#### Tri du dictionnaire par fréquence les plus élevées"
   ]
  },
  {
   "cell_type": "code",
   "execution_count": 28,
   "metadata": {},
   "outputs": [
    {
     "name": "stdout",
     "output_type": "stream",
     "text": [
      "[('citoyens', 1.3662233942362028), ('élus', 1.1680391787530608), ('vote', 0.9905970992653984), ('pays', 0.9762064418911283), ('chose', 0.7759050668675833), ('respect', 0.7200904125070635), ('Citoyen', 0.6864192880015069), ('personnes', 0.6793369749482012), ('vie', 0.6406328875494444), ('travail', 0.6131324166509701), ('l’', 0.5882011678282162), ('exemple', 0.5707741570917311), ('éducation', 0.5483744584667546), ('nombre', 0.510484083631569), ('associations', 0.4929515916368431), ('place', 0.4857788660764739), ('école', 0.4723676775287248), ('société', 0.4674627990205312), ('temps', 0.4567037106799774), ('loi', 0.44108495008476173), ('compte', 0.4365341872292334), ('lois', 0.4241401393859484), ('gens', 0.4054850254285176), ('niveau', 0.40236579393482763), ('députés', 0.40224524392540967), ('%', 0.3822866829911471), ('politique', 0.373373516669806), ('immigration', 0.3714522508947071), ('cas', 0.3709625164814466), ('démocratie', 0.3499114710868337), ('citoyen', 0.34719909587492936), ('rôle', 0.34197023921642494), ('proportionnelle', 0.341329817291392), ('valeurs', 0.340870220380486), ('élections', 0.32840082878131477), ('enfants', 0.31890751553964963), ('droit', 0.3073121115087587), ('état', 0.3055113957430778), ('service', 0.2973215294782445), ('intérêt', 0.2968016575626295), ('monde', 0.2881371256357129), ('mandat', 0.2802787718967791), ('ans', 0.2795177999623281), ('élection', 0.2687888491241288), ('question', 0.2678997928046713), ('élu', 0.26383876436240344), ('peuple', 0.2445356941043511), ('votes', 0.24237332831041628), ('pouvoir', 0.2343868901864758), ('décisions', 0.23240534940666793)]\n"
     ]
    }
   ],
   "source": [
    "ordered_freq_dict = sorted(freq.items(), key=lambda x:x[1], reverse = True)\n",
    "\n",
    "print(ordered_freq_dict[0:50])\n",
    "sortdict = dict(ordered_freq_dict)"
   ]
  },
  {
   "cell_type": "markdown",
   "metadata": {},
   "source": [
    "## Récupérer les différentes formes d'un mot"
   ]
  },
  {
   "cell_type": "code",
   "execution_count": 15,
   "metadata": {},
   "outputs": [],
   "source": [
    "def get_lemma_form (tuple_list):\n",
    "    \"\"\"creates a dictionnary of different forms for each lemma of the processed document\n",
    "    -> liste of tuples like [(word_form1, word_lemma1), ..., (word_formn, word_lemman)\n",
    "    <- dictionnary with as key a lemma and as values the different forms found in the text\n",
    "    dictionary form : {lemma1 : [form1,form2, formn], lemma2 : [form1,form2,formn], ..., lemman: [forma1,form2,formn]}\n",
    "    \"\"\"\n",
    "    \n",
    "    lemma_and_form = {}\n",
    "    \n",
    "    for tup in tuple_list:\n",
    "        if tup[1] not in lemma_and_form: lemma_and_form[tup[1]] = []\n",
    "        if tup[0] not in lemma_and_form[tup[1]]: lemma_and_form[tup[1]].append(tup[0])\n",
    "        \n",
    "    return lemma_and_form"
   ]
  },
  {
   "cell_type": "code",
   "execution_count": 16,
   "metadata": {},
   "outputs": [],
   "source": [
    "lemma_form = get_lemma_form(nouns)"
   ]
  },
  {
   "cell_type": "code",
   "execution_count": 60,
   "metadata": {},
   "outputs": [
    {
     "name": "stdout",
     "output_type": "stream",
     "text": [
      "Nombre de lemme différents :  249\n"
     ]
    }
   ],
   "source": [
    "print(\"Nombre de lemme différents : \", len(lemma_form))"
   ]
  },
  {
   "cell_type": "markdown",
   "metadata": {},
   "source": [
    "### Sérialisation des données\n",
    "\n",
    "Via la fonction serialisation_data de POS_tagging.ipynb"
   ]
  },
  {
   "cell_type": "code",
   "execution_count": 17,
   "metadata": {},
   "outputs": [],
   "source": [
    "def serialisation_data (data, title):\n",
    "  \"\"\"\n",
    "  Serialize data in a json file\n",
    "  -> Title mus be a string : title.json\n",
    "  <- Save a file in desktop\n",
    "  \"\"\"\n",
    "\n",
    "  with open(title, \"w+\") as file:\n",
    "    json.dump(data, file)"
   ]
  },
  {
   "cell_type": "code",
   "execution_count": 30,
   "metadata": {},
   "outputs": [],
   "source": [
    "#Sérialisation du dictionnaire d'occurence\n",
    "#serialisation_data (occ, \"dict_occ.json\")\n",
    "\n",
    "#Sérialisation du dictionnaire de fréquence\n",
    "#serialisation_data (freq, \"dict_freq.json\")\n",
    "\n",
    "#Sérialisation du dictionnaire de fréquence trié\n",
    "serialisation_data (sortdict, \"dict_ord_freq.json\")\n",
    "\n",
    "#Sérialisation du dictionnaire de lemmes\n",
    "#serialisation_data (lemma_form, \"lemme_form.json\")"
   ]
  },
  {
   "cell_type": "code",
   "execution_count": null,
   "metadata": {},
   "outputs": [],
   "source": []
  },
  {
   "cell_type": "code",
   "execution_count": null,
   "metadata": {},
   "outputs": [],
   "source": []
  },
  {
   "cell_type": "code",
   "execution_count": null,
   "metadata": {},
   "outputs": [],
   "source": [
    "data_frame = pd.DataFrame.from_dict(lemma_form, orient='index')\n",
    "\n",
    "print(data_frame)\n",
    "col = data_frame.shape[1]\n",
    "\n",
    "print(col)\n",
    "\n",
    "data_frame.to_csv(r\"./ lemmes.csv\", header = [i for i in range(1,col+1)])"
   ]
  },
  {
   "cell_type": "code",
   "execution_count": 25,
   "metadata": {},
   "outputs": [
    {
     "name": "stdout",
     "output_type": "stream",
     "text": [
      "                                 0\n",
      "confiance                 0.221722\n",
      "société                   0.467463\n",
      "élus                      1.168039\n",
      "rôle                      0.341970\n",
      "associations              0.492952\n",
      "...                            ...\n",
      "hyperpresidentialisation  0.000008\n",
      "efficae                   0.000008\n",
      "luie                      0.000008\n",
      "Contournement             0.000008\n",
      "QPS                       0.000008\n",
      "\n",
      "[132725 rows x 1 columns]\n",
      "1\n"
     ]
    }
   ],
   "source": [
    "data_frame = pd.DataFrame.from_dict(freq, orient='index')\n",
    "\n",
    "print(data_frame)\n",
    "col = data_frame.shape[1]\n",
    "\n",
    "print(col)\n",
    "\n",
    "data_frame.to_csv(r\"./ fréquences.csv\", header = [\"Fréquence\"])"
   ]
  },
  {
   "cell_type": "code",
   "execution_count": 32,
   "metadata": {},
   "outputs": [
    {
     "name": "stdout",
     "output_type": "stream",
     "text": [
      "                                 0\n",
      "citoyens                  1.366223\n",
      "élus                      1.168039\n",
      "vote                      0.990597\n",
      "pays                      0.976206\n",
      "chose                     0.775905\n",
      "...                            ...\n",
      "hyperpresidentialisation  0.000008\n",
      "efficae                   0.000008\n",
      "luie                      0.000008\n",
      "Contournement             0.000008\n",
      "QPS                       0.000008\n",
      "\n",
      "[132725 rows x 1 columns]\n"
     ]
    }
   ],
   "source": [
    "data_frame = pd.DataFrame.from_dict(sortdict, orient='index')\n",
    "\n",
    "print(data_frame)\n",
    "\n",
    "data_frame.to_csv(r\"./ fréquences_ordered.csv\", header = [\"Fréquence\"])"
   ]
  },
  {
   "cell_type": "code",
   "execution_count": 37,
   "metadata": {},
   "outputs": [
    {
     "name": "stdout",
     "output_type": "stream",
     "text": [
      "                               0\n",
      "citoyens                  181332\n",
      "élus                      155028\n",
      "vote                      131477\n",
      "pays                      129567\n",
      "chose                     102982\n",
      "...                          ...\n",
      "hyperpresidentialisation       1\n",
      "efficae                        1\n",
      "luie                           1\n",
      "Contournement                  1\n",
      "QPS                            1\n",
      "\n",
      "[132725 rows x 1 columns]\n"
     ]
    }
   ],
   "source": [
    "data_frame = pd.DataFrame.from_dict(sort_dict, orient='index')\n",
    "\n",
    "print(data_frame)\n",
    "\n",
    "data_frame.to_csv(r\"./ occurences_ordered.csv\", header = [\"Fréquence\"])"
   ]
  },
  {
   "cell_type": "code",
   "execution_count": null,
   "metadata": {},
   "outputs": [],
   "source": []
  }
 ],
 "metadata": {
  "kernelspec": {
   "display_name": "Python 3",
   "language": "python",
   "name": "python3"
  },
  "language_info": {
   "codemirror_mode": {
    "name": "ipython",
    "version": 3
   },
   "file_extension": ".py",
   "mimetype": "text/x-python",
   "name": "python",
   "nbconvert_exporter": "python",
   "pygments_lexer": "ipython3",
   "version": "3.9.5"
  }
 },
 "nbformat": 4,
 "nbformat_minor": 4
}
