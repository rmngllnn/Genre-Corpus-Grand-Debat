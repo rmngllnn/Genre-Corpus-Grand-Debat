{
 "cells": [
  {
   "cell_type": "markdown",
   "metadata": {},
   "source": [
    "## Ouverture des fichiers Json"
   ]
  },
  {
   "cell_type": "code",
   "execution_count": 1,
   "metadata": {},
   "outputs": [],
   "source": [
    "import json\n",
    "from collections import Counter\n",
    "import collections\n",
    "import pandas as pd\n",
    "from ipynb.fs.defs.POS_Tagging import serialisation_data\n",
    "import re"
   ]
  },
  {
   "cell_type": "code",
   "execution_count": 2,
   "metadata": {},
   "outputs": [],
   "source": [
    "def open_file(file):\n",
    "    with open(file) as json_data:\n",
    "        data = json.load(json_data)\n",
    "    return data\n",
    "#ata_str = json.dumps(data_dict)\n",
    "\n"
   ]
  },
  {
   "cell_type": "markdown",
   "metadata": {},
   "source": [
    "## Calcul des fréquences des noms"
   ]
  },
  {
   "cell_type": "markdown",
   "metadata": {},
   "source": [
    "### Calcul des occurences de chaque mot\n",
    "\n",
    "Format Dictionnaire (objet Counter)"
   ]
  },
  {
   "cell_type": "code",
   "execution_count": 2,
   "metadata": {},
   "outputs": [],
   "source": [
    "def dict_occ (words_list) :\n",
    "    \"\"\"Count occurencies of words\n",
    "    -> list of words\n",
    "    <- dictionary of word frequencies like {word_1 : occurence, word_2 : occurence, ... , word_n : occurence}\"\"\"\n",
    "\n",
    "    occ = collections.Counter(word_list)\n",
    "    \n",
    "    return occ"
   ]
  },
  {
   "cell_type": "code",
   "execution_count": 93,
   "metadata": {},
   "outputs": [
    {
     "name": "stdout",
     "output_type": "stream",
     "text": [
      "Nombre d‘occurences uniques : 22091\n"
     ]
    }
   ],
   "source": [
    "print(\"Nombre d‘occurences uniques :\", len(c))"
   ]
  },
  {
   "cell_type": "markdown",
   "metadata": {},
   "source": [
    "### Calcul des fréquences et tri par fréquence les plus élevées\n",
    "\n",
    "Stockée sous forme de dictionnaire"
   ]
  },
  {
   "cell_type": "code",
   "execution_count": null,
   "metadata": {},
   "outputs": [],
   "source": [
    "def dict_freq (dict_occurence):\n",
    "    \"\"\"calculates frequencies of words\n",
    "    <- dictionnary of occurences\n",
    "    -> dictionary of frequencies like {word_1 : frequence, word_2 : frequence, ... , word_n : frequence}\"\"\"\n",
    "\n",
    "    data_fq = {key : dict_occurence[key]/len(dict_occurence) for key in dict_occurence}\n",
    "    \n",
    "    return data_fq\n",
    "\n",
    "print(data_fq)\n"
   ]
  },
  {
   "cell_type": "markdown",
   "metadata": {},
   "source": [
    "## Récupérer les différentes formes d'un mot"
   ]
  },
  {
   "cell_type": "code",
   "execution_count": 1,
   "metadata": {},
   "outputs": [],
   "source": [
    "def get_lemma_form (tuple_list):\n",
    "    \"\"\"creates a dictionnary of different forms for each lemma of the processed document\n",
    "    -> liste of tuples like [(word_form1, word_lemma1), ..., (word_formn, word_lemman)\n",
    "    <- dictionnary with as key a lemma and as values the different forms found in the text\n",
    "    dictionary form : {lemma1 : [form1,form2, formn], lemma2 : [form1,form2,formn], ..., lemman: [forma1,form2,formn]}\n",
    "    \"\"\"\n",
    "    \n",
    "    lemma_and_form = {}\n",
    "    \n",
    "    for tuple in tuple_list:\n",
    "        if tuple[1] not in lemma_and_form: lemma_and_form[tuple[1]] = []\n",
    "        lemma_and_form[tuple[1]].append(tuple[0])\n",
    "        \n",
    "    return lemma_and_form"
   ]
  },
  {
   "cell_type": "markdown",
   "metadata": {},
   "source": [
    "### Sérialisation des données\n",
    "\n",
    "Via la fonction serialisation_data de POS_tagging.ipynb"
   ]
  },
  {
   "cell_type": "code",
   "execution_count": 95,
   "metadata": {},
   "outputs": [],
   "source": [
    "serialisation_data (c, \"dict_occ.json\")"
   ]
  },
  {
   "cell_type": "code",
   "execution_count": null,
   "metadata": {},
   "outputs": [],
   "source": []
  },
  {
   "cell_type": "code",
   "execution_count": 14,
   "metadata": {},
   "outputs": [],
   "source": [
    "data_frame = pd.DataFrame.from_dict(c, orient='index')"
   ]
  }
 ],
 "metadata": {
  "kernelspec": {
   "display_name": "Python 3",
   "language": "python",
   "name": "python3"
  },
  "language_info": {
   "codemirror_mode": {
    "name": "ipython",
    "version": 3
   },
   "file_extension": ".py",
   "mimetype": "text/x-python",
   "name": "python",
   "nbconvert_exporter": "python",
   "pygments_lexer": "ipython3",
   "version": "3.9.5"
  }
 },
 "nbformat": 4,
 "nbformat_minor": 4
}
