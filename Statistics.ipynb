{
 "cells": [
  {
   "cell_type": "markdown",
   "metadata": {},
   "source": [
    "# Qu'est-ce qu'il y a dans ce notebook ?\n",
    "\n",
    "Il y a toutes les fonctions permettant l'analyse des données obtenues après le POS_Taaging\n",
    "\n",
    "1. Calcul des fréquences d'une liste de mots\n",
    "2. Récupérer les différentes formes d'un lemme"
   ]
  },
  {
   "cell_type": "code",
   "execution_count": null,
   "metadata": {},
   "outputs": [],
   "source": [
    "import json\n",
    "from collections import Counter\n",
    "import collections\n",
    "import pandas as pd\n",
    "from ipynb.fs.defs.fonctions_preprocess import serialisation_data\n",
    "from ipynb.fs.defs.fonctions_preprocess import open_file\n",
    "import re"
   ]
  },
  {
   "cell_type": "markdown",
   "metadata": {},
   "source": [
    "## Ouverture des fichiers Json"
   ]
  },
  {
   "cell_type": "code",
   "execution_count": null,
   "metadata": {},
   "outputs": [],
   "source": [
    "nouns = open_file(\"nouns.json\")"
   ]
  },
  {
   "cell_type": "code",
   "execution_count": null,
   "metadata": {},
   "outputs": [],
   "source": [
    "def extract_nouns(tuple_list):\n",
    "    \"\"\"extract different forms from tuple\n",
    "    -> tuple list\n",
    "    <- noun list\"\"\"\n",
    "    \n",
    "    form_list = []\n",
    "    \n",
    "    for tup in tuple_list:\n",
    "        form_list.append(tup[0])\n",
    "        \n",
    "    return form_list"
   ]
  },
  {
   "cell_type": "code",
   "execution_count": null,
   "metadata": {},
   "outputs": [],
   "source": [
    "nouns_list = extract_nouns(nouns)"
   ]
  },
  {
   "cell_type": "markdown",
   "metadata": {},
   "source": [
    "## Calcul des fréquences des noms"
   ]
  },
  {
   "cell_type": "markdown",
   "metadata": {},
   "source": [
    "### Calcul des occurences de chaque mot\n",
    "\n",
    "Format Dictionnaire (objet Counter)"
   ]
  },
  {
   "cell_type": "code",
   "execution_count": null,
   "metadata": {},
   "outputs": [],
   "source": [
    "def dict_occ (words_list) :\n",
    "    \"\"\"Count occurencies of words\n",
    "    -> list of words\n",
    "    <- dictionary of word frequencies like {word_1 : occurence, word_2 : occurence, ... , word_n : occurence}\"\"\"\n",
    "\n",
    "    occ = collections.Counter(words_list)\n",
    "    \n",
    "    return occ"
   ]
  },
  {
   "cell_type": "code",
   "execution_count": null,
   "metadata": {},
   "outputs": [],
   "source": [
    "occ = dict_occ(nouns_list)\n",
    "\n",
    "print(\"Nombre d‘occurences uniques :\", len(occ))"
   ]
  },
  {
   "cell_type": "code",
   "execution_count": null,
   "metadata": {},
   "outputs": [],
   "source": [
    "ordered_occ_dict = sorted(occ.items(), key=lambda x:x[1], reverse = True)\n",
    "\n",
    "print(ordered_occ_dict[0:50])\n",
    "sort_dict = dict(ordered_occ_dict)\n",
    "print(len(ordered_occ_dict))"
   ]
  },
  {
   "cell_type": "markdown",
   "metadata": {},
   "source": [
    "### Calcul des fréquences et tri par fréquence les plus élevées\n",
    "\n",
    "Stockée sous forme de dictionnaire"
   ]
  },
  {
   "cell_type": "code",
   "execution_count": null,
   "metadata": {},
   "outputs": [],
   "source": [
    "def dict_freq (dict_occurence):\n",
    "    \"\"\"calculates frequencies of words\n",
    "    <- dictionnary of occurences\n",
    "    -> dictionary of frequencies like {word_1 : frequence, word_2 : frequence, ... , word_n : frequence}\"\"\"\n",
    "\n",
    "    data_fq = {key : dict_occurence[key]/len(dict_occurence) for key in dict_occurence}\n",
    "    \n",
    "    return data_fq\n"
   ]
  },
  {
   "cell_type": "code",
   "execution_count": null,
   "metadata": {},
   "outputs": [],
   "source": [
    "freq = dict_freq(occ)"
   ]
  },
  {
   "cell_type": "markdown",
   "metadata": {},
   "source": [
    "#### Tri du dictionnaire par fréquence les plus élevées"
   ]
  },
  {
   "cell_type": "code",
   "execution_count": null,
   "metadata": {},
   "outputs": [],
   "source": [
    "ordered_freq_dict = sorted(freq.items(), key=lambda x:x[1], reverse = True)\n",
    "\n",
    "print(ordered_freq_dict[0:50])\n",
    "sortdict = dict(ordered_freq_dict)"
   ]
  },
  {
   "cell_type": "markdown",
   "metadata": {},
   "source": [
    "## Récupérer les différentes formes d'un mot"
   ]
  },
  {
   "cell_type": "code",
   "execution_count": null,
   "metadata": {},
   "outputs": [],
   "source": [
    "def get_lemma_form (tuple_list):\n",
    "    \"\"\"creates a dictionnary of different forms for each lemma of the processed document\n",
    "    -> liste of tuples like [(word_form1, word_lemma1), ..., (word_formn, word_lemman)\n",
    "    <- dictionnary with as key a lemma and as values the different forms found in the text\n",
    "    dictionary form : {lemma1 : [form1,form2, formn], lemma2 : [form1,form2,formn], ..., lemman: [forma1,form2,formn]}\n",
    "    \"\"\"\n",
    "    \n",
    "    lemma_and_form = {}\n",
    "    \n",
    "    for tup in tuple_list:\n",
    "        if tup[1] not in lemma_and_form: lemma_and_form[tup[1]] = []\n",
    "        if tup[0] not in lemma_and_form[tup[1]]: lemma_and_form[tup[1]].append(tup[0])\n",
    "        \n",
    "    return lemma_and_form"
   ]
  },
  {
   "cell_type": "code",
   "execution_count": null,
   "metadata": {},
   "outputs": [],
   "source": [
    "lemma_form = get_lemma_form(nouns)"
   ]
  },
  {
   "cell_type": "code",
   "execution_count": null,
   "metadata": {},
   "outputs": [],
   "source": [
    "print(\"Nombre de lemme différents : \", len(lemma_form))"
   ]
  },
  {
   "cell_type": "markdown",
   "metadata": {},
   "source": [
    "### Sérialisation des données\n",
    "\n",
    "Via la fonction serialisation_data de POS_tagging.ipynb"
   ]
  },
  {
   "cell_type": "code",
   "execution_count": null,
   "metadata": {},
   "outputs": [],
   "source": [
    "def serialisation_data (data, title):\n",
    "  \"\"\"\n",
    "  Serialize data in a json file\n",
    "  -> Title mus be a string : title.json\n",
    "  <- Save a file in desktop\n",
    "  \"\"\"\n",
    "\n",
    "  with open(title, \"w+\") as file:\n",
    "    json.dump(data, file)"
   ]
  },
  {
   "cell_type": "code",
   "execution_count": null,
   "metadata": {},
   "outputs": [],
   "source": [
    "#Sérialisation du dictionnaire d'occurence\n",
    "#serialisation_data (occ, \"dict_occ.json\")\n",
    "\n",
    "#Sérialisation du dictionnaire de fréquence\n",
    "#serialisation_data (freq, \"dict_freq.json\")\n",
    "\n",
    "#Sérialisation du dictionnaire de fréquence trié\n",
    "serialisation_data (sortdict, \"dict_ord_freq.json\")\n",
    "\n",
    "#Sérialisation du dictionnaire de lemmes\n",
    "#serialisation_data (lemma_form, \"lemme_form.json\")"
   ]
  },
  {
   "cell_type": "markdown",
   "metadata": {},
   "source": [
    "## Création de fichiers CSV à partir d'un dictionnaire\n",
    "\n",
    "Permet de faciliter la lecture des données"
   ]
  },
  {
   "cell_type": "code",
   "execution_count": null,
   "metadata": {},
   "outputs": [],
   "source": [
    "data_frame = pd.DataFrame.from_dict(lemma_form, orient='index')\n",
    "\n",
    "print(data_frame)\n",
    "col = data_frame.shape[1]\n",
    "\n",
    "print(col)\n",
    "\n",
    "data_frame.to_csv(r\"./ lemmes.csv\", header = [i for i in range(1,col+1)])"
   ]
  },
  {
   "cell_type": "code",
   "execution_count": null,
   "metadata": {},
   "outputs": [],
   "source": [
    "data_frame = pd.DataFrame.from_dict(freq, orient='index')\n",
    "\n",
    "print(data_frame)\n",
    "col = data_frame.shape[1]\n",
    "\n",
    "print(col)\n",
    "\n",
    "data_frame.to_csv(r\"./ fréquences.csv\", header = [\"Fréquence\"])"
   ]
  },
  {
   "cell_type": "code",
   "execution_count": null,
   "metadata": {},
   "outputs": [],
   "source": [
    "data_frame = pd.DataFrame.from_dict(sortdict, orient='index')\n",
    "\n",
    "print(data_frame)\n",
    "\n",
    "data_frame.to_csv(r\"./ fréquences_ordered.csv\", header = [\"Fréquence\"])"
   ]
  },
  {
   "cell_type": "code",
   "execution_count": null,
   "metadata": {},
   "outputs": [],
   "source": []
  }
 ],
 "metadata": {
  "kernelspec": {
   "display_name": "Python 3",
   "language": "python",
   "name": "python3"
  },
  "language_info": {
   "codemirror_mode": {
    "name": "ipython",
    "version": 3
   },
   "file_extension": ".py",
   "mimetype": "text/x-python",
   "name": "python",
   "nbconvert_exporter": "python",
   "pygments_lexer": "ipython3",
   "version": "3.9.5"
  }
 },
 "nbformat": 4,
 "nbformat_minor": 4
}
