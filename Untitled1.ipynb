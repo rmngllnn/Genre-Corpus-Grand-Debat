{
 "cells": [
  {
   "cell_type": "code",
   "execution_count": 1,
   "id": "21eda0b3-2590-4f78-8eb5-e76deb254168",
   "metadata": {},
   "outputs": [],
   "source": [
    "import spacy"
   ]
  },
  {
   "cell_type": "code",
   "execution_count": null,
   "id": "423c4c6e-3a90-4928-8d06-7d1d27a463e4",
   "metadata": {},
   "outputs": [],
   "source": []
  },
  {
   "cell_type": "code",
   "execution_count": 3,
   "id": "6457c88e-391d-4f6f-afec-f20093b637e8",
   "metadata": {
    "id": "FAC9pb3iLQem"
   },
   "outputs": [
    {
     "name": "stdout",
     "output_type": "stream",
     "text": [
      "<generator object <genexpr> at 0x1270209e0>\n"
     ]
    }
   ],
   "source": [
    "nlp = spacy.load(\"fr_core_news_sm\")\n",
    "#doc = nlp(d) # /!\\ Doit être de type String\n",
    "\n",
    "doc = nlp(\"Le sénateur travaille pour la République\")\n",
    "\n",
    "print((ent.text, ent.label_) for ent in doc.ents)\n",
    "\n"
   ]
  },
  {
   "cell_type": "code",
   "execution_count": null,
   "id": "49dc8ae0-f921-4acc-8c0a-e3571cc77e1f",
   "metadata": {
    "id": "GecOiDpbGoKA",
    "outputId": "b4c952a8-5dad-4ff0-fcd5-4fda95efbe39",
    "tags": []
   },
   "outputs": [],
   "source": []
  }
 ],
 "metadata": {
  "kernelspec": {
   "display_name": "Python 3",
   "language": "python",
   "name": "python3"
  },
  "language_info": {
   "codemirror_mode": {
    "name": "ipython",
    "version": 3
   },
   "file_extension": ".py",
   "mimetype": "text/x-python",
   "name": "python",
   "nbconvert_exporter": "python",
   "pygments_lexer": "ipython3",
   "version": "3.9.5"
  }
 },
 "nbformat": 4,
 "nbformat_minor": 5
}
