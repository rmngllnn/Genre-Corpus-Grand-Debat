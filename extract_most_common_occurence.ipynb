{
 "cells": [
  {
   "cell_type": "markdown",
   "id": "d3bcf701-c15c-48db-b198-a4353ab7eba0",
   "metadata": {},
   "source": [
    "# Extraction occurence référents humains les plus courants\n",
    "\n",
    "Documents utilisés :  \n",
    "dict_occ.json (dictionnaire d'occurences de chaque mot)  \n",
    "lemme_form.json (dictionnaire de chaque lemme/forme du corpus)  \n",
    "all_data_cleaned.json (la totalité des données après nettoyage)\n",
    "\n",
    "Ici, on extrait les occurences pour 6 lemmes (et leurs formes): citoyen, élu, député, migrants, représentant, candidat\n",
    "\n",
    "Extraction des formes du textes qui prennes les SN de type \"citoyen et citoyenne, citoyen ou citoyenne\", etc.  \n",
    "\n",
    "Extraction de contexte pour les formes féminines"
   ]
  },
  {
   "cell_type": "code",
   "execution_count": null,
   "id": "14d0e1c3-deb1-42c8-a7a5-474ddf32849c",
   "metadata": {},
   "outputs": [],
   "source": [
    "from ipynb.fs.defs.fonctions_preprocess import serialisation_data\n",
    "from ipynb.fs.defs.fonctions_preprocess import open_file\n",
    "from ipynb.fs.defs.fonctions_preprocess import convert_occ_csv\n",
    "from ipynb.fs.defs.fonctions_preprocess import convert_occ_csv\n",
    "from ipynb.fs.defs.Statistics import dict_occ\n",
    "from collections import Counter\n",
    "from copy import deepcopy\n",
    "import pandas as pd\n",
    "import spacy\n",
    "import itertools\n",
    "import json"
   ]
  },
  {
   "cell_type": "markdown",
   "id": "489cc063-aee4-4612-9759-40ffcbd31aaa",
   "metadata": {},
   "source": [
    "## Extraction des occurences des formes des lemmes listés ci-dessus"
   ]
  },
  {
   "cell_type": "code",
   "execution_count": null,
   "id": "a92a3e60-3093-4f9f-ab4b-2a9267760130",
   "metadata": {},
   "outputs": [],
   "source": [
    "# Charge le module SpaCy\n",
    "\n",
    "nlp = spacy.load(\"fr_core_news_lg\")"
   ]
  },
  {
   "cell_type": "code",
   "execution_count": null,
   "id": "69aabc74-21d0-40a6-90b3-dc2a7f3b8adb",
   "metadata": {},
   "outputs": [],
   "source": [
    "dict_occ = open_file(\"dict_occ.json\")\n",
    "dict_lemme = open_file(\"lemme_form.json\")\n",
    "data_all = open_file(\"all_data_cleaned.json\")\n",
    "data = open_file(\"dict_occ_word.json\")\n",
    "lemme_to_extract = [\"citoyen\", \"élu\", \"député\", \"migrant\", \"représentant\", \"candidat\"]"
   ]
  },
  {
   "cell_type": "code",
   "execution_count": null,
   "id": "8bb6af83-a73c-4efc-82df-c2111c27bf32",
   "metadata": {},
   "outputs": [],
   "source": [
    "def extract_occurence_form (dict_occ, dict_lemme, word_list):\n",
    "    \n",
    "    \"\"\" Extract occurences for each form of each lemme\n",
    "    -> dict_occ : dictionary of occurences\n",
    "    -> dict_lemme : dictionary of lemmes as key a lemme and as value each form of the lemme detected by the tagger\n",
    "    -> word_list : list of lemme to extract\n",
    "    <- Dictionnary of occurences of each form\n",
    "    \"\"\"\n",
    "    \n",
    "    word_occ = {}\n",
    "    dict_form = {}\n",
    "    \n",
    "    for lemme in dict_lemme:\n",
    "        if lemme in word_list: dict_form[lemme] = dict_lemme[lemme]\n",
    "    \n",
    "    for lemme, form in dict_form.items():\n",
    "        for word in form:\n",
    "            word_occ[word] = dict_occ[word]\n",
    "        \n",
    "    return word_occ"
   ]
  },
  {
   "cell_type": "code",
   "execution_count": null,
   "id": "3223ac83-29b5-4f7d-89ea-6757883edc2d",
   "metadata": {},
   "outputs": [],
   "source": [
    "dict_occ_word = extract_occurence_form(dict_occ, dict_lemme, lemme_to_extract)"
   ]
  },
  {
   "cell_type": "code",
   "execution_count": null,
   "id": "7783141c-b34a-419b-a0e5-1812f56a9a23",
   "metadata": {},
   "outputs": [],
   "source": [
    "print(dict_occ_word)"
   ]
  },
  {
   "cell_type": "markdown",
   "id": "6444cba2-636e-440a-a493-3d708580f3b3",
   "metadata": {},
   "source": [
    "## Extraction des SN \"citoyen et citoyenne\", etc."
   ]
  },
  {
   "cell_type": "code",
   "execution_count": null,
   "id": "fef1d549-8a88-4209-aaa9-d70cc030c1a3",
   "metadata": {},
   "outputs": [],
   "source": [
    "def count_SN(sent_list):\n",
    "    \n",
    "    \"\"\"extracts multiple forms of NP like \"citoyen et citoyenne\"\n",
    "    -> sent_list : list of sentences\n",
    "    <- dictionnary of counts of NPs\n",
    "    \"\"\"\n",
    "    \n",
    "    dict_SN = {}\n",
    "    \n",
    "    dict_SN[\"citoyen_ou_citoyenne\"] = 0\n",
    "    dict_SN[\"citoyenne_ou_citoyen\"] = 0\n",
    "    dict_SN[\"citoyens_ou_citoyennes\"] = 0\n",
    "    dict_SN[\"citoyennes_ou_citoyens\"] = 0\n",
    "    \n",
    "    dict_SN[\"citoyen_et_citoyenne\"] = 0\n",
    "    dict_SN[\"citoyenne_et_citoyen\"] = 0\n",
    "    dict_SN[\"citoyens_et_citoyennes\"] = 0\n",
    "    dict_SN[\"citoyennes_et_citoyens\"] = 0\n",
    "    \n",
    "\n",
    "    for sentence in sent_list :\n",
    "        if \"citoyen ou citoyenne\" in sentence: dict_SN[\"citoyen_ou_citoyenne\"] += 1\n",
    "        elif \"citoyenne ou citoyen\" in sentence: dict_SN[\"citoyenne_ou_citoyen\"] += 1\n",
    "        elif \"citoyens ou citoyennes\" in sentence: dict_SN[\"citoyen_ou_citoyenne\"] += 1\n",
    "        elif \"citoyennes ou citoyens\" in sentence: dict_SN[\"citoyen_ou_citoyenne\"] += 1\n",
    "            \n",
    "        elif \"citoyen et citoyenne\" in sentence: dict_SN[\"citoyen_et_citoyenne\"] += 1\n",
    "        elif \"citoyenne et citoyen\" in sentence: dict_SN[\"citoyenne_et_citoyen\"] += 1\n",
    "        elif \"citoyennes et citoyens\" in sentence: dict_SN[\"citoyennes_et_citoyens\"] += 1\n",
    "        elif \"citoyens et citoyennes\" in sentence: dict_SN[\"citoyenne_et_citoyen\"] += 1\n",
    "            \n",
    "    return dict_SN"
   ]
  },
  {
   "cell_type": "code",
   "execution_count": null,
   "id": "524160d0-d87d-4756-835c-1ab8640a6dda",
   "metadata": {},
   "outputs": [],
   "source": [
    "dict_occ_SN = count_SN(data_all)"
   ]
  },
  {
   "cell_type": "code",
   "execution_count": null,
   "id": "3e56a8f0-8ea9-41a7-a67e-9f4060cdb9fe",
   "metadata": {},
   "outputs": [],
   "source": [
    "#Fusion des deux dictionnaires\n",
    "\n",
    "d = deepcopy(dict_occ_word)\n",
    "d.update(dict_occ_SN)"
   ]
  },
  {
   "cell_type": "code",
   "execution_count": null,
   "id": "43e1f766-9459-4bef-bdc0-6cc374d6f360",
   "metadata": {},
   "outputs": [],
   "source": [
    "#Cette section trie le dictionnaire par ordre décroissant \n",
    "\n",
    "ordered_occ_dict = sorted(d.items(), key=lambda x:x[1], reverse = True)\n",
    "\n",
    "print(ordered_occ_dict[0:50])\n",
    "sortdict = dict(ordered_occ_dict)"
   ]
  },
  {
   "cell_type": "code",
   "execution_count": null,
   "id": "87d03fbc-e324-4947-8db3-9e2cd0475dfd",
   "metadata": {},
   "outputs": [],
   "source": [
    "serialisation_data(sortdict, \"dict_occ_word.json\")"
   ]
  },
  {
   "cell_type": "markdown",
   "id": "ba1d03d0-d55d-4a23-9c8a-5c9d00b0c2b9",
   "metadata": {},
   "source": [
    "## Mise en tableau et extraction format csv"
   ]
  },
  {
   "cell_type": "code",
   "execution_count": null,
   "id": "02e9f9b0-6779-4daf-ab58-4734ddbb397d",
   "metadata": {},
   "outputs": [],
   "source": [
    "data_frame = pd.DataFrame.from_dict(data, orient='index', columns = [\"Occurence\"])\n",
    "data_frame.to_csv(r\"./ word_occ_ordered.csv\")"
   ]
  },
  {
   "cell_type": "markdown",
   "id": "d9b66097-c488-4c87-a4ee-e11f18df1be4",
   "metadata": {},
   "source": [
    "## Séparation des noms/adjectifs pour les formes féminines et inclusives\n",
    "\n",
    "Pour cette partie, il est question de revérifier si les formes extraites sont des adjectifs ou bien des noms, et si les formes inclusives sont \"accidentelles\" ou non\n",
    "\n",
    "On retague l'ensemble des données en contraignant légèrement le modèle : si le tag précédent est un nom, on ne peut pas avoir deux noms de suite."
   ]
  },
  {
   "cell_type": "code",
   "execution_count": null,
   "id": "415c576c-ef2e-4c4f-ae94-32f83f674058",
   "metadata": {},
   "outputs": [],
   "source": [
    "def extract_form (dict_lemme, word_list):\n",
    "    \n",
    "    \"\"\" Creates a list of forms wanted for extraction\n",
    "    -> dict_lemme : dictionary of forms of each lemme extracted before\n",
    "    -> word_list : list of lemmes needed\n",
    "    <-  list of forms of lemmes in word_list\n",
    "    \"\"\"\n",
    "    \n",
    "    list_form = []\n",
    "    forms = []\n",
    "    \n",
    "    for lemme in dict_lemme:\n",
    "        if lemme in word_list: forms = dict_lemme[lemme]\n",
    "        for form in forms: \n",
    "            if form not in list_form: list_form.append(form)\n",
    "    \n",
    "    return list_form"
   ]
  },
  {
   "cell_type": "code",
   "execution_count": null,
   "id": "95fcdcc8-61b4-4a95-90fa-ccfafcbda029",
   "metadata": {},
   "outputs": [],
   "source": [
    "forms = extract_form(dict_lemme, lemme_to_extract)\n",
    "\n",
    "print(forms)\n"
   ]
  },
  {
   "cell_type": "code",
   "execution_count": null,
   "id": "75f8458c-4b5d-4c20-8af0-d446bfcbebe4",
   "metadata": {},
   "outputs": [],
   "source": [
    "def extract_adjectives (sentences_list, word_list):\n",
    "    \n",
    "    extraction = {}\n",
    "    \n",
    "    i=0\n",
    "    for sent in sentences_list:\n",
    "        if i%100000 == 0 : print(\"phrase n°\", i, \"/\", len(sentences_list))\n",
    "        doc = nlp(sent)\n",
    "        for word in word_list:\n",
    "            for i in range(len(doc)):\n",
    "                \n",
    "                if doc[i].text == word and doc[i].pos_ == \"NOUN\" and doc[i-1].pos_ != \"NOUN\" :\n",
    "                    if word not in extraction : \n",
    "                        extraction[word] = 0\n",
    "                    extraction[word] +=1\n",
    "        i +=1\n",
    "    \n",
    "    return extraction\n",
    "                "
   ]
  },
  {
   "cell_type": "code",
   "execution_count": null,
   "id": "95c7cea1-16f2-42f2-b20d-d262080e114e",
   "metadata": {},
   "outputs": [],
   "source": [
    "word_occ = extract_adjectives(extract, forms)"
   ]
  },
  {
   "cell_type": "code",
   "execution_count": null,
   "id": "81006909-7148-446c-8f9f-ade2b1d6512d",
   "metadata": {},
   "outputs": [],
   "source": [
    "serialisation_data(word_occ, \"word_occ3.json\")"
   ]
  },
  {
   "cell_type": "markdown",
   "id": "0cd1a9ec-253f-41e1-bca3-a0b4a9d2595c",
   "metadata": {},
   "source": [
    "## Mise en tableau et extraction format csv"
   ]
  },
  {
   "cell_type": "code",
   "execution_count": null,
   "id": "60276a0f-7425-4560-a600-66a363e4a2e4",
   "metadata": {},
   "outputs": [],
   "source": [
    "data = open_file(\"word_occ.json\")"
   ]
  },
  {
   "cell_type": "code",
   "execution_count": null,
   "id": "f2906fa7-bb69-4eb5-9570-a9eeafa7a72a",
   "metadata": {},
   "outputs": [],
   "source": [
    "ordered_occ_dict = sorted(data.items(), key=lambda x:x[1], reverse = True)\n",
    "\n",
    "print(ordered_occ_dict[0:20])\n",
    "sortdict = dict(ordered_occ_dict)"
   ]
  },
  {
   "cell_type": "code",
   "execution_count": null,
   "id": "1516951f-f25a-4ade-8fc8-358e33793521",
   "metadata": {},
   "outputs": [],
   "source": [
    "data_frame = pd.DataFrame.from_dict(sortdict, orient='index', columns = [\"Occurence\"])\n",
    "data_frame.to_csv(r\"./ word_occ_ordered2.csv\")"
   ]
  },
  {
   "cell_type": "code",
   "execution_count": null,
   "id": "dde636dd-dd1a-466b-aafd-332f0f02e24a",
   "metadata": {},
   "outputs": [],
   "source": [
    "data = open_file(\"word_occ_all.json\")"
   ]
  },
  {
   "cell_type": "code",
   "execution_count": null,
   "id": "3b7e64e0-2d30-4e0a-add2-d71672b778a7",
   "metadata": {},
   "outputs": [],
   "source": [
    "convert_occ_csv(data, \"word_occ_all.csv\")"
   ]
  },
  {
   "cell_type": "markdown",
   "id": "3c005f1f-b89f-46dd-ac79-520051fdc0b6",
   "metadata": {},
   "source": [
    "## Extraction d'exemples des occurences féminines et inclusives"
   ]
  },
  {
   "cell_type": "code",
   "execution_count": null,
   "id": "62346214-6264-49c1-b403-a14968ace364",
   "metadata": {},
   "outputs": [],
   "source": [
    "fem_form = [forms[2], forms[6], forms[9], forms[10], forms[11], forms[16], forms[19], forms[20], forms[22], forms[23], forms[24], forms[25], forms[36], \n",
    "                forms[37], forms[39], forms[40], forms[41], forms[43], forms[45], forms[51], forms[53], forms[54], forms[58], forms[62], forms[64], forms[65],\n",
    "                forms[71], forms[72], forms[74], forms[75]]\n",
    "\n",
    "print(fem_form)"
   ]
  },
  {
   "cell_type": "code",
   "execution_count": null,
   "id": "192bc14f-22f4-447c-9200-fcaf5dfb2048",
   "metadata": {},
   "outputs": [],
   "source": [
    "def dict_sn_occ (sentences_list, word_list):\n",
    "    \n",
    "    \"\"\" Creates context (word-2, word-1, word) to see if some nouns are mistagged.\n",
    "    -> sentences_list : list of sentences\n",
    "    -> word_list : list of words to extract context\n",
    "    <- Dictionnary of contexts of form {word1 : [context1, context2, ...], word2 : [context1, context1, ...]}\n",
    "    \"\"\"\n",
    "    \n",
    "    dict_fem_occ = {}\n",
    "    \n",
    "    for sent in sentences_list:\n",
    "        doc = nlp(sent)\n",
    "        for word in word_list:\n",
    "            if word not in dict_fem_occ : dict_fem_occ[word] = []\n",
    "            for i in range(len(doc)):\n",
    "\n",
    "                if doc[i].text == word and doc[i].pos_ == \"NOUN\" :\n",
    "                    #if len(doc) > 5 and (doc[i] != doc[i-1] or doc[i] != doc[i-2]) and (doc[i] != doc[0] or doc[i] != doc[1]) : #Permet de s'assurer qu'on peut prendre tous les mots autour\n",
    "                    if len(doc) > 5 and (i != 0 or i != 1) :  \n",
    "                        context = str(doc[i-2]), str(doc[i-1]), str(doc[i])\n",
    "                        dict_fem_occ[word].append(context)\n",
    "                        \n",
    "                    else :\n",
    "                        if i == 0 : context = \"*d1*\", \"*d2*\", str(doc[i])\n",
    "                        elif i == 1 : context = \"*d1*\", doc[0], str(doc[i])\n",
    "                        else : context = str(doc[i-2]), str(doc[i-1]), str(doc[i])\n",
    "                        dict_fem_occ[word].append(context)\n",
    "    \n",
    "    return dict_fem_occ"
   ]
  },
  {
   "cell_type": "code",
   "execution_count": null,
   "id": "f2054efe-9a17-4643-a131-c455410f9628",
   "metadata": {},
   "outputs": [],
   "source": [
    "def count_context_occ (dict_form_occ):\n",
    "    \n",
    "    \"\"\" Creates a dictionary in which we count occurences of context made previously\n",
    "    -> dict_form_occ : dictionary of contexts\n",
    "    <- Dictionary of occurences of context\n",
    "    \"\"\"\n",
    "    \n",
    "    docc = {}\n",
    "    \n",
    "    for form in dict_fem_occ:\n",
    "        docc[form] = Counter(dict_fem_occ[form])\n",
    "        \n",
    "    return docc    "
   ]
  },
  {
   "cell_type": "code",
   "execution_count": null,
   "id": "61e9dc31-c990-4be7-a50b-3f7c86e9a5fb",
   "metadata": {},
   "outputs": [],
   "source": [
    "docc = count_context_occ(dict_fem_occ)"
   ]
  },
  {
   "cell_type": "code",
   "execution_count": null,
   "id": "6c309679-1c3b-4e40-bef8-2cc950d589a8",
   "metadata": {},
   "outputs": [],
   "source": [
    "def serialisation_data (data, title):\n",
    "  \"\"\"\n",
    "  Serialize data in a json file\n",
    "  -> Title mus be a string : title.json\n",
    "  <- Save a file in desktop\n",
    "  \"\"\"\n",
    "\n",
    "  with open(title, \"w+\") as file:\n",
    "    json.dump(data, file)"
   ]
  },
  {
   "cell_type": "code",
   "execution_count": null,
   "id": "a09cdc4e-8381-4a8a-9063-ce6678a9825d",
   "metadata": {},
   "outputs": [],
   "source": [
    "serialisation_data(docc, \"data_extract.json\")"
   ]
  },
  {
   "cell_type": "code",
   "execution_count": null,
   "id": "93f8bd4d-a49a-44b8-84fa-51c140581055",
   "metadata": {},
   "outputs": [],
   "source": [
    "#On crée des dictionnaires pour chaque lemme féminin\n",
    "\n",
    "dict_elue = dict(itertools.islice(docc.items(), 5))\n",
    "dict_citoyenne = dict(itertools.islice(docc.items(), 5, 12))     \n",
    "dict_depute = dict(itertools.islice(docc.items(), 12, 19))\n",
    "dict_representante = dict(itertools.islice(docc.items(), 19, 22))\n",
    "dict_candidate = dict(itertools.islice(docc.items(), 22, 26))\n",
    "dict_migrante = dict(itertools.islice(docc.items(), 26, len(docc)))"
   ]
  },
  {
   "cell_type": "code",
   "execution_count": null,
   "id": "2eac341e-924a-48e9-ac32-c6292b6b46fd",
   "metadata": {},
   "outputs": [],
   "source": [
    "df1 = pd.DataFrame(dict_elue) #, orient='index', columns = [\"Occurence\"])\n",
    "df1.to_csv(r\"./form_fem_elue.csv\")"
   ]
  },
  {
   "cell_type": "code",
   "execution_count": null,
   "id": "4acde2a1-1345-4166-836a-c820833d6e00",
   "metadata": {},
   "outputs": [],
   "source": [
    "df1 = pd.DataFrame(dict_citoyenne) #, orient='index', columns = [\"Occurence\"])\n",
    "df1.to_csv(r\"./form_fem_citoyenne.csv\")"
   ]
  }
 ],
 "metadata": {
  "kernelspec": {
   "display_name": "Python 3",
   "language": "python",
   "name": "python3"
  },
  "language_info": {
   "codemirror_mode": {
    "name": "ipython",
    "version": 3
   },
   "file_extension": ".py",
   "mimetype": "text/x-python",
   "name": "python",
   "nbconvert_exporter": "python",
   "pygments_lexer": "ipython3",
   "version": "3.9.5"
  }
 },
 "nbformat": 4,
 "nbformat_minor": 5
}
