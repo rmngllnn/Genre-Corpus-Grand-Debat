{
 "cells": [
  {
   "cell_type": "markdown",
   "metadata": {
    "colab_type": "text",
    "id": "view-in-github"
   },
   "source": [
    "<a href=\"https://colab.research.google.com/github/rmngllnn/Stage2021/blob/main/fonctions_preprocess.ipynb\" target=\"_parent\"><img src=\"https://colab.research.google.com/assets/colab-badge.svg\" alt=\"Open In Colab\"/></a>"
   ]
  },
  {
   "cell_type": "markdown",
   "metadata": {},
   "source": [
    "# Qu'est-ce qu'il y a dans ce notebook ?\n",
    "\n",
    "Il y a toutes les définitions de fonctions nécessaires à toutes les étapes précédant et suivant le POS_taaging.\n",
    "\n",
    "1. Extraction des données d'un fichier csv\n",
    "2. Nettoyage des données (spécifique aux datas en input)\n",
    "3. Fonctions de sérialisation et désérialisation (au format json) des données"
   ]
  },
  {
   "cell_type": "code",
   "execution_count": 1,
   "metadata": {
    "id": "Tya9y2rgX72A"
   },
   "outputs": [],
   "source": [
    "import pandas as pd\n",
    "import csv\n",
    "import re\n",
    "import json"
   ]
  },
  {
   "cell_type": "code",
   "execution_count": 9,
   "metadata": {
    "colab": {
     "base_uri": "https://localhost:8080/",
     "height": 466
    },
    "id": "mbzeKuwSX72E",
    "outputId": "fe5b3dfa-9331-4e3d-bf87-adee2e124272"
   },
   "outputs": [
    {
     "data": {
      "text/plain": [
       "(116549, 48)"
      ]
     },
     "execution_count": 9,
     "metadata": {},
     "output_type": "execute_result"
    }
   ],
   "source": [
    "#exemple = open('/Documents/hubic/Cours/M1_LI/Stage/DEMOCRATIE_ET_CITOYENNETE.csv', 'r')\n",
    "\n",
    "\n",
    "df = pd.read_csv(\"../DEMOCRATIE_ET_CITOYENNETE.csv\", low_memory = False)\n",
    "df.shape\n"
   ]
  },
  {
   "cell_type": "code",
   "execution_count": 10,
   "metadata": {
    "id": "CBg6I-DuX72F"
   },
   "outputs": [],
   "source": [
    "def open_doc_csv (infile):\n",
    "  \"\"\"Open csv file \n",
    "  -> csv file (must be a string)\n",
    "  <- list of lists of rows\"\"\"\n",
    "\n",
    "  complete_data = []\n",
    "  with open(infile, newline='') as csvfile:\n",
    "    reader = csv.reader(csvfile)\n",
    "    for row in reader:\n",
    "        complete_data.append(row)\n",
    "        \n",
    "  return complete_data"
   ]
  },
  {
   "cell_type": "code",
   "execution_count": 11,
   "metadata": {
    "colab": {
     "base_uri": "https://localhost:8080/",
     "height": 297
    },
    "id": "9c8xL8UJbpHF",
    "outputId": "a181dcd2-4e07-4dcf-a49e-c421ef500eb3"
   },
   "outputs": [],
   "source": [
    "csv.field_size_limit(100000000) # Adapte la taille limite autorisée\n",
    "\n",
    "\n",
    "data = open_doc_csv(\"../DEMOCRATIE_ET_CITOYENNETE.csv\")"
   ]
  },
  {
   "cell_type": "code",
   "execution_count": 12,
   "metadata": {
    "colab": {
     "base_uri": "https://localhost:8080/"
    },
    "id": "LnkuOMLN59Qt",
    "outputId": "3ed20db9-2cbe-4b1a-93ff-f071b9e27dcf"
   },
   "outputs": [
    {
     "name": "stdout",
     "output_type": "stream",
     "text": [
      "116550\n"
     ]
    }
   ],
   "source": [
    "print(len(data))"
   ]
  },
  {
   "cell_type": "code",
   "execution_count": null,
   "metadata": {
    "colab": {
     "base_uri": "https://localhost:8080/"
    },
    "id": "L7rfHM6L5Z-z",
    "outputId": "61ecebcd-9b7c-4ef8-eee0-8a6408ea2ed7"
   },
   "outputs": [],
   "source": [
    "for obs in data[0]:\n",
    "  if obs != \"\":\n",
    "    print(len(obs), \" : \", obs)"
   ]
  },
  {
   "cell_type": "markdown",
   "metadata": {},
   "source": [
    "## Nettoyage des données\n",
    "\n",
    "Site utiliser pour mettre au point les regex : https://www.w3schools.com/python/python_regex.asp"
   ]
  },
  {
   "cell_type": "code",
   "execution_count": 21,
   "metadata": {
    "id": "9-1XHFLRX72G"
   },
   "outputs": [],
   "source": [
    "def clean_data (data):\n",
    "    \"\"\" Return cleaned list of non-words\n",
    "    -> List of lists of words\n",
    "    <- List of sentences\"\"\"\n",
    "    \n",
    "    del data[0][0:11]\n",
    "\n",
    "    cleaned_data = []  \n",
    "    for obs in data:\n",
    "      for entry in obs:\n",
    "        if entry != \"\":\n",
    "          if re.match(r\"QUXV(.)\", entry) is not None:\n",
    "            cleaned_data.append(entry[20:])\n",
    "          elif re.match(r\"(\\d){5}\", entry) is None and re.match(r\"Non\", entry) is None and re.match(r\"VXNl(.)\", entry) is None and re.match(r\"UHJ(.)\", entry) is None and re.match(r\"(\\d)*-(\\d)*-(\\d)* (\\d)*:(\\d)*:(\\d)*\", entry) is None and re.match(r\"(\\d)-(\\d)\", entry) is None and re.match(r\"false\", entry) is None and re.match(r\"Oui\", entry) is None:\n",
    "            cleaned_data.append(entry)\n",
    "    \n",
    "    return cleaned_data\n"
   ]
  },
  {
   "cell_type": "code",
   "execution_count": 22,
   "metadata": {
    "id": "3iFU9nLwcWFp"
   },
   "outputs": [],
   "source": [
    "cleaned_data = clean_data(data)"
   ]
  },
  {
   "cell_type": "code",
   "execution_count": 23,
   "metadata": {
    "colab": {
     "base_uri": "https://localhost:8080/"
    },
    "id": "rvgCbNh82dfX",
    "outputId": "e7a02188-ffba-40da-f92a-70524fa69e6b"
   },
   "outputs": [
    {
     "name": "stdout",
     "output_type": "stream",
     "text": [
      "2432888\n"
     ]
    }
   ],
   "source": [
    "print(len(cleaned_data))"
   ]
  },
  {
   "cell_type": "code",
   "execution_count": null,
   "metadata": {
    "colab": {
     "base_uri": "https://localhost:8080/"
    },
    "id": "3FpR4GX2xN3w",
    "outputId": "e8098f11-1244-4064-97cb-9740b3f6111c"
   },
   "outputs": [],
   "source": [
    "for obs in cleaned_data[301:400]:\n",
    "  if obs != \"\":\n",
    "    print(obs)"
   ]
  },
  {
   "cell_type": "markdown",
   "metadata": {
    "id": "iFwxG17PX72I"
   },
   "source": [
    "## (Dé)sérialisation des données"
   ]
  },
  {
   "cell_type": "code",
   "execution_count": 26,
   "metadata": {},
   "outputs": [],
   "source": [
    "def serialisation_data (data, title):\n",
    "  \"\"\"\n",
    "  Serialize data in a json file\n",
    "  -> Title mus be a string : title.json\n",
    "  <- Save a file in desktop\n",
    "  \"\"\"\n",
    "\n",
    "  with open(title, \"w+\") as file:\n",
    "    json.dump(data, file)"
   ]
  },
  {
   "cell_type": "code",
   "execution_count": 2,
   "metadata": {},
   "outputs": [],
   "source": [
    "def open_file(file):\n",
    "    with open(file) as json_data:\n",
    "        data = json.load(json_data)\n",
    "    return data\n",
    "#ata_str = json.dumps(data_dict)\n",
    "\n"
   ]
  }
 ],
 "metadata": {
  "colab": {
   "include_colab_link": true,
   "name": "fonctions_preprocess.ipynb",
   "provenance": []
  },
  "kernelspec": {
   "display_name": "Python 3",
   "language": "python",
   "name": "python3"
  },
  "language_info": {
   "codemirror_mode": {
    "name": "ipython",
    "version": 3
   },
   "file_extension": ".py",
   "mimetype": "text/x-python",
   "name": "python",
   "nbconvert_exporter": "python",
   "pygments_lexer": "ipython3",
   "version": "3.9.5"
  }
 },
 "nbformat": 4,
 "nbformat_minor": 4
}
