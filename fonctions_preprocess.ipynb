{
 "cells": [
  {
   "cell_type": "markdown",
   "metadata": {
    "colab_type": "text",
    "id": "view-in-github"
   },
   "source": [
    "<a href=\"https://colab.research.google.com/github/rmngllnn/Stage2021/blob/main/fonctions_preprocess.ipynb\" target=\"_parent\"><img src=\"https://colab.research.google.com/assets/colab-badge.svg\" alt=\"Open In Colab\"/></a>"
   ]
  },
  {
   "cell_type": "markdown",
   "metadata": {},
   "source": [
    "# Qu'est-ce qu'il y a dans ce notebook ?\n",
    "\n",
    "Il y a toutes les définitions de fonctions nécessaires à toutes les étapes précédant et suivant le POS_taaging.\n",
    "\n",
    "1. Extraction des données d'un fichier csv\n",
    "2. Nettoyage des données (spécifique aux datas en input)\n",
    "3. Fonctions de sérialisation et désérialisation (au format json) des données  \n",
    "4. Création d'un fichier CSV à partir d'une DataFrame"
   ]
  },
  {
   "cell_type": "code",
   "execution_count": null,
   "metadata": {
    "id": "Tya9y2rgX72A"
   },
   "outputs": [],
   "source": [
    "import pandas as pd\n",
    "import csv\n",
    "import re\n",
    "import json"
   ]
  },
  {
   "cell_type": "code",
   "execution_count": null,
   "metadata": {
    "colab": {
     "base_uri": "https://localhost:8080/",
     "height": 466
    },
    "id": "mbzeKuwSX72E",
    "outputId": "fe5b3dfa-9331-4e3d-bf87-adee2e124272"
   },
   "outputs": [],
   "source": [
    "df = pd.read_csv(\"../DEMOCRATIE_ET_CITOYENNETE.csv\", low_memory = False)\n",
    "df.shape"
   ]
  },
  {
   "cell_type": "code",
   "execution_count": null,
   "metadata": {
    "id": "CBg6I-DuX72F"
   },
   "outputs": [],
   "source": [
    "def open_doc_csv (infile):\n",
    "  \"\"\"Open csv file \n",
    "  -> csv file (must be a string)\n",
    "  <- list of lists of rows\"\"\"\n",
    "\n",
    "  complete_data = []\n",
    "  with open(infile, newline='') as csvfile:\n",
    "    reader = csv.reader(csvfile)\n",
    "    for row in reader:\n",
    "        complete_data.append(row)\n",
    "        \n",
    "  return complete_data"
   ]
  },
  {
   "cell_type": "markdown",
   "metadata": {},
   "source": [
    "## Nettoyage des données\n",
    "\n",
    "Site utiliser pour mettre au point les regex : https://www.w3schools.com/python/python_regex.asp"
   ]
  },
  {
   "cell_type": "code",
   "execution_count": null,
   "metadata": {
    "id": "9-1XHFLRX72G"
   },
   "outputs": [],
   "source": [
    "def clean_data (data):\n",
    "    \"\"\" Return cleaned list of non-words\n",
    "    -> List of lists of words\n",
    "    <- List of sentences\n",
    "    \"\"\"\n",
    "    \n",
    "    del data[0][0:11]\n",
    "\n",
    "    cleaned_data = []  \n",
    "    for obs in data:\n",
    "      for entry in obs:\n",
    "        if entry != \"\":\n",
    "          if re.match(r\"QUXV(.)\", entry) is not None:\n",
    "            cleaned_data.append(entry[20:])\n",
    "          elif re.match(r\"(\\d){5}\", entry) is None and re.match(r\"Non\", entry) is None and re.match(r\"VXNl(.)\", entry) is None and re.match(r\"UHJ(.)\", entry) is None and re.match(r\"(\\d)*-(\\d)*-(\\d)* (\\d)*:(\\d)*:(\\d)*\", entry) is None and re.match(r\"(\\d)-(\\d)\", entry) is None and re.match(r\"false\", entry) is None and re.match(r\"Oui\", entry) is None:\n",
    "            cleaned_data.append(entry)\n",
    "    \n",
    "    return cleaned_data\n"
   ]
  },
  {
   "cell_type": "markdown",
   "metadata": {
    "id": "iFwxG17PX72I"
   },
   "source": [
    "## (Dé)sérialisation des données"
   ]
  },
  {
   "cell_type": "code",
   "execution_count": null,
   "metadata": {},
   "outputs": [],
   "source": [
    "def serialisation_data (data, title):\n",
    "  \"\"\"\n",
    "  Serialize data in a json file\n",
    "  -> Title mus be a string : title.json\n",
    "  <- Save a file in desktop\n",
    "  \"\"\"\n",
    "\n",
    "  with open(title, \"w+\") as file:\n",
    "    json.dump(data, file)"
   ]
  },
  {
   "cell_type": "code",
   "execution_count": null,
   "metadata": {},
   "outputs": [],
   "source": [
    "def open_file(file):\n",
    "    with open(file) as json_data:\n",
    "        data = json.load(json_data)\n",
    "    return data"
   ]
  },
  {
   "cell_type": "markdown",
   "metadata": {},
   "source": [
    "## Créer un DataFrame d'occurence à partir d'un dictionnaire et l'extraire en fichier CSV"
   ]
  },
  {
   "cell_type": "code",
   "execution_count": null,
   "metadata": {},
   "outputs": [],
   "source": [
    "def convert_occ_csv (data, title):\n",
    "    \n",
    "    \"\"\"Order dictionary by occurence in decreasing order, puts it in a DataFrame and turns it into a csv file\n",
    "    -> Dictionary of occurence\n",
    "    <- CSV File \n",
    "    NB : title must be a string\n",
    "    \"\"\"\n",
    "    \n",
    "    ordered_occ_dict = sorted(data.items(), key=lambda x:x[1], reverse = True)\n",
    "    sortdict = dict(ordered_occ_dict)\n",
    "    data_frame = pd.DataFrame.from_dict(sortdict, orient='index', columns = [\"Occurence\"])\n",
    "    data_frame.to_csv(title)"
   ]
  },
  {
   "cell_type": "code",
   "execution_count": null,
   "metadata": {},
   "outputs": [],
   "source": [
    "def convert_context_occ_csv(nested_dict, title):\n",
    "    \n",
    "    \"\"\" Creates a DataFrame from a nested dictionary and convert it to a csv file\n",
    "    -> a nested dict of occurences\n",
    "    <- CSV File\n",
    "    NB : title must be a string\n",
    "    \"\"\"\n",
    "    \n",
    "    df = pd.DataFrame(data)\n",
    "    df.to_csv(title)"
   ]
  }
 ],
 "metadata": {
  "colab": {
   "include_colab_link": true,
   "name": "fonctions_preprocess.ipynb",
   "provenance": []
  },
  "kernelspec": {
   "display_name": "Python 3",
   "language": "python",
   "name": "python3"
  },
  "language_info": {
   "codemirror_mode": {
    "name": "ipython",
    "version": 3
   },
   "file_extension": ".py",
   "mimetype": "text/x-python",
   "name": "python",
   "nbconvert_exporter": "python",
   "pygments_lexer": "ipython3",
   "version": "3.9.5"
  }
 },
 "nbformat": 4,
 "nbformat_minor": 4
}
