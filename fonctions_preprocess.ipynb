{
  "nbformat": 4,
  "nbformat_minor": 0,
  "metadata": {
    "kernelspec": {
      "display_name": "Python 3",
      "language": "python",
      "name": "python3"
    },
    "language_info": {
      "codemirror_mode": {
        "name": "ipython",
        "version": 3
      },
      "file_extension": ".py",
      "mimetype": "text/x-python",
      "name": "python",
      "nbconvert_exporter": "python",
      "pygments_lexer": "ipython3",
      "version": "3.8.5"
    },
    "colab": {
      "name": "fonctions_preprocess.ipynb",
      "provenance": [],
      "include_colab_link": true
    }
  },
  "cells": [
    {
      "cell_type": "markdown",
      "metadata": {
        "id": "view-in-github",
        "colab_type": "text"
      },
      "source": [
        "<a href=\"https://colab.research.google.com/github/rmngllnn/Stage2021/blob/main/fonctions_preprocess.ipynb\" target=\"_parent\"><img src=\"https://colab.research.google.com/assets/colab-badge.svg\" alt=\"Open In Colab\"/></a>"
      ]
    },
    {
      "cell_type": "code",
      "metadata": {
        "id": "Tya9y2rgX72A"
      },
      "source": [
        "import pandas as pd\n",
        "import csv\n",
        "import re\n",
        "import json"
      ],
      "execution_count": null,
      "outputs": []
    },
    {
      "cell_type": "code",
      "metadata": {
        "colab": {
          "base_uri": "https://localhost:8080/",
          "height": 466
        },
        "id": "mbzeKuwSX72E",
        "outputId": "fe5b3dfa-9331-4e3d-bf87-adee2e124272"
      },
      "source": [
        "#exemple = open('/Documents/hubic/Cours/M1_LI/Stage/DEMOCRATIE_ET_CITOYENNETE.csv', 'r')\n",
        "\n",
        "\n",
        "df = pd.read_csv(\"DEMOCRATIE_ET_CITOYENNETE.csv\", low_memory = False)\n",
        "df.shape\n",
        "\n",
        "df.head()\n"
      ],
      "execution_count": null,
      "outputs": [
        {
          "output_type": "error",
          "ename": "ParserError",
          "evalue": "ignored",
          "traceback": [
            "\u001b[0;31m---------------------------------------------------------------------------\u001b[0m",
            "\u001b[0;31mParserError\u001b[0m                               Traceback (most recent call last)",
            "\u001b[0;32m<ipython-input-5-879a842791fc>\u001b[0m in \u001b[0;36m<module>\u001b[0;34m()\u001b[0m\n\u001b[1;32m      2\u001b[0m \u001b[0;34m\u001b[0m\u001b[0m\n\u001b[1;32m      3\u001b[0m \u001b[0;34m\u001b[0m\u001b[0m\n\u001b[0;32m----> 4\u001b[0;31m \u001b[0mdf\u001b[0m \u001b[0;34m=\u001b[0m \u001b[0mpd\u001b[0m\u001b[0;34m.\u001b[0m\u001b[0mread_csv\u001b[0m\u001b[0;34m(\u001b[0m\u001b[0;34m\"DEMOCRATIE_ET_CITOYENNETE.csv\"\u001b[0m\u001b[0;34m,\u001b[0m \u001b[0mlow_memory\u001b[0m \u001b[0;34m=\u001b[0m \u001b[0;32mFalse\u001b[0m\u001b[0;34m)\u001b[0m\u001b[0;34m\u001b[0m\u001b[0;34m\u001b[0m\u001b[0m\n\u001b[0m\u001b[1;32m      5\u001b[0m \u001b[0mdf\u001b[0m\u001b[0;34m.\u001b[0m\u001b[0mshape\u001b[0m\u001b[0;34m\u001b[0m\u001b[0;34m\u001b[0m\u001b[0m\n\u001b[1;32m      6\u001b[0m \u001b[0;34m\u001b[0m\u001b[0m\n",
            "\u001b[0;32m/usr/local/lib/python3.7/dist-packages/pandas/io/parsers.py\u001b[0m in \u001b[0;36mread_csv\u001b[0;34m(filepath_or_buffer, sep, delimiter, header, names, index_col, usecols, squeeze, prefix, mangle_dupe_cols, dtype, engine, converters, true_values, false_values, skipinitialspace, skiprows, skipfooter, nrows, na_values, keep_default_na, na_filter, verbose, skip_blank_lines, parse_dates, infer_datetime_format, keep_date_col, date_parser, dayfirst, cache_dates, iterator, chunksize, compression, thousands, decimal, lineterminator, quotechar, quoting, doublequote, escapechar, comment, encoding, dialect, error_bad_lines, warn_bad_lines, delim_whitespace, low_memory, memory_map, float_precision)\u001b[0m\n\u001b[1;32m    686\u001b[0m     )\n\u001b[1;32m    687\u001b[0m \u001b[0;34m\u001b[0m\u001b[0m\n\u001b[0;32m--> 688\u001b[0;31m     \u001b[0;32mreturn\u001b[0m \u001b[0m_read\u001b[0m\u001b[0;34m(\u001b[0m\u001b[0mfilepath_or_buffer\u001b[0m\u001b[0;34m,\u001b[0m \u001b[0mkwds\u001b[0m\u001b[0;34m)\u001b[0m\u001b[0;34m\u001b[0m\u001b[0;34m\u001b[0m\u001b[0m\n\u001b[0m\u001b[1;32m    689\u001b[0m \u001b[0;34m\u001b[0m\u001b[0m\n\u001b[1;32m    690\u001b[0m \u001b[0;34m\u001b[0m\u001b[0m\n",
            "\u001b[0;32m/usr/local/lib/python3.7/dist-packages/pandas/io/parsers.py\u001b[0m in \u001b[0;36m_read\u001b[0;34m(filepath_or_buffer, kwds)\u001b[0m\n\u001b[1;32m    458\u001b[0m \u001b[0;34m\u001b[0m\u001b[0m\n\u001b[1;32m    459\u001b[0m     \u001b[0;32mtry\u001b[0m\u001b[0;34m:\u001b[0m\u001b[0;34m\u001b[0m\u001b[0;34m\u001b[0m\u001b[0m\n\u001b[0;32m--> 460\u001b[0;31m         \u001b[0mdata\u001b[0m \u001b[0;34m=\u001b[0m \u001b[0mparser\u001b[0m\u001b[0;34m.\u001b[0m\u001b[0mread\u001b[0m\u001b[0;34m(\u001b[0m\u001b[0mnrows\u001b[0m\u001b[0;34m)\u001b[0m\u001b[0;34m\u001b[0m\u001b[0;34m\u001b[0m\u001b[0m\n\u001b[0m\u001b[1;32m    461\u001b[0m     \u001b[0;32mfinally\u001b[0m\u001b[0;34m:\u001b[0m\u001b[0;34m\u001b[0m\u001b[0;34m\u001b[0m\u001b[0m\n\u001b[1;32m    462\u001b[0m         \u001b[0mparser\u001b[0m\u001b[0;34m.\u001b[0m\u001b[0mclose\u001b[0m\u001b[0;34m(\u001b[0m\u001b[0;34m)\u001b[0m\u001b[0;34m\u001b[0m\u001b[0;34m\u001b[0m\u001b[0m\n",
            "\u001b[0;32m/usr/local/lib/python3.7/dist-packages/pandas/io/parsers.py\u001b[0m in \u001b[0;36mread\u001b[0;34m(self, nrows)\u001b[0m\n\u001b[1;32m   1196\u001b[0m     \u001b[0;32mdef\u001b[0m \u001b[0mread\u001b[0m\u001b[0;34m(\u001b[0m\u001b[0mself\u001b[0m\u001b[0;34m,\u001b[0m \u001b[0mnrows\u001b[0m\u001b[0;34m=\u001b[0m\u001b[0;32mNone\u001b[0m\u001b[0;34m)\u001b[0m\u001b[0;34m:\u001b[0m\u001b[0;34m\u001b[0m\u001b[0;34m\u001b[0m\u001b[0m\n\u001b[1;32m   1197\u001b[0m         \u001b[0mnrows\u001b[0m \u001b[0;34m=\u001b[0m \u001b[0m_validate_integer\u001b[0m\u001b[0;34m(\u001b[0m\u001b[0;34m\"nrows\"\u001b[0m\u001b[0;34m,\u001b[0m \u001b[0mnrows\u001b[0m\u001b[0;34m)\u001b[0m\u001b[0;34m\u001b[0m\u001b[0;34m\u001b[0m\u001b[0m\n\u001b[0;32m-> 1198\u001b[0;31m         \u001b[0mret\u001b[0m \u001b[0;34m=\u001b[0m \u001b[0mself\u001b[0m\u001b[0;34m.\u001b[0m\u001b[0m_engine\u001b[0m\u001b[0;34m.\u001b[0m\u001b[0mread\u001b[0m\u001b[0;34m(\u001b[0m\u001b[0mnrows\u001b[0m\u001b[0;34m)\u001b[0m\u001b[0;34m\u001b[0m\u001b[0;34m\u001b[0m\u001b[0m\n\u001b[0m\u001b[1;32m   1199\u001b[0m \u001b[0;34m\u001b[0m\u001b[0m\n\u001b[1;32m   1200\u001b[0m         \u001b[0;31m# May alter columns / col_dict\u001b[0m\u001b[0;34m\u001b[0m\u001b[0;34m\u001b[0m\u001b[0;34m\u001b[0m\u001b[0m\n",
            "\u001b[0;32m/usr/local/lib/python3.7/dist-packages/pandas/io/parsers.py\u001b[0m in \u001b[0;36mread\u001b[0;34m(self, nrows)\u001b[0m\n\u001b[1;32m   2155\u001b[0m     \u001b[0;32mdef\u001b[0m \u001b[0mread\u001b[0m\u001b[0;34m(\u001b[0m\u001b[0mself\u001b[0m\u001b[0;34m,\u001b[0m \u001b[0mnrows\u001b[0m\u001b[0;34m=\u001b[0m\u001b[0;32mNone\u001b[0m\u001b[0;34m)\u001b[0m\u001b[0;34m:\u001b[0m\u001b[0;34m\u001b[0m\u001b[0;34m\u001b[0m\u001b[0m\n\u001b[1;32m   2156\u001b[0m         \u001b[0;32mtry\u001b[0m\u001b[0;34m:\u001b[0m\u001b[0;34m\u001b[0m\u001b[0;34m\u001b[0m\u001b[0m\n\u001b[0;32m-> 2157\u001b[0;31m             \u001b[0mdata\u001b[0m \u001b[0;34m=\u001b[0m \u001b[0mself\u001b[0m\u001b[0;34m.\u001b[0m\u001b[0m_reader\u001b[0m\u001b[0;34m.\u001b[0m\u001b[0mread\u001b[0m\u001b[0;34m(\u001b[0m\u001b[0mnrows\u001b[0m\u001b[0;34m)\u001b[0m\u001b[0;34m\u001b[0m\u001b[0;34m\u001b[0m\u001b[0m\n\u001b[0m\u001b[1;32m   2158\u001b[0m         \u001b[0;32mexcept\u001b[0m \u001b[0mStopIteration\u001b[0m\u001b[0;34m:\u001b[0m\u001b[0;34m\u001b[0m\u001b[0;34m\u001b[0m\u001b[0m\n\u001b[1;32m   2159\u001b[0m             \u001b[0;32mif\u001b[0m \u001b[0mself\u001b[0m\u001b[0;34m.\u001b[0m\u001b[0m_first_chunk\u001b[0m\u001b[0;34m:\u001b[0m\u001b[0;34m\u001b[0m\u001b[0;34m\u001b[0m\u001b[0m\n",
            "\u001b[0;32mpandas/_libs/parsers.pyx\u001b[0m in \u001b[0;36mpandas._libs.parsers.TextReader.read\u001b[0;34m()\u001b[0m\n",
            "\u001b[0;32mpandas/_libs/parsers.pyx\u001b[0m in \u001b[0;36mpandas._libs.parsers.TextReader._read_rows\u001b[0;34m()\u001b[0m\n",
            "\u001b[0;32mpandas/_libs/parsers.pyx\u001b[0m in \u001b[0;36mpandas._libs.parsers.raise_parser_error\u001b[0;34m()\u001b[0m\n",
            "\u001b[0;31mParserError\u001b[0m: Error tokenizing data. C error: EOF inside string starting at row 5163"
          ]
        }
      ]
    },
    {
      "cell_type": "code",
      "metadata": {
        "id": "CBg6I-DuX72F"
      },
      "source": [
        "def open_doc_csv (infile):\n",
        "  \"\"\"Open csv file \n",
        "  -> csv file (must be a string)\n",
        "  <- list of lists of rows\"\"\"\n",
        "\n",
        "  complete_data = []\n",
        "  with open(infile, newline='') as csvfile:\n",
        "    reader = csv.reader(csvfile)\n",
        "    for row in reader:\n",
        "        complete_data.append(row)\n",
        "        \n",
        "  return complete_data"
      ],
      "execution_count": null,
      "outputs": []
    },
    {
      "cell_type": "code",
      "metadata": {
        "id": "9c8xL8UJbpHF"
      },
      "source": [
        "data = open_doc_csv(\"DEMOCRATIE_ET_CITOYENNETE.csv\")"
      ],
      "execution_count": null,
      "outputs": []
    },
    {
      "cell_type": "code",
      "metadata": {
        "colab": {
          "base_uri": "https://localhost:8080/"
        },
        "id": "LnkuOMLN59Qt",
        "outputId": "3ed20db9-2cbe-4b1a-93ff-f071b9e27dcf"
      },
      "source": [
        "print(len(data))"
      ],
      "execution_count": null,
      "outputs": [
        {
          "output_type": "stream",
          "text": [
            "69254\n"
          ],
          "name": "stdout"
        }
      ]
    },
    {
      "cell_type": "code",
      "metadata": {
        "colab": {
          "base_uri": "https://localhost:8080/"
        },
        "id": "L7rfHM6L5Z-z",
        "outputId": "61ecebcd-9b7c-4ef8-eee0-8a6408ea2ed7"
      },
      "source": [
        "for obs in data[0]:\n",
        "  if obs != \"\":\n",
        "    print(len(obs), \" : \", obs)"
      ],
      "execution_count": null,
      "outputs": [
        {
          "output_type": "stream",
          "text": [
            "2  :  id\n",
            "9  :  reference\n",
            "5  :  title\n",
            "9  :  createdAt\n",
            "11  :  publishedAt\n",
            "9  :  updatedAt\n",
            "7  :  trashed\n",
            "13  :  trashedStatus\n",
            "8  :  authorId\n",
            "10  :  authorType\n",
            "13  :  authorZipCode\n",
            "114  :  QUXVlc3Rpb246MTA3 - En qui faites-vous le plus confiance pour vous faire représenter dans la société et pourquoi ?\n",
            "159  :  QUXVlc3Rpb246MTA4 - En dehors des élus politiques, faut-il donner un rôle plus important aux associations et aux organisations syndicales et professionnelles ?\n",
            "95  :  QUXVlc3Rpb246MTA5 - Si oui, à quel type d'associations ou d'organisations ? Et avec quel rôle ?\n",
            "116  :  QUXVlc3Rpb246MTEw - Que faudrait-il faire pour renouer le lien entre les citoyens et les élus qui les représentent ?\n",
            "114  :  QUXVlc3Rpb246MTEx - Le non-cumul des mandats instauré en 2017 pour les parlementaires (députés et sénateurs) est :\n",
            "30  :  QUXVlc3Rpb246MTEy - Pourquoi ?\n",
            "106  :  QUXVlc3Rpb246MTEz - Que faudrait-il faire pour mieux représenter les différentes sensibilités politiques ?\n",
            "114  :  QUXVlc3Rpb246MTE0 - Pensez-vous qu'il serait souhaitable de réduire le nombre d'élus (hors députés et sénateurs) ?\n",
            "38  :  QUXVlc3Rpb246MTE1 - Si oui, lesquels ?\n",
            "132  :  QUXVlc3Rpb246MTE2 - Que pensez-vous de la participation des citoyens aux élections et comment les inciter à y participer davantage ?\n",
            "61  :  QUXVlc3Rpb246MTE3 - Faut-il prendre en compte le vote blanc ?\n",
            "47  :  QUXVlc3Rpb246MTE4 - Si oui, de quelle manière ?\n",
            "199  :  QUXVlc3Rpb246MTE5 - Que faudrait-il faire aujourd'hui pour mieux associer les citoyens aux grandes orientations et à la décision publique ? Comment mettre en place une démocratie plus participative ?\n",
            "226  :  QUXVlc3Rpb246MTIw - Faut-il faciliter le déclenchement du référendum d'initiative partagée (le RIP est organisé à l'initiative de membres du Parlement soutenu par une partie du corps électoral) qui est applicable depuis 2015 ?\n",
            "37  :  QUXVlc3Rpb246MTIx - Si oui, comment ?\n",
            "158  :  QUXVlc3Rpb246MTIy - Que faudrait-il faire pour consulter plus directement les citoyens sur l'utilisation de l'argent public, par l'Etat et les collectivités ?\n",
            "188  :  QUXVlc3Rpb246MTIz - Quel rôle nos assemblées, dont le Sénat et le Conseil économique, social et environnemental, doivent-elles jouer pour représenter nos territoires et la société civile ?\n",
            "45  :  QUXVlc3Rpb246MTI0 - Faut-il les transformer ?\n",
            "37  :  QUXVlc3Rpb246MTI1 - Si oui, comment ?\n",
            "142  :  QUXVlc3Rpb246MTI3 - Que proposez-vous pour renforcer les principes de la laïcité dans le rapport entre l'Etat et les religions de notre pays ?\n",
            "133  :  QUXVlc3Rpb246MTI4 - Comment garantir le respect par tous de la compréhension réciproque et des valeurs intangibles de la République ?\n",
            "107  :  QUXVlc3Rpb246MTI5 - Que faudrait-il faire aujourd'hui pour renforcer l'engagement citoyen dans la société ?\n",
            "122  :  QUXVlc3Rpb246MTMw - Quels sont les comportements civiques qu'il faut promouvoir dans notre vie quotidienne ou collective ?\n",
            "167  :  QUXVlc3Rpb246MTMx - Que faudrait-il faire pour favoriser le développement de ces comportements civiques et par quels engagements concrets chacun peut-il y participer ?\n",
            "170  :  QUXVlc3Rpb246MTMy - Que faudrait-il faire pour valoriser l'engagement citoyen dans les parcours de vie, dans les relations avec l'administration et les pouvoirs publics ?\n",
            "152  :  QUXVlc3Rpb246MTMz - Quelles sont les incivilités les plus pénibles dans la vie quotidienne et que faudrait-il faire pour lutter contre ces incivilités ?\n",
            "101  :  QUXVlc3Rpb246MTM0 - Que peuvent et doivent faire les pouvoirs publics pour répondre aux incivilités ?\n",
            "109  :  QUXVlc3Rpb246MTM1 - Quel pourrait être le rôle de chacun pour faire reculer les incivilités dans la société ?\n",
            "106  :  QUXVlc3Rpb246MTM2 - Quelles sont les discriminations les plus répandues dont vous êtes témoin ou victime ?\n",
            "141  :  QUXVlc3Rpb246MTM3 - Que faudrait-il faire pour lutter contre ces discriminations et construire une société plus solidaire et plus tolérante ?\n",
            "116  :  QUXVlc3Rpb246MTM4 - Pensez-vous qu'il faille instaurer des contreparties aux différentes allocations de solidarité ?\n",
            "40  :  QUXVlc3Rpb246MTM5 - Si oui, lesquelles ?\n",
            "218  :  QUXVlc3Rpb246MTQx - Que pensez-vous de la situation de l'immigration en France aujourd'hui et de la politique migratoire ? Quelles sont, selon vous, les critères à mettre en place pour définir la politique migratoire ?\n",
            "182  :  QUXVlc3Rpb246MTQy - En matière d'immigration, une fois nos obligations d'asile remplies, souhaitez-vous que nous puissions nous fixer des objectifs annuels définis par le Parlement ?\n",
            "79  :  QUXVlc3Rpb246MTQz - Que proposez-vous afin de répondre à ce défi qui va durer ?\n",
            "159  :  QUXVlc3Rpb246MTQ0 - Quelles sont, selon vous, les modalités d'intégration les plus efficaces et les plus justes à mettre en place aujourd'hui dans la société ?\n",
            "127  :  QUXVlc3Rpb246MTQ1 - Y a-t-il d'autres points sur la démocratie et la citoyenneté sur lesquels vous souhaiteriez vous exprimer ?\n"
          ],
          "name": "stdout"
        }
      ]
    },
    {
      "cell_type": "code",
      "metadata": {
        "id": "9-1XHFLRX72G"
      },
      "source": [
        "def clean_data (data):\n",
        "    \"\"\" Return cleaned list of non-words\n",
        "    -> List of lists of words\n",
        "    <- List of sentences\"\"\"\n",
        "    \n",
        "    #del data[0][0:11]\n",
        "\n",
        "    cleaned_data = []  \n",
        "    for obs in data:\n",
        "      for entry in obs:\n",
        "        if entry != \"\":\n",
        "          if re.match(r\"QUXV(.)\", entry) is not None:\n",
        "            cleaned_data.append(entry[20:])\n",
        "          elif re.match(r\"VXNl(.)\", entry) is None and re.match(r\"UHJ(.)\", entry) is None and re.match(r\"(\\d)*-(\\d)*-(\\d)* (\\d)*:(\\d)*:(\\d)*\", entry) is None and re.match(r\"(\\d)-(\\d)\", entry) is None and re.match(r\"false\", entry) is None:\n",
        "            cleaned_data.append(entry)\n",
        "        \"\"\"if re.match(r\"VXNl(.)\", entry) is None:\n",
        "            cleaned_data.append(entry)\n",
        "        elif re.match(r\"(\\d)*-(\\d)*-(\\d)* (\\d)*:(\\d)*:(\\d)*\", entry) is None:\n",
        "            cleaned_data.append(entry)\n",
        "        elif re.match(r\"false\", entry) is None:\n",
        "            cleaned_data.append(entry)\"\"\"\n",
        "        \"\"\"elif re.match(r\"QUXV(.)\", entry) is not None:\n",
        "            cleaned_data.append(entry[21:])\"\"\"\n",
        "    \n",
        "    return cleaned_data\n"
      ],
      "execution_count": null,
      "outputs": []
    },
    {
      "cell_type": "code",
      "metadata": {
        "id": "3iFU9nLwcWFp"
      },
      "source": [
        "cleaned_data = clean_data(data)\n",
        "\n",
        "del cleaned_data[0:11]"
      ],
      "execution_count": null,
      "outputs": []
    },
    {
      "cell_type": "code",
      "metadata": {
        "colab": {
          "base_uri": "https://localhost:8080/"
        },
        "id": "rvgCbNh82dfX",
        "outputId": "e7a02188-ffba-40da-f92a-70524fa69e6b"
      },
      "source": [
        "print(len(cleaned_data))"
      ],
      "execution_count": null,
      "outputs": [
        {
          "output_type": "stream",
          "text": [
            "1893055\n"
          ],
          "name": "stdout"
        }
      ]
    },
    {
      "cell_type": "code",
      "metadata": {
        "colab": {
          "base_uri": "https://localhost:8080/"
        },
        "id": "3FpR4GX2xN3w",
        "outputId": "e8098f11-1244-4064-97cb-9740b3f6111c"
      },
      "source": [
        "for obs in cleaned_data[101:200]:\n",
        "  if obs != \"\":\n",
        "    print(obs)"
      ],
      "execution_count": null,
      "outputs": [
        {
          "output_type": "stream",
          "text": [
            "Transparence de la vie public, tous les frais, toute utilisation de l'argent public, tout financement, tout soutien notamment lors d'un campagne présidentielle(...)  sont mis en ligne et les associations peuvent contrôler.\n",
            "Une bonne chose\n",
            "Oui\n",
            "Annulation de l'élection si plus de 25% de non votant. La république n'est pas un syndic\n",
            "RESPECT DE LA VIE - RESPECT DES ANIMAUX\n",
            "Citoyen / Citoyenne\n",
            "67000\n",
            "Oui\n",
            "Que les seconds répondent aux aspirations des premiers\n",
            "Une mauvaise chose\n",
            "Que le financement des campagne soit égal pour tous. Que le mode de scrutin soit modifié.\n",
            "Oui\n",
            "Les Députés et les Sénateurs\n",
            "Pour les Européennes, c'est catastrophique. On en parle beaucoup trop peu. Les citoyens ne saisissent ni les enjeux ni le fonctionnement de ces élections.\n",
            "Oui\n",
            "Commencer par tenir compte de leurs voeux. La position majoritaire des Français sur la chasse et l'action parallèle du gouvernement, qui va exactement à contre sens de cette position, on voit bien que la démocratie n'est ni participative ni même respectée. Un exemple parmi de nombreux autres....\n",
            "Oui\n",
            "Demeurer extrêmement vigilant et strict sur tout ce qui fonde la laïcité, sans tolérer aucune exception. Donc pas de boucheries halal, aucune femmes voilées, pas de menus spéciaux dans les écoles, pas de jours fériés comme le 15 août, fête de la Vierge ou le lundi de Pentecôte etc...\n",
            "Le respect du domaine public : je vis à Strasbourg, une ville où les rues sont immondes, comparables à des poubelles ! Eduquer les enfants dès la maternelle à la propreté dans le respect des autres. Eduquer au respect de la vie sous toutes ses formes. Donc respect des animaux. Réduire sensiblement, voire supprimer, toutes les publicités en anglais dont nous sommes inondées ! Et la loi Toubon ? Oubliée ....\n",
            "Demander par ex aux municipalités la mise en place de bataillons d'agents municipaux en civil aptes à verbaliser au moindre acte incivique sur la voie publique. Dans un pays du nord, un Maire a pris de telles dispositions. En 3 mois, l'espace public est redevenu parfaitement propre. Voir le Japon !\n",
            "Moins de paperasses non seulement inutiles mais stupides. Il y a 30 ans, j'ai épousé un Britannique. Nous avons voulu obtenir une \"carte couple\" pour les transports SNCF. Je n'ise pas énumérer ici la liste invraisemblable de papiers qu'il a fallu produire et ... nous avons renoncé. A Londres, nous avons fait la même démarche auprès de British Rail. On nous a demandé 2 photos, on nous a fait attendre 10 minutes avec un café et on nous a remis la carte couple en nous souhaitant de bons voyages !!!!\n",
            "La saleté de l'espace public et l'indifférence grossière des jeunes vis à vis des personnes âgées. Notamment dans les transports publics.\n",
            "Voir plus haut.\n",
            "Oui\n",
            "La politique migratoire ? Quelle politique migratoire ?\n",
            "Regardez l'Allemagne. J'habite à 1 km de la frontière allemande et je la franchis presque chaque jour. A Freiburg, ville de  moins de 150.000 habitants , on a accueillis l'an dernier, logé, instruit, bref intégré 4000 immigrés contre 300.000 habitants et moins de 300 immigrés pour Strasbourg, la \"Capitale de l'Europe\" comme chacun sait !!!!\n",
            "OUI LE RESPECT DE LA VIE ANIMALE, DEBAT SUR LEQUEL LA FRANCE FAIT FIGURE DE LANTERNE ROUGE EN EUROPE ET OU LE PARLEMENT RESTE SOURD AUX DEMANDES D'UNE MAJORITE DE CITOYENS.\n",
            "18 mois de trop....ca suffit macron\n",
            "Citoyen / Citoyenne\n",
            "13920\n",
            "que dejà macron les respecte\n",
            "respecter les lois\n",
            "dejà que l'état respecte LES LOIS\n",
            "Oui\n",
            "travail obligatoire\n",
            "ca suffit de voir entrer en FRANCE ces gens , il faut renvoyer maun militari toute arrivée illégale...les reconduire aux frontière. macron orefère se faire prendre en photo avec des voyous qui font des doigts d'honneur à la France ou d'inviter pour la fete de la musique des rappeurs qui insultent la France ....trop c'est trop surtout avec le pact de marrakech.\n",
            "OUI  mais pas 300000 comme actuellment\n",
            "commencer par supprimer l'AME et interdire toute regularisation pour ceux entrés illégalement\n",
            "aucune  ....retour direct hors frontière\n",
            "macron est un dictateur ce débat est du gros pipeau....il sera traité comme l'affaire d'état benalla...\n",
            "Egalité devant les infractions routières\n",
            "Citoyen / Citoyenne\n",
            "44300\n",
            "Nous proposons de mettre fin à la tolérance policière sur les infractions routières commises par certaines catégories de la population. En effet, il n’est pas rare que les élus, responsables politiques, gradés, acteurs, journalistes etc... n’attachent pas leur ceinture de sécurité, soient en excès de vitesse, brûlent des feux rouges sans escorte ni sirène, lorsqu’ils sont conduits en taxi ou voiture de fonction avec chauffeur. Il n’est pas acceptable pour la population générale, peu sujette à la clémence des forces de l’ordre, de voir ces comportements impunis par des policiers craignant de verbaliser « quelqu’un d’important ». Il s’agit d’encadrer plus strictement les cas où il est possible de s’affranchir du code de la route et surtout de faire respecter ces règles ; un préfet allant à une réunion n’est ni plus pressé ni moins dangereux pour autrui qu’un ouvrier devant pointer à l’heure !\n",
            "Mesures d'urgence pour une démocratie régénérée\n",
            "Élu / élue et Institution\n",
            "06270\n",
            "A tout élu au suffrage universel, avec des règles à revoir.\n",
            "Oui\n",
            "Aux syndicats, s'ils se réforment. Aux associations citoyennes à créer. Il faut des organes permettant des débats annuels , à l'image de ce débat citoyen\n",
            "Que constatons-nous ? Que malgré leurs excès, malgré leur tempérament patient mais explosif une fois cette patience mise à mal, les Français sont des gens raisonnables.  Que demandent-ils au fond, au-delà des questions pourtant essentielles de pouvoir d’achat et de bien être personnel ?  Ils demandent un cadre, clair, et une fois pour toute garant des fondements de la démocratie « à la française » : liberté, égalité, fraternité mais aussi laïcité, équité et éthique.  Aussi, en ce qui concerne le débat national sur la démocratie et sa pratique , plusieurs choses simples seraient à mettre en œuvre :  -\tIMPOSER comme vous l’aviez prévu dans votre programme l’impossibilité pour tout citoyen de se présenter ou de se maintenir à une élection avec un casier judiciaire non vierge de certains crimes ou délits (argent public, harcèlement moral ou sexuel, incitation à la haine ou à la violence…). Cette mesure est à mes yeux la plus importante de toutes. -\tPourquoi pas un référendum d’initiative citoyenne, cadré, pour éviter les débordements et la désorganisation : 3 millions de signatures minimum de citoyens majeurs, sur des familles de sujet cadrées par la constitution et validés par le conseil constitutionnel, et pas plus de 3 par an (en faisant passer en priorité ceux qui ont reçu le plus de signatures). -\tMettre en place une ou des commissions de contrôle mixtes (élus, personnalités, citoyens) sur l’existence, l’utilité, la composition et le budget d’instances représentatives directes ou indirectes (commissions diverses, organismes d’état)… -\tRevoir le statut de l’élu, quitte à les rémunérer davantage, de manière à ce que « faire de la politique » ne soit plus un métier ou une profession mais bien une fonction (limiter le nombre de mandats successifs, garantir un retour à l’emploi même dans le privé…) -\tSupprimer certains avantages opaques ou mal contrôlés comme les indemnités de représentation (ou mieux les contrôler), certains voyages gratuits, etc… -\tRevenir, mais vous l’avez prévu, à une forme de service militaire de 6 mois minimum -\tComptabiliser le vote blanc/et ou rendre le vote obligatoire. -\tInstiller une dose de proportionnelle dans les élections nationales Je ne suis pas politologue, mais je reste persuadé que la mise en place de telles mesures, d’un seul coup, aurait plusieurs avantages : donner satisfaction aux citoyens mécontents ET améliorer les conditions d’exercice de la démocratie.\n",
            "Une bonne chose\n",
            "Il faut éviter que \"politique \" devienne un métier ou une profession. il faut donc aussi renforcer le rôle de l'élu et son statut tout en garantissant son \"retour\" à la vie civile\n",
            "Bien entendu instiller une dose de proportionnelle. Et introduire une plus forte dose d'éducation civique et politique dès le plus jeune âge pour apprendre aux citoyens à penser par eux mêmes.\n",
            "Oui\n",
            "Députés et sénateurs, mais aussi le nombre de collaborateurs et commissions diverses\n",
            "Elle est indispensable. Il faut réfléchir à un système évitant l'\"entre soi\" : il est presque impossible financièrement, hors d'un parti, de se présenter à une élection avec une audience équitable\n",
            "Oui\n",
            "Si le vote blanc arrive dans les deux premières positions à un suffrage, l'élection doit être refaite, ou alors la dose de proportionnelle systématiquement augmentée. En cas de suffrage uninominal, rendre le vote à la nouvelle élection obligatoire\n",
            "Par des référendums d'initiative citoyenne strictement encadrés, et la création de comités de surveillances mixtes\n",
            "Oui\n",
            "En ne le laissant pas seulement à l'inititative des élus, mais aussi peut être de certaines associations citoyennes d'intérêt public.\n",
            "Faire beaucoup plus de compte rendus sur l'utilisation de l'impôt: montrer à chaque citoyen par des histogrammes sur son espacce personnel impot.gouv l'utilisation concrète de la somme qu'il a versé\n",
            "Oui\n",
            "Suppression du Sénat, ou fusion avec le CES, avec participation de citoyens volontaires et/ou tirés au sort\n",
            "Etre beaucoup plus ferme sur TOUTE atteinte à la république et ses principes\n",
            "Education, service militaire,\n",
            "Changer certains statuts: pompiers volontaires, reserve gendarmerie etc... en les valorisant davantage, en defiscalisant certianes participations, en en tenant compte dnas la retraite\n",
            "Participation associative, participation à l'éducation ...\n",
            "volontariat, bénévolat gratifié fiscalement\n",
            "Plus de travaux d'intérêt général, plus de répression financière\n",
            "Oui\n",
            "Impôt obligatoire, quitte à ce qu'il soit de un euro symbolique\n",
            "SORTIR DU GRAND EST ! REOUR A LA REGION ALSACE\n",
            "Citoyen / Citoyenne\n",
            "68000\n",
            "Aux Alsaciens !\n",
            "Oui\n",
            "Retour à nos régions pas ces mégas régions qui ne servent a rien . GrandEst + 16millions de dépenses . Une honte! Rendez l'Alsace\n",
            "Une bonne chose\n",
            "Plus de proximité de Région !\n",
            "Oui\n",
            "Oui\n",
            "Retour a la région ALSACE !\n",
            "Oui\n",
            "Pour plus de transparence\n",
            "Citoyen / Citoyenne\n",
            "78400\n",
            "Le président\n",
            "Oui\n",
            "Plus de transparence\n",
            "Il faut plus de transparence. Le MH370 a disparu sans prise de position du président.\n",
            "Ecoutez enfin le  peuple.\n",
            "Citoyen / Citoyenne\n",
            "34740\n",
            "Certainement pas par les politiciens plus avides de pouvoir qui n'hésitent pas une fois élu à trahir la parole donnée plutôt que de servir le pays. La pluralité politique en France est un bien grand mot puisque depuis 40 ans c'est la m^me politique qui est menée.\n",
            "Oui\n",
            "Professionnelles oui mais actuellement pas les syndicats trop politisés et qui ont ignoré voir méprisé la montée de la colère du peuple.  Les maires sont à mon sens les mieux placés pour représenter leurs administrés. Il faut leur donner davantage de responsabilité en étoffant les villes et villages au détriment des départements.\n",
            "Que ces représentants descendent vers le peuple, qu'ils soient indépendant du pouvoir politique et financés uniquement par les adhérents.\n"
          ],
          "name": "stdout"
        }
      ]
    },
    {
      "cell_type": "code",
      "metadata": {
        "id": "iFwxG17PX72I"
      },
      "source": [
        ""
      ],
      "execution_count": null,
      "outputs": []
    }
  ]
}
