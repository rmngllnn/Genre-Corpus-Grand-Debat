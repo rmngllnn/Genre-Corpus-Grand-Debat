{
 "cells": [
  {
   "cell_type": "markdown",
   "id": "fc6073e0-daef-46b3-bb66-896b3642c03b",
   "metadata": {},
   "source": [
    "# Qu'y a-t-il dans ce notebook ?\n",
    "\n",
    "Permet l'analyse des contextes des fichiers CSV.\n",
    "\n",
    "Fichiers utilisés : form_fem_(\\*).csv\n",
    "\n",
    "Le but est d'enlever les contexte où la forme est utilisée comme adjectif"
   ]
  },
  {
   "cell_type": "code",
   "execution_count": null,
   "id": "ab7da68f-fd0f-4bca-8dac-d86d9373a52f",
   "metadata": {},
   "outputs": [],
   "source": [
    "import pandas as pd\n",
    "import spacy\n",
    "import csv"
   ]
  },
  {
   "cell_type": "code",
   "execution_count": null,
   "id": "ceba0af0-7b65-49fc-af49-704714fb2124",
   "metadata": {},
   "outputs": [],
   "source": [
    "nlp = spacy.load(\"fr_core_news_lg\")"
   ]
  },
  {
   "cell_type": "markdown",
   "id": "19808f80-d0c4-426e-9907-ba8b3cc6eb08",
   "metadata": {},
   "source": [
    "## Définition des fonctions"
   ]
  },
  {
   "cell_type": "code",
   "execution_count": null,
   "id": "9508c3ba-53e7-407c-bdce-bde8d2916fcd",
   "metadata": {},
   "outputs": [],
   "source": [
    "def extract_contexts(data_frame):\n",
    "    \n",
    "    \"\"\" Extracts contexts from DataFrame\n",
    "    -> DataFrame\n",
    "    <- list of contexts (strings) : [context1, context2, context3 ...]\n",
    "    \"\"\"\n",
    "    \n",
    "    example = data_frame[[\"Unnamed: 0\", \"Unnamed: 1\", \"Unnamed: 2\"]]\n",
    "    return list(example[[\"Unnamed: 0\"][0]] + \" \" + example[[\"Unnamed: 1\"][0]] + \" \" + example[[\"Unnamed: 2\"][0]])\n"
   ]
  },
  {
   "cell_type": "code",
   "execution_count": null,
   "id": "e971ca90-d58f-4186-9fac-f129ac042d19",
   "metadata": {},
   "outputs": [],
   "source": [
    "def get_word_forms(data_frame):\n",
    "    \n",
    "    \"\"\" Extracts word forms from DataFrame\n",
    "    -> DataFrame\n",
    "    <- list of word forms\n",
    "    \"\"\"\n",
    "\n",
    "    index = list(data_frame.columns)\n",
    "    return index[3:]"
   ]
  },
  {
   "cell_type": "code",
   "execution_count": null,
   "id": "1f3875e4-c0b1-4ade-8967-e1bbfe043792",
   "metadata": {},
   "outputs": [],
   "source": [
    "def is_noun (word_to_check) :\n",
    "    \n",
    "    \"\"\" Check if the word is a noun. If it is, return True\n",
    "    -> a word\n",
    "    <- Boolean\n",
    "    \"\"\"\n",
    "\n",
    "    if word_to_check.pos_ == \"NOUN\": return True"
   ]
  },
  {
   "cell_type": "code",
   "execution_count": null,
   "id": "ac2733de-878e-47e3-9e54-8f22c8e98886",
   "metadata": {},
   "outputs": [],
   "source": [
    "def extract_wanted_form (word_context):\n",
    "    \n",
    "    \"\"\" Check pos of word_context. If it's not a noun, return True\n",
    "    -> a word\n",
    "    <- Boolean\n",
    "    \"\"\"\n",
    "\n",
    "    if not is_noun(word_context) : return True"
   ]
  },
  {
   "cell_type": "code",
   "execution_count": null,
   "id": "370cff6f-d952-4546-8183-9805d1a17e8b",
   "metadata": {},
   "outputs": [],
   "source": [
    "def pop_row(data_frame, context_list, word_list):\n",
    "    \n",
    "    \"\"\" Pop a row in which the word_form is not a noun. Rows are deleted inplace\n",
    "    -> DataFrame\n",
    "    -> context_list : list of SN contexts\n",
    "    -> word_list : list of word forms\n",
    "    \"\"\"\n",
    "    \n",
    "    c = 0\n",
    "    \n",
    "    for context in context_list:\n",
    "        doc = nlp(context)\n",
    "        for word in word_list:\n",
    "            if word == doc[2].text:\n",
    "                must_pop = extract_wanted_form(doc[2])\n",
    "                if must_pop : \n",
    "                    data_frame.drop([c], axis=0, inplace=True)\n",
    "        c += 1"
   ]
  },
  {
   "cell_type": "markdown",
   "id": "df328c2c-9810-4b33-83c5-d97e5a61c10c",
   "metadata": {},
   "source": [
    "## Tri pour le fichier \"form_fem_candidate_bis.csv\""
   ]
  },
  {
   "cell_type": "code",
   "execution_count": null,
   "id": "a48291f7-2f7c-44da-a5b0-7db6566b4edf",
   "metadata": {},
   "outputs": [],
   "source": [
    "data = pd.read_csv(\"form_fem_candidate_bis.csv\")\n",
    "contexts = extract_contexts(data)\n",
    "forms = get_word_forms(data)\n",
    "print(forms)\n",
    "pop_row(data, contexts, forms)\n",
    "data.to_csv(\"form_fem_candidate_ter.csv\")"
   ]
  },
  {
   "cell_type": "code",
   "execution_count": null,
   "id": "8e954a82-492b-4974-b735-255e8663726e",
   "metadata": {},
   "outputs": [],
   "source": [
    "#Tri secondaire manuel\n",
    "\n",
    "data.drop([23,36,64,76,85,96,105, 106, 107,108,125], axis=0, inplace=True)\n",
    "print(data.shape)"
   ]
  },
  {
   "cell_type": "code",
   "execution_count": null,
   "id": "a7fc7117-35a6-408a-bec1-8f6308ff23e3",
   "metadata": {},
   "outputs": [],
   "source": [
    "data.to_csv(\"form_fem_candidate_ter.csv\")"
   ]
  },
  {
   "cell_type": "markdown",
   "id": "9731f383-e862-4094-8529-a7e9b9a39c3b",
   "metadata": {},
   "source": [
    "## Tri pour le fichier \"form_fem_citoyenne_bis.csv\""
   ]
  },
  {
   "cell_type": "code",
   "execution_count": null,
   "id": "8a35affe-f38f-4610-b317-f9963332923f",
   "metadata": {},
   "outputs": [],
   "source": [
    "data = pd.read_csv(\"form_fem_citoyenne_bis.csv\")\n",
    "contexts = extract_contexts(data)\n",
    "forms = get_word_forms(data)\n",
    "print(forms)\n",
    "pop_row(data, contexts, forms)\n",
    "data.to_csv(\"form_fem_citoyenne_ter.csv\")"
   ]
  },
  {
   "cell_type": "markdown",
   "id": "aef8b89a-c5a7-4fbc-8e82-fab7a8639cfb",
   "metadata": {},
   "source": [
    "## Tri pour le fichier \"form_fem_depute_bis.csv\""
   ]
  },
  {
   "cell_type": "code",
   "execution_count": null,
   "id": "c61f35b9-ff63-41cd-bf56-2dcf41373bf3",
   "metadata": {},
   "outputs": [],
   "source": [
    "data = pd.read_csv(\"form_fem_depute_bis.csv\")\n",
    "contexts = extract_contexts(data)\n",
    "forms = get_word_forms(data)\n",
    "print(forms)\n",
    "pop_row(data, contexts, forms)\n",
    "data.to_csv(\"form_fem_depute_ter.csv\")"
   ]
  },
  {
   "cell_type": "markdown",
   "id": "21994597-40ef-4dce-91f1-0cb134eb6d20",
   "metadata": {},
   "source": [
    "## Tri pour le fichier \"form_fem_elue_bis.csv\""
   ]
  },
  {
   "cell_type": "code",
   "execution_count": null,
   "id": "04bdd223-982d-48b1-8a86-34860f8cde1f",
   "metadata": {},
   "outputs": [],
   "source": [
    "data = pd.read_csv(\"form_fem_elue_bis.csv\")\n",
    "data.shape\n",
    "contexts = extract_contexts(data)\n",
    "forms = get_word_forms(data)\n",
    "print(forms)\n",
    "pop_row(data, contexts, forms)\n",
    "data.shape\n",
    "data.to_csv(\"form_fem_elue_ter.csv\")"
   ]
  },
  {
   "cell_type": "markdown",
   "id": "e35472bd-d785-4679-99d1-2186189c919f",
   "metadata": {},
   "source": [
    "## Tri pour le fichier \"form_fem_migrante_bis.csv\""
   ]
  },
  {
   "cell_type": "code",
   "execution_count": null,
   "id": "7c4508df-db9d-45dd-b593-a2fc93f9183d",
   "metadata": {},
   "outputs": [],
   "source": [
    "data = pd.read_csv(\"form_fem_migrante_bis.csv\")\n",
    "data.shape\n",
    "contexts = extract_contexts(data)\n",
    "forms = get_word_forms(data)\n",
    "print(forms)\n",
    "pop_row(data, contexts, forms)\n",
    "data.drop([4, 8, 10, 14, 15 , 16, 17, 18], axis=0, inplace=True)\n",
    "data.to_csv(\"form_fem_migrante_ter.csv\")"
   ]
  },
  {
   "cell_type": "markdown",
   "id": "fe24a29b-188a-466e-a9ba-128345a81cb4",
   "metadata": {},
   "source": [
    "## Tri pour le fichier \"form_fem_representante_bis.csv\""
   ]
  },
  {
   "cell_type": "code",
   "execution_count": null,
   "id": "ac05873b-5396-47e4-b00a-7543f46c6e8f",
   "metadata": {},
   "outputs": [],
   "source": [
    "data = pd.read_csv(\"form_fem_representante_bis.csv\")\n",
    "data.shape\n",
    "contexts = extract_contexts(data)\n",
    "forms = get_word_forms(data)\n",
    "print(forms)\n",
    "pop_row(data, contexts, forms)\n",
    "data.shape\n",
    "data.to_csv(\"form_fem_representante_ter.csv\")"
   ]
  }
 ],
 "metadata": {
  "kernelspec": {
   "display_name": "Python 3",
   "language": "python",
   "name": "python3"
  },
  "language_info": {
   "codemirror_mode": {
    "name": "ipython",
    "version": 3
   },
   "file_extension": ".py",
   "mimetype": "text/x-python",
   "name": "python",
   "nbconvert_exporter": "python",
   "pygments_lexer": "ipython3",
   "version": "3.9.5"
  }
 },
 "nbformat": 4,
 "nbformat_minor": 5
}
