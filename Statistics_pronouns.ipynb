{
 "cells": [
  {
   "cell_type": "code",
   "execution_count": 3,
   "metadata": {},
   "outputs": [],
   "source": [
    "import json\n",
    "from collections import Counter\n",
    "import collections\n",
    "import pandas as pd\n",
    "from ipynb.fs.defs.Statistics import open_file\n",
    "from ipynb.fs.defs.Statistics import open_file\n",
    "import re"
   ]
  },
  {
   "cell_type": "code",
   "execution_count": 9,
   "metadata": {},
   "outputs": [],
   "source": [
    "data = open_file(\"pronouns.json\")"
   ]
  },
  {
   "cell_type": "code",
   "execution_count": 15,
   "metadata": {},
   "outputs": [],
   "source": [
    "def extract_name(data):\n",
    "    liste = []\n",
    "    for pairs in data:\n",
    "        liste.append(pairs[0])\n",
    "    return liste"
   ]
  },
  {
   "cell_type": "code",
   "execution_count": 16,
   "metadata": {},
   "outputs": [],
   "source": [
    "pron = extract_name(data)"
   ]
  },
  {
   "cell_type": "code",
   "execution_count": 17,
   "metadata": {},
   "outputs": [
    {
     "name": "stdout",
     "output_type": "stream",
     "text": [
      "['qui', 'vous', 'vous', 'il', 'Que', 'il', 'qui', 'les', 'Que', 'il', 'vous', 'il', 'lesquels', 'Que', 'vous']\n"
     ]
    }
   ],
   "source": [
    "print(pron[0:15])"
   ]
  },
  {
   "cell_type": "code",
   "execution_count": 18,
   "metadata": {},
   "outputs": [],
   "source": [
    "def select_words (list_words):\n",
    "    \n",
    "    liste = []\n",
    "    \n",
    "    for word in list_words:\n",
    "        if word == \"il\" or word == \"ils\" or word == \"Ils\" or word == \"Il\":\n",
    "            liste.append(word)\n",
    "        elif word == \"elle\" or word == \"elles\" or word == \"Elles\" or word == \"Elle\":\n",
    "            liste.append(word)\n",
    "        elif word == \"iel\" or word == \"iels\":\n",
    "            liste.append(word)\n",
    "        elif word == \"chacun\" or word == \"chacune\" or word == \"Chacun\" or word == \"Chacune\":\n",
    "            liste.append(word)\n",
    "        elif word == \"eux\" or word == \"elles\" or word == \"Ils\" or word == \"Il\":\n",
    "            liste.append(word)\n",
    "            \n",
    "    return liste"
   ]
  },
  {
   "cell_type": "code",
   "execution_count": 19,
   "metadata": {},
   "outputs": [],
   "source": [
    "def count_occ (list_words):\n",
    "    \"\"\"Return a dictionary of occurences of words\n",
    "    -> List of words\n",
    "    <- dictionary of occurences\n",
    "    \"\"\"\n",
    "    dict_occ = collections.Counter(list_words)\n",
    "    return dict_occ"
   ]
  },
  {
   "cell_type": "code",
   "execution_count": 21,
   "metadata": {},
   "outputs": [
    {
     "name": "stdout",
     "output_type": "stream",
     "text": [
      "Counter({'il': 8620, 'Il': 4729, 'ils': 3505, 'elle': 1125, 'chacun': 1047, 'eux': 855, 'elles': 743, 'Ils': 397, 'Elle': 290, 'Elles': 148, 'Chacun': 126, 'chacune': 47})\n"
     ]
    }
   ],
   "source": [
    "liste_pron = select_words(pron)\n",
    "pron_occ = count_occ(liste_pron)\n",
    "\n",
    "print(pron_occ)"
   ]
  },
  {
   "cell_type": "code",
   "execution_count": null,
   "metadata": {},
   "outputs": [],
   "source": []
  }
 ],
 "metadata": {
  "kernelspec": {
   "display_name": "Python 3",
   "language": "python",
   "name": "python3"
  },
  "language_info": {
   "codemirror_mode": {
    "name": "ipython",
    "version": 3
   },
   "file_extension": ".py",
   "mimetype": "text/x-python",
   "name": "python",
   "nbconvert_exporter": "python",
   "pygments_lexer": "ipython3",
   "version": "3.8.5"
  }
 },
 "nbformat": 4,
 "nbformat_minor": 4
}
