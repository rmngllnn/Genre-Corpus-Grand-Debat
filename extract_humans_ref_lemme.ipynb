{
 "cells": [
  {
   "cell_type": "code",
   "execution_count": 43,
   "id": "73014e41-d1a4-47e7-b944-6dfe8bc0a28a",
   "metadata": {},
   "outputs": [],
   "source": [
    "interactive_mode = True\n",
    "similarities_done = True"
   ]
  },
  {
   "cell_type": "code",
   "execution_count": 3,
   "id": "04e0df68-af82-49dc-aa7b-562c3f84df07",
   "metadata": {},
   "outputs": [],
   "source": [
    "if interactive_mode:\n",
    "    from ipynb.fs.defs.fonctions_preprocess import open_file\n",
    "    from ipynb.fs.defs.fonctions_preprocess import serialisation_data\n",
    "    from ipynb.fs.defs.search_humans_referent import *\n",
    "\n",
    "import spacy\n",
    "import json"
   ]
  },
  {
   "cell_type": "code",
   "execution_count": 4,
   "id": "baf18b6e-ea20-48a1-b4d1-0ea96d06fc84",
   "metadata": {},
   "outputs": [],
   "source": [
    "if interactive_mode and not similarities_done:\n",
    "    data = open_file(\"lemme_form.json\")"
   ]
  },
  {
   "cell_type": "code",
   "execution_count": null,
   "id": "283bc319-e509-4ee3-a4b2-408e5ca372c8",
   "metadata": {},
   "outputs": [],
   "source": [
    "def open_file(file):\n",
    "    with open(file) as json_data:\n",
    "        data = json.load(json_data)\n",
    "    return data"
   ]
  },
  {
   "cell_type": "code",
   "execution_count": 3,
   "id": "9adea639-6266-4294-8f99-fd5f3bc83f8b",
   "metadata": {},
   "outputs": [
    {
     "name": "stdout",
     "output_type": "stream",
     "text": [
      "91054\n"
     ]
    }
   ],
   "source": [
    "if not similarities_done:\n",
    "    data = open_file(\"lemme_form.json\")\n",
    "    print(len(data))"
   ]
  },
  {
   "cell_type": "code",
   "execution_count": 4,
   "id": "740c2a5e-3a82-48bc-afd4-90e0af184bfd",
   "metadata": {},
   "outputs": [
    {
     "name": "stdout",
     "output_type": "stream",
     "text": [
      "<class 'dict'>\n"
     ]
    }
   ],
   "source": [
    "print(type(data))"
   ]
  },
  {
   "cell_type": "code",
   "execution_count": 5,
   "id": "b58aef1f-c851-4cc5-9db5-37727498b655",
   "metadata": {},
   "outputs": [
    {
     "name": "stdout",
     "output_type": "stream",
     "text": [
      "['confiance', 'société', 'élu', 'rôle', 'association', 'organisation', 'oui', 'type', 'lien', 'citoyen', 'non-cumul', 'mandat', 'parlementaire', 'député', 'sensibilité', 'nombre', 'participation', 'élection', 'compte', 'vote', 'manière', 'orientation', 'décision', 'place', 'démocratie', 'participative', 'déclenchement', 'référendum', 'initiative', 'membre', 'parlement', 'partie', 'corps', 'utilisation', 'argent', 'etat', 'collectivité', 'assemblée', 'sénat', 'conseil', 'territoire', 'proposez', '-vou', 'principe', 'laïcité', 'rapport', 'religion', 'pays', 'respect', 'compréhension', 'valeur', 'république', 'engagement', 'comportement', 'vie', 'développement', 'parcours', 'relation', 'administration', 'pouvoir', 'incivilité', 'discrimination', 'témoin', 'contrepartie', 'allocation', 'solidarité', 'situation', 'immigration', 'politique', 'critère', 'matière', 'fois', 'obligation', 'asile', 'remplie', 'objectif', 'défi', 'modalité', 'intégration', 'efficace', 'y', 'point', 'citoyenneté', 'augmentation', 'rémunération', 'inégalité', 'salaire', 'pension', 'indice', 'fonctionnaire', 'pourcentage', 'euro', 'celui', 'décennie', 'pourcent', 'bout', 'intégralité', '…', 'an', 'fossé', 'enquête', 'outil', 'aménagement', 'dialogue', 'instrument', 'projet', 'année', 'hostilité', 'drame', 'barrage', 'déviation', '«', 'force', 'apporteur', 'population', 'système', 'aujourd’hui', 'sclérosé', 'l’', 'milieu', 'lobby', 'service', 'tribunal', 'dossier', 'kilo', 'inexploitable', 'incompréhensible', 'enquêteur', 'haute', 'fonction', 'officier', 'armée', 'cabinet', 'étude', 'notable', 'baron', 'mesure', 'aspiration', 'durée', 'influence', 'concertation', 'disposition', 'code', 'environnement', 'marge', 'avis', 'recommandation', 'affaire', 'paragraphe', 'remise', 'cause', 'profondeur', 'intermédiaire', 'piste', 'vecteur', 'culturel', 'protection', 'd’', 'acteur', 'aspect', 'sociau', 'texte', 'envergure', 'infrastructure', 'canal', 'port', 'aéroport', 'industrie', 'vaste', 'entreposage', 'surface', 'zonage', 'site', 'création', 'zone', 'scot', 'opération', 'expropriation', 'consentement', 'propriétaire', 'modification', 'domaine', 'champ', 'intervention', 'obstacle', '–', 'partenaire', 'auteur', 'phase', 'élaboration', 'connaissance', 'terrain', 'national', 'local', 'préfecture', 'dreal', '•', 'finalisation', 'autorisation', 'rejet']\n"
     ]
    }
   ],
   "source": [
    "i = 100\n",
    "extract = []\n",
    "for dic in data:\n",
    "    if i == 300 :\n",
    "        break\n",
    "    extract.append(dic)\n",
    "    i+=1\n",
    "    \n",
    "print(extract)"
   ]
  },
  {
   "cell_type": "code",
   "execution_count": 20,
   "id": "70ddeb0a-8850-4106-a8be-ef0424cd5df4",
   "metadata": {},
   "outputs": [],
   "source": [
    "def list_into_string(dict_lemme):\n",
    "\n",
    "    extract = []\n",
    "    extract_s = \"\"\n",
    "\n",
    "    i = 300\n",
    "    for dic in dict_lemme:\n",
    "        if i == 700: break\n",
    "        extract.append(dic)\n",
    "        i+=1\n",
    "            \n",
    "    print(\"Taille des occurences uniques : \", len(extract))\n",
    "        \n",
    "    for word in extract:\n",
    "        extract_s += word\n",
    "        extract_s += \" \"\n",
    "        \n",
    "    return extract_s"
   ]
  },
  {
   "cell_type": "code",
   "execution_count": 21,
   "id": "0c444309-b5c2-4760-9ddc-81aa7b514bf4",
   "metadata": {},
   "outputs": [
    {
     "name": "stdout",
     "output_type": "stream",
     "text": [
      "Taille des occurences uniques :  400\n",
      "3619\n"
     ]
    }
   ],
   "source": [
    "if not similarities_done:\n",
    "    corpus_string = list_into_string(data) \n",
    "print(len(corpus_string))"
   ]
  },
  {
   "cell_type": "code",
   "execution_count": 8,
   "id": "6387d91c-2315-45a3-b997-76a6cd21a197",
   "metadata": {},
   "outputs": [],
   "source": [
    "if not similarities_done:\n",
    "    #nlp.max_length = 1500000\n",
    "    nlp = spacy.load(\"fr_core_news_lg\")\n",
    "    doc1 = nlp(corpus_string)\n",
    "    doc2 = nlp(corpus_string)"
   ]
  },
  {
   "cell_type": "code",
   "execution_count": 10,
   "id": "5f0c929e-ce0b-47ce-a88b-de7f743a418c",
   "metadata": {},
   "outputs": [],
   "source": [
    "def calculate_similarity (token1, token2):\n",
    "    \"\"\"Calculate Similarity between two tokens using SpaCy pre-trained model\n",
    "    -> Two tokens\n",
    "    <- similarity score between these two tokens\"\"\"\n",
    "\n",
    "    similarity = token1.similarity(token2)\n",
    "    \n",
    "    if similarity != None and similarity >= 0.5 and similarity != 1 : return (token1, token2, similarity) "
   ]
  },
  {
   "cell_type": "code",
   "execution_count": 11,
   "id": "dce883b4-c2d5-4364-9e56-2b0b023f9b8a",
   "metadata": {},
   "outputs": [],
   "source": [
    "def construction_liste_similarity(doc1, doc2):\n",
    "    \"\"\"Builds list of similarities. One element of the list is built so : (token1, token2, similarity)\n",
    "    -> doc1 : list of words\n",
    "    -> doc2 : other list of words\n",
    "    <- list of tuples made of two words and their similarities\n",
    "    \"\"\"\n",
    "    \n",
    "    similarities = []\n",
    "    \n",
    "    for i in range (len(doc1)):\n",
    "        if i%100 == 0 : print (\"mot n°\", i, \"/\", len(doc1))\n",
    "        if doc1[i].has_vector != False: tok = doc1[i]\n",
    "        for k in range(len(doc2)):\n",
    "            if doc2[k].has_vector != False : \n",
    "                similarity = calculate_similarity(tok, doc2[k])\n",
    "                \n",
    "            if similarity != None : similarities.append(similarity)\n",
    "            #if similarity != None : print(tok, doc2[k], similarity)\n",
    "                    \n",
    "    return similarities\n",
    "    "
   ]
  },
  {
   "cell_type": "code",
   "execution_count": 12,
   "id": "995f25c5-4a45-4611-9434-21e08e29b1d4",
   "metadata": {},
   "outputs": [],
   "source": [
    "def extract_unique_referents(doc1, doc2):\n",
    "    \"\"\"extract unique_referent using word_similarities\n",
    "    -> string of words\n",
    "    <- list of words and dictionnary of similarities\n",
    "    doc_sim = {word1: [(word, similarity), ..., (word, similarity)], word2 : [(word, similarity), ... (word, similarity)], ... wordn : [(word, similarity), (word, similarity)]}\n",
    "    \n",
    "    We use word similarities using spacy module. We take similarities >= 0.5 to delete low similarities and \"clean\" corpus) \n",
    "    \"\"\"\n",
    "    \n",
    "    humans_referent = []\n",
    "    doc_sim = {}\n",
    "\n",
    "    similarities = construction_liste_similarity(doc1, doc2)\n",
    "\n",
    "    print(\"Similarities are done !\")\n",
    "    \n",
    "    print(similarities[0:30])\n",
    "    \n",
    "    i=0\n",
    "    for sim in similarities:\n",
    "        i+=1\n",
    "        if i%10000 == 0: print(\"Similarité n°\", i, \"/\", len(similarities) )\n",
    "        if sim[1] not in humans_referent: humans_referent.append(sim[1])\n",
    "        if str(sim[0]) not in doc_sim : \n",
    "            doc_sim[str(sim[0])] = []\n",
    "        doc_sim[str(sim[0])].append((str(sim[1]), float(sim[2])))\n",
    "        \n",
    "\n",
    "    print(\"Taille de humans_referent : \", len(humans_referent), \" et taille de doc_sim : \", len(doc_sim))\n",
    "    return (humans_referent, doc_sim)"
   ]
  },
  {
   "cell_type": "code",
   "execution_count": 23,
   "id": "4989f150-a321-4bb7-a687-4a27d9a292a6",
   "metadata": {},
   "outputs": [
    {
     "name": "stdout",
     "output_type": "stream",
     "text": [
      "mot n° 0 / 407\n",
      "mot n° 100 / 407\n",
      "mot n° 200 / 407\n",
      "mot n° 300 / 407\n",
      "mot n° 400 / 407\n",
      "Similarities are done !\n",
      "[(confiance, organisation, 0.5079422), (confiance, sensibilité, 0.6065571), (confiance, participation, 0.54922265), (confiance, décision, 0.5199269), (confiance, collectivité, 0.5264273), (confiance, respect, 0.60874814), (confiance, compréhension, 0.64423543), (confiance, engagement, 0.6601098), (confiance, comportement, 0.5706827), (confiance, relation, 0.67099065), (confiance, pouvoir, 0.5534448), (confiance, incivilité, 0.5131934), (confiance, discrimination, 0.5592167), (confiance, contrepartie, 0.5988194), (confiance, solidarité, 0.577566), (confiance, situation, 0.5740802), (confiance, obligation, 0.5273844), (confiance, intégration, 0.51939464), (confiance, rémunération, 0.52841514), (confiance, hostilité, 0.55020744), (confiance, force, 0.5032173), (confiance, aspiration, 0.5409032), (confiance, influence, 0.5079929), (confiance, concertation, 0.57512516), (confiance, environnement, 0.5309095), (confiance, recommandation, 0.58093923), (confiance, consentement, 0.5921435), (confiance, intervention, 0.53295463), (confiance, partenaire, 0.5610317), (confiance, connaissance, 0.71283513)]\n",
      "Similarité n° 10000 / 18134\n",
      "Taille de humans_referent :  342  et taille de doc_sim :  342\n"
     ]
    }
   ],
   "source": [
    "if not similarities_done:\n",
    "    humans = extract_unique_referents(doc1, doc2)\n",
    "    print(len(humans[1]))\n",
    "    print(type(humans[1]))"
   ]
  },
  {
   "cell_type": "code",
   "execution_count": null,
   "id": "b9b5e38e-c77a-4aba-b654-88a7a105ee7c",
   "metadata": {},
   "outputs": [],
   "source": [
    "i = 1\n",
    "for h in humans[1]:\n",
    "    if i == 5 : break\n",
    "    print(h, humans[1][h])\n",
    "    print()\n",
    "    i+=1\n",
    "    "
   ]
  },
  {
   "cell_type": "code",
   "execution_count": 31,
   "id": "c30740b6-2d15-410f-ba2a-a98441dfa05d",
   "metadata": {},
   "outputs": [],
   "source": [
    "dict_ref = humans[1]\n",
    "#dict_occ = open_file(\"dict_occ.json\")"
   ]
  },
  {
   "cell_type": "code",
   "execution_count": 40,
   "id": "3beb88af-1826-4803-8105-e33a5d058a22",
   "metadata": {},
   "outputs": [],
   "source": [
    "def humans_occ (dict_sim):\n",
    "    \"\"\"Creates dict of occurences\n",
    "    -> dict_occ : dictionnary of occcurences of each occurence\n",
    "    -> dict_human_ref : dictionnary of similarities of each occurence\n",
    "    <- dictionnary of occurences of most occurence\n",
    "    \"\"\"\n",
    "    \n",
    "    humans_ref = []\n",
    "    #humans_occ = {}\n",
    "    \n",
    "    \n",
    "    for dic in dict_sim:\n",
    "       \n",
    "        sim_ord = sorted(dict_sim[dic], key=lambda x:x[1], reverse = True)\n",
    "        ref_max = sim_ord[0]\n",
    " \n",
    "        if ref_max[0] not in humans_ref : humans_ref.append(ref_max[0])\n",
    "        \n",
    "        \"\"\"\n",
    "        h = str(ref_max[0])\n",
    "        \n",
    "        if h not in humans_occ : \n",
    "            humans_occ[h]= 0\n",
    "        humans_occ[h] = dict_occ[h]\n",
    "        \"\"\"\n",
    "    \n",
    "    print(\"taille de humans_ref :\", len(humans_ref))\n",
    "\n",
    "    return humans_ref "
   ]
  },
  {
   "cell_type": "code",
   "execution_count": 41,
   "id": "4096290f-eb08-4567-91b1-afedf0326c7d",
   "metadata": {},
   "outputs": [
    {
     "name": "stdout",
     "output_type": "stream",
     "text": [
      "taille de humans_ref : 182\n"
     ]
    }
   ],
   "source": [
    "fromtest = humans_occ(dict_ref)"
   ]
  },
  {
   "cell_type": "code",
   "execution_count": 42,
   "id": "06d8e645-240f-48d9-9bf9-3bb1fc252f43",
   "metadata": {},
   "outputs": [
    {
     "name": "stdout",
     "output_type": "stream",
     "text": [
      "['connaissance', 'entreprise', 'député', 'acteur', 'organisation', 'intégration', 'système', 'dialogue', 'citoyenneté', 'limitation', 'contrat', 'parlement', 'maire', 'compréhension', 'pourcentage', 'opposition', 'référendum', 'situation', 'injonction', 'disposition', 'democratie', 'participation', 'changement', 'vote', 'proposition', 'président', 'parlementaire', 'portion', 'sentiment', 'optimisation', 'contrepartie', 'intercommunalité', 'élection', 'recommandation', 'département', 'critère', 'démocratie', 'avancement', 'mentalité', 'territoire', 'discernement', 'rémunération', 'renoncement', 'humanité', 'déroulement', 'devoir', 'discrimination', 'immigration', 'mobilisation', 'préoccupation', 'principe', 'imbrication', 'année', 'but', 'enjeu', 'affectation', 'finalisation', 'solution', 'obstacle', 'citoyen', 'stabilisation', 'cotisation', 'égalité', 'allocation', 'gestionnaire', 'nombre', 'ensemble', 'trou', 'enquêteur', 'instrument', 'élargissement', 'débat', 'développement', 'décennie', 'film', 'tronçon', 'signalisation', 'pouvoir', 'd', 'environnement', 'commissaire', 'projet', 'kilomètre', 'complexe', 'contraire', 'enquête', 'division', 'conseil', 'indissociable', 'fonction', 'accumulation', 'période', 'texte', 'mise', 'raison', 'sensibilité', 'transmission', 'route', 'outil', 'national', 'sécurisation', 'l', 'rôle', 'comportement', 'contenu', 'aéroport', 'autoroute', 'aménagement', 'profondeur', 'élaboration', 'surface', 'intervention', 'domaine', 'action', 'danger', 'engagement', 'administration', 'obligation', 'collectivité', 'travers', 'possibilité', 'objectif', 'symptôme', 'acceptabilité', 'pragmatique', 'fonctionnaire', 'protection', 'salaire', 'consentement', 'fin', 'début', 'population', 'utilisation', 'tradition', 'assistance', 'société', 'incompréhensible', 'possible', 'exergue', 'œuvre', 'réussite', 'remise', 'rejet', 'cause', 'pression', 'sortie', 'modification', 'infrastructure', 'avantage', 'endroit', 'intermédiaire', 'déviation', 'hauteur', 'politique', 'préfecture', 'rubrique', 'accidentologie', 'accident', 'chaussée', 'fissure', 'amélioration', 'lieu', 'ouverture', 'drame', 'liste', 'aspiration', 'intégralité', 'largeur', 'problème', 'grâce', 'augmentation', 'taxe', 'énervement', 'orientation', 'religion', 'concertation', 'ressource', 'hostilité', 'intérêt', 'inégalité', 'montant', 'impôt']\n"
     ]
    }
   ],
   "source": [
    "print(fromtest)"
   ]
  },
  {
   "cell_type": "code",
   "execution_count": null,
   "id": "629cbded-48c7-4c21-9274-eb49d0f954b0",
   "metadata": {},
   "outputs": [],
   "source": [
    "def serialisation_data (data, title):\n",
    "  \"\"\"\n",
    "  Serialize data in a json file\n",
    "  -> Title mus be a string : title.json\n",
    "  <- Save a file in desktop\n",
    "  \"\"\"\n",
    "\n",
    "  with open(title, \"w+\") as file:\n",
    "    json.dump(data, file)"
   ]
  },
  {
   "cell_type": "code",
   "execution_count": 17,
   "id": "9adbefcf-ce26-4d17-870c-a1c791b64e6b",
   "metadata": {},
   "outputs": [],
   "source": [
    "serialisation_data(fromtest, \"humans_occ.json\")"
   ]
  },
  {
   "cell_type": "code",
   "execution_count": null,
   "id": "098fd1a9-a57a-4912-8326-a72cb7f4a3c5",
   "metadata": {},
   "outputs": [],
   "source": []
  },
  {
   "cell_type": "code",
   "execution_count": null,
   "id": "85bb146c-11f8-4fb1-a8ed-fafb2db17a2a",
   "metadata": {},
   "outputs": [],
   "source": []
  }
 ],
 "metadata": {
  "kernelspec": {
   "display_name": "Python 3",
   "language": "python",
   "name": "python3"
  },
  "language_info": {
   "codemirror_mode": {
    "name": "ipython",
    "version": 3
   },
   "file_extension": ".py",
   "mimetype": "text/x-python",
   "name": "python",
   "nbconvert_exporter": "python",
   "pygments_lexer": "ipython3",
   "version": "3.9.5"
  }
 },
 "nbformat": 4,
 "nbformat_minor": 5
}
