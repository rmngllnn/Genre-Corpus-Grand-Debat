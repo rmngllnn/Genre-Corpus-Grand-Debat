{
 "cells": [
  {
   "cell_type": "code",
   "execution_count": null,
   "id": "9ddb9430-e523-4f4a-864b-1c17393d7ff0",
   "metadata": {},
   "outputs": [],
   "source": [
    "import time"
   ]
  },
  {
   "cell_type": "code",
   "execution_count": null,
   "id": "8736012f-4be3-4e41-bacf-c6fccb9a433e",
   "metadata": {},
   "outputs": [],
   "source": [
    "for i in range(10):\n",
    "    with open('hello.log', 'a') as f:\n",
    "        f.write(\"run %i\\n\"%i)\n",
    "    time.sleep(5)"
   ]
  }
 ],
 "metadata": {
  "kernelspec": {
   "display_name": "Python 3",
   "language": "python",
   "name": "python3"
  },
  "language_info": {
   "codemirror_mode": {
    "name": "ipython",
    "version": 3
   },
   "file_extension": ".py",
   "mimetype": "text/x-python",
   "name": "python",
   "nbconvert_exporter": "python",
   "pygments_lexer": "ipython3",
   "version": "3.9.5"
  }
 },
 "nbformat": 4,
 "nbformat_minor": 5
}
